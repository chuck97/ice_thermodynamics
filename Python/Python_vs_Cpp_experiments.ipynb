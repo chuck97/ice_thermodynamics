{
 "cells": [
  {
   "cell_type": "code",
   "execution_count": null,
   "id": "db09e0cf",
   "metadata": {},
   "outputs": [],
   "source": [
    "import numpy as np\n",
    "import matplotlib.pyplot as plt\n",
    "import utils.visualizer as uv\n",
    "import utils.engine as ue"
   ]
  },
  {
   "cell_type": "code",
   "execution_count": null,
   "id": "d17b20c5",
   "metadata": {},
   "outputs": [],
   "source": [
    "%load_ext autoreload\n",
    "%autoreload 2"
   ]
  },
  {
   "cell_type": "markdown",
   "id": "c1d76ca0",
   "metadata": {},
   "source": [
    "## 1. 1dice_freezing"
   ]
  },
  {
   "cell_type": "code",
   "execution_count": null,
   "id": "6a324b4b",
   "metadata": {},
   "outputs": [],
   "source": [
    "ice_thickness_init = 2.0\n",
    "Ni = 10\n",
    "dzi_init = np.full(Ni, ice_thickness_init/Ni)\n",
    "salinity_init = np.linspace(4.0, 1.0, Ni)\n",
    "Tis_init = -10.0\n",
    "\n",
    "time_step=3600.0\n",
    "Ta=lambda t: -30.0\n",
    "\n",
    "Ti_func_init = lambda z: (z*Tis_init + (ice_thickness_init-z)*ue.Tf_i(30.0))/ice_thickness_init\n",
    "ice_cells_init = dzi_init.cumsum() - dzi_init/2"
   ]
  },
  {
   "cell_type": "code",
   "execution_count": null,
   "id": "cbd162ff",
   "metadata": {},
   "outputs": [],
   "source": [
    "process_1dice_freezing = ue.main_process\\\n",
    "(\n",
    "    time_step=time_step,\n",
    "    time_end=250*time_step,\n",
    "    N_pseudoiter=25,\n",
    "    Ti_init=Ti_func_init(ice_cells_init),\n",
    "    Ts_init=[],\n",
    "    Tis_init=Tis_init,\n",
    "    Tsa_init=None,\n",
    "    dzi_init=dzi_init,\n",
    "    dzs_init=[],\n",
    "    salinity=salinity_init,\n",
    "    snow_thickness_threshold=0.05,\n",
    "    Toi=lambda t: ue.Tf_i(30.0),\n",
    "    Ta=Ta,\n",
    "    p=lambda t: 0.0,\n",
    "    F_atm_ice = lambda T, time: ue.rho_a*ue.c_pa*ue.C_sh*15.0*(Ta(time) - T),\n",
    "    F_atm_snow=lambda T, time: 0.0,\n",
    "    F_sw=lambda t: 0.0,\n",
    "    F_ocn=lambda T, time: 0.0,\n",
    "    json_output_folder='test_1dice_freezing/',\n",
    "    json_ice_prefix='python_1dice_freezing',\n",
    "    json_snow_prefix=None\n",
    ")"
   ]
  },
  {
   "cell_type": "markdown",
   "id": "09dc2fb7",
   "metadata": {},
   "source": [
    "## 2. 1dice_melting"
   ]
  },
  {
   "cell_type": "code",
   "execution_count": null,
   "id": "c7268a76",
   "metadata": {},
   "outputs": [],
   "source": [
    "ice_thickness_init = 2.0\n",
    "Ni = 10\n",
    "dzi_init = np.full(Ni, ice_thickness_init/Ni)\n",
    "salinity_init = np.linspace(4.0, 1.0, Ni)\n",
    "Tis_init = -10.0\n",
    "\n",
    "time_step=3600.0\n",
    "melt_time_end = 200*time_step\n",
    "Ta=lambda t: -20.0 + 30.0*t/melt_time_end if t < melt_time_end else 10.0 \n",
    "\n",
    "Ti_func_init = lambda z: (z*Tis_init + (ice_thickness_init-z)*ue.Tf_i(30.0))/ice_thickness_init\n",
    "ice_cells_init = dzi_init.cumsum() - dzi_init/2"
   ]
  },
  {
   "cell_type": "code",
   "execution_count": null,
   "id": "4dec6c54",
   "metadata": {},
   "outputs": [],
   "source": [
    "process_1dice_melting = ue.main_process\\\n",
    "(\n",
    "    time_step=time_step,\n",
    "    time_end=500*time_step,\n",
    "    N_pseudoiter=25,\n",
    "    Ti_init=Ti_func_init(ice_cells_init),\n",
    "    Ts_init=[],\n",
    "    Tis_init=Tis_init,\n",
    "    Tsa_init=None,\n",
    "    dzi_init=dzi_init,\n",
    "    dzs_init=[],\n",
    "    salinity=salinity_init,\n",
    "    snow_thickness_threshold=0.05,\n",
    "    Toi=lambda t: ue.Tf_i(30.0),\n",
    "    Ta=Ta,\n",
    "    p=lambda t: 0.0,\n",
    "    F_atm_ice = lambda T, time: ue.rho_a*ue.c_pa*ue.C_sh*15.0*(Ta(time) - T),\n",
    "    F_atm_snow=lambda T, time: 0.0,\n",
    "    F_sw=lambda t: 0.0,\n",
    "    F_ocn=lambda T, time: 0.0,\n",
    "    json_output_folder='test_1dice_melting/',\n",
    "    json_ice_prefix='python_1dice_melting',\n",
    "    json_snow_prefix=None\n",
    ")"
   ]
  }
 ],
 "metadata": {
  "kernelspec": {
   "display_name": "Python 3 (ipykernel)",
   "language": "python",
   "name": "python3"
  },
  "language_info": {
   "codemirror_mode": {
    "name": "ipython",
    "version": 3
   },
   "file_extension": ".py",
   "mimetype": "text/x-python",
   "name": "python",
   "nbconvert_exporter": "python",
   "pygments_lexer": "ipython3",
   "version": "3.10.6"
  }
 },
 "nbformat": 4,
 "nbformat_minor": 5
}
