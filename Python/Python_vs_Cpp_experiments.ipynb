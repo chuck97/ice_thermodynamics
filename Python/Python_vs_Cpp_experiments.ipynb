{
 "cells": [
  {
   "cell_type": "code",
   "execution_count": null,
   "id": "147607f0",
   "metadata": {},
   "outputs": [],
   "source": [
    "import numpy as np\n",
    "import matplotlib.pyplot as plt\n",
    "import utils.visualizer as uv\n",
    "import utils.engine as ue"
   ]
  },
  {
   "cell_type": "code",
   "execution_count": null,
   "id": "399621a7",
   "metadata": {},
   "outputs": [],
   "source": [
    "%load_ext autoreload\n",
    "%autoreload 2"
   ]
  },
  {
   "cell_type": "markdown",
   "id": "8b217ff0",
   "metadata": {},
   "source": [
    "## 1. 1dice_freezing"
   ]
  },
  {
   "cell_type": "code",
   "execution_count": null,
   "id": "0f12813d",
   "metadata": {},
   "outputs": [],
   "source": [
    "ice_thickness_init = 2.0\n",
    "Ni = 10\n",
    "dzi_init = np.full(Ni, ice_thickness_init/Ni)\n",
    "salinity_init = np.linspace(4.0, 1.0, Ni)\n",
    "Tis_init = -10.0\n",
    "\n",
    "time_step=3600.0\n",
    "Ta=lambda t: -30.0\n",
    "\n",
    "Ti_func_init = lambda z: (z*Tis_init + (ice_thickness_init-z)*ue.Tf_i(30.0))/ice_thickness_init\n",
    "ice_cells_init = dzi_init.cumsum() - dzi_init/2"
   ]
  },
  {
   "cell_type": "code",
   "execution_count": null,
   "id": "7c06bc53",
   "metadata": {},
   "outputs": [],
   "source": [
    "process_1dice_freezing = ue.main_process\\\n",
    "(\n",
    "    time_step=time_step,\n",
    "    time_end=250*time_step,\n",
    "    N_pseudoiter=25,\n",
    "    Ti_init=Ti_func_init(ice_cells_init),\n",
    "    Ts_init=[],\n",
    "    Tis_init=Tis_init,\n",
    "    Tsa_init=np.nan,\n",
    "    dzi_init=dzi_init,\n",
    "    dzs_init=[],\n",
    "    salinity=salinity_init,\n",
    "    snow_thickness_threshold=0.05,\n",
    "    Toi=lambda t: ue.Tf_i(30.0),\n",
    "    Ta=Ta,\n",
    "    p=lambda t: 0.0,\n",
    "    F_atm_ice = lambda T, time: ue.rho_a*ue.c_pa*ue.C_sh*15.0*(Ta(time) - T),\n",
    "    F_atm_snow=lambda T, time: 0.0,\n",
    "    F_sw=lambda t: 0.0,\n",
    "    F_ocn=lambda T, time: 0.0,\n",
    "    json_output_folder='test_1dice_freezing/',\n",
    "    json_ice_prefix='python_1dice_freezing',\n",
    "    json_snow_prefix=None\n",
    ")"
   ]
  },
  {
   "cell_type": "code",
   "execution_count": null,
   "id": "db42f55a",
   "metadata": {},
   "outputs": [],
   "source": [
    "uv.animate([process_1dice_freezing])"
   ]
  },
  {
   "cell_type": "markdown",
   "id": "3181ca8f",
   "metadata": {},
   "source": [
    "## 2. 1dice_melting"
   ]
  },
  {
   "cell_type": "code",
   "execution_count": null,
   "id": "d4da79dc",
   "metadata": {},
   "outputs": [],
   "source": [
    "ice_thickness_init = 2.0\n",
    "Ni = 10\n",
    "dzi_init = np.full(Ni, ice_thickness_init/Ni)\n",
    "salinity_init = np.linspace(4.0, 1.0, Ni)\n",
    "Tis_init = -10.0\n",
    "\n",
    "time_step=3600.0\n",
    "melt_time_end = 200*time_step\n",
    "Ta=lambda t: -20.0 + 30.0*t/melt_time_end if t < melt_time_end else 10.0 \n",
    "\n",
    "Ti_func_init = lambda z: (z*Tis_init + (ice_thickness_init-z)*ue.Tf_i(30.0))/ice_thickness_init\n",
    "ice_cells_init = dzi_init.cumsum() - dzi_init/2"
   ]
  },
  {
   "cell_type": "code",
   "execution_count": null,
   "id": "966e3932",
   "metadata": {},
   "outputs": [],
   "source": [
    "process_1dice_melting = ue.main_process\\\n",
    "(\n",
    "    time_step=time_step,\n",
    "    time_end=500*time_step,\n",
    "    N_pseudoiter=25,\n",
    "    Ti_init=Ti_func_init(ice_cells_init),\n",
    "    Ts_init=[],\n",
    "    Tis_init=Tis_init,\n",
    "    Tsa_init=None,\n",
    "    dzi_init=dzi_init,\n",
    "    dzs_init=[],\n",
    "    salinity=salinity_init,\n",
    "    snow_thickness_threshold=0.05,\n",
    "    Toi=lambda t: ue.Tf_i(30.0),\n",
    "    Ta=Ta,\n",
    "    p=lambda t: 0.0,\n",
    "    F_atm_ice = lambda T, time: ue.rho_a*ue.c_pa*ue.C_sh*15.0*(Ta(time) - T),\n",
    "    F_atm_snow=lambda T, time: 0.0,\n",
    "    F_sw=lambda t: 0.0,\n",
    "    F_ocn=lambda T, time: 0.0,\n",
    "    json_output_folder='test_1dice_melting/',\n",
    "    json_ice_prefix='python_1dice_melting',\n",
    "    json_snow_prefix=None\n",
    ")"
   ]
  },
  {
   "cell_type": "markdown",
   "id": "5554e0ee",
   "metadata": {},
   "source": [
    "## 3. 1dice_cycle"
   ]
  },
  {
   "cell_type": "code",
   "execution_count": null,
   "id": "3d57c979",
   "metadata": {},
   "outputs": [],
   "source": [
    "def linear_year_exp(winter_time, spring_time, summer_time, autumn_time,\n",
    "                    lowest_temp, highest_temp,\n",
    "                    lowest_p, highest_p,\n",
    "                    t):\n",
    "    t %= (winter_time + spring_time + summer_time + autumn_time)\n",
    "    if t < winter_time: # winter\n",
    "        return lowest_temp, highest_p\n",
    "    elif t < (winter_time + spring_time): # spring\n",
    "        return lowest_temp + (t - winter_time)*(highest_temp - lowest_temp)/spring_time,\\\n",
    "               highest_p + (t - winter_time)*(lowest_p - highest_p)/spring_time\n",
    "    elif t < (winter_time + spring_time + summer_time): # summer\n",
    "        return highest_temp, lowest_p\n",
    "    else: # autumn\n",
    "        return highest_temp + (t - (winter_time + spring_time + summer_time))\\\n",
    "                             *(lowest_temp - highest_temp)/autumn_time,\\\n",
    "               lowest_p + (t - (winter_time + spring_time + summer_time))*(highest_p - lowest_p)/autumn_time"
   ]
  },
  {
   "cell_type": "code",
   "execution_count": null,
   "id": "e49f7619",
   "metadata": {},
   "outputs": [],
   "source": [
    "ice_thickness_init = 4.0\n",
    "Ni = 30\n",
    "dzi_init = np.full(Ni, ice_thickness_init/Ni)\n",
    "salinity_init = np.linspace(4.0, 1.0, Ni)\n",
    "Tis_init = -15.0\n",
    "\n",
    "time_step=3600.0\n",
    "winter_time = 350*time_step\n",
    "spring_time = 200*time_step\n",
    "summer_time = 150*time_step\n",
    "autumn_time = 200*time_step\n",
    "year_time = winter_time + spring_time + summer_time + autumn_time\n",
    "lowest_temp = -30.0\n",
    "highest_temp = 10.0\n",
    "lowest_p = 0.0\n",
    "highest_p = 0.0\n",
    "Ta=lambda t: linear_year_exp(winter_time, spring_time, summer_time, autumn_time,\n",
    "                             lowest_temp, highest_temp,\n",
    "                             lowest_p, highest_p, t)[0]\n",
    "\n",
    "Ti_func_init = lambda z: (z*Tis_init + (ice_thickness_init-z)*ue.Tf_i(30.0))/ice_thickness_init\n",
    "ice_cells_init = dzi_init.cumsum() - dzi_init/2"
   ]
  },
  {
   "cell_type": "code",
   "execution_count": null,
   "id": "37aed8f4",
   "metadata": {
    "scrolled": true
   },
   "outputs": [],
   "source": [
    "process_1dice_cycle = ue.main_process\\\n",
    "(\n",
    "    time_step=time_step,\n",
    "    time_end=3*year_time,\n",
    "    N_pseudoiter=25,\n",
    "    Ti_init=Ti_func_init(ice_cells_init),\n",
    "    Ts_init=[],\n",
    "    Tis_init=Tis_init,\n",
    "    Tsa_init=None,\n",
    "    dzi_init=dzi_init,\n",
    "    dzs_init=[],\n",
    "    salinity=salinity_init,\n",
    "    snow_thickness_threshold=0.05,\n",
    "    Toi=lambda t: ue.Tf_i(30.0),\n",
    "    Ta=Ta,\n",
    "    p=lambda t: 0.0,\n",
    "    F_atm_ice = lambda T, time: ue.rho_a*ue.c_pa*ue.C_sh*15.0*(Ta(time) - T),\n",
    "    F_atm_snow=lambda T, time: 0.0,\n",
    "    F_sw=lambda t: 0.0,\n",
    "    F_ocn=lambda T, time: 0.0,\n",
    "    json_output_folder='test_1dice_cycle/',\n",
    "    json_ice_prefix='python_1dice_cycle',\n",
    "    json_snow_prefix=None\n",
    ")"
   ]
  },
  {
   "cell_type": "markdown",
   "id": "c32c4862",
   "metadata": {},
   "source": [
    "## 4. 1dice_1dsnow_freezing"
   ]
  },
  {
   "cell_type": "code",
   "execution_count": null,
   "id": "f2ffba70",
   "metadata": {},
   "outputs": [],
   "source": [
    "ice_thickness_init = 2.0\n",
    "snow_thickness_init = 0.1\n",
    "Ni = 20\n",
    "Ns = 2\n",
    "dzi_init = np.full(Ni, ice_thickness_init/Ni)\n",
    "dzs_init = np.full(Ns, snow_thickness_init/Ns)\n",
    "salinity_init = np.linspace(4.0, 1.0, Ni)\n",
    "Tis_init = -15.0\n",
    "Tsa_init = -20.0\n",
    "\n",
    "time_step=3600.0\n",
    "Ta=lambda t: -30.0\n",
    "\n",
    "Ti_func_init = lambda z: (z*Tis_init + (ice_thickness_init-z)*ue.Tf_i(30.0))/ice_thickness_init\n",
    "ice_cells_init = dzi_init.cumsum() - dzi_init/2\n",
    "Ts_func_init = lambda z: (z*Tsa_init + (snow_thickness_init-z)*Tis_init)/snow_thickness_init\n",
    "snow_cells_init = dzs_init.cumsum() - dzs_init/2"
   ]
  },
  {
   "cell_type": "code",
   "execution_count": null,
   "id": "cc92d9f6",
   "metadata": {
    "scrolled": true
   },
   "outputs": [],
   "source": [
    "process_1dice_1dsnow_freezing = ue.main_process\\\n",
    "(\n",
    "    time_step=time_step,\n",
    "    time_end=500*time_step,\n",
    "    N_pseudoiter=25,\n",
    "    Ti_init=Ti_func_init(ice_cells_init),\n",
    "    Ts_init=Ts_func_init(snow_cells_init),\n",
    "    Tis_init=Tis_init,\n",
    "    Tsa_init=Tsa_init,\n",
    "    dzi_init=dzi_init,\n",
    "    dzs_init=dzs_init,\n",
    "    salinity=salinity_init,\n",
    "    snow_thickness_threshold=0.05,\n",
    "    Toi=lambda t: ue.Tf_i(30.0),\n",
    "    Ta=Ta,\n",
    "    p=lambda t: 0.0,\n",
    "    F_atm_ice=lambda T, time: ue.rho_a*ue.c_pa*ue.C_sh*15.0*(Ta(time) - T),\n",
    "    F_atm_snow=lambda T, time: ue.rho_a*ue.c_pa*ue.C_sh*15.0*(Ta(time) - T),\n",
    "    F_sw=lambda t: 0.0,\n",
    "    F_ocn=lambda T, time: 0.0,\n",
    "    json_output_folder='test_1dice_1dsnow_freezing/',\n",
    "    json_ice_prefix='python_ice',\n",
    "    json_snow_prefix='python_snow'\n",
    ")"
   ]
  },
  {
   "cell_type": "markdown",
   "id": "59d83c50",
   "metadata": {},
   "source": [
    "## 5. 1dice_1dsnow_melting"
   ]
  },
  {
   "cell_type": "code",
   "execution_count": null,
   "id": "5412272e",
   "metadata": {},
   "outputs": [],
   "source": [
    "ice_thickness_init = 2.0\n",
    "snow_thickness_init = 0.1\n",
    "Ni = 20\n",
    "Ns = 2\n",
    "dzi_init = np.full(Ni, ice_thickness_init/Ni)\n",
    "dzs_init = np.full(Ns, snow_thickness_init/Ns)\n",
    "salinity_init = np.linspace(4.0, 1.0, Ni)\n",
    "Tis_init = -15.0\n",
    "Tsa_init = -20.0\n",
    "\n",
    "time_step=3600.0\n",
    "melt_time_end = 200*time_step\n",
    "Ta=lambda t: -20.0 + 30.0*t/melt_time_end if t < melt_time_end else 10.0 \n",
    "\n",
    "Ti_func_init = lambda z: (z*Tis_init + (ice_thickness_init-z)*ue.Tf_i(30.0))/ice_thickness_init\n",
    "ice_cells_init = dzi_init.cumsum() - dzi_init/2\n",
    "Ts_func_init = lambda z: (z*Tsa_init + (snow_thickness_init-z)*Tis_init)/snow_thickness_init\n",
    "snow_cells_init = dzs_init.cumsum() - dzs_init/2"
   ]
  },
  {
   "cell_type": "code",
   "execution_count": null,
   "id": "7fa76cac",
   "metadata": {
    "scrolled": true
   },
   "outputs": [],
   "source": [
    "process_1dice_1dsnow_freezing = ue.main_process\\\n",
    "(\n",
    "    time_step=time_step,\n",
    "    time_end=500*time_step,\n",
    "    N_pseudoiter=25,\n",
    "    Ti_init=Ti_func_init(ice_cells_init),\n",
    "    Ts_init=Ts_func_init(snow_cells_init),\n",
    "    Tis_init=Tis_init,\n",
    "    Tsa_init=Tsa_init,\n",
    "    dzi_init=dzi_init,\n",
    "    dzs_init=dzs_init,\n",
    "    salinity=salinity_init,\n",
    "    snow_thickness_threshold=0.05,\n",
    "    Toi=lambda t: ue.Tf_i(30.0),\n",
    "    Ta=Ta,\n",
    "    p=lambda t: 0.0,\n",
    "    F_atm_ice=lambda T, time: ue.rho_a*ue.c_pa*ue.C_sh*15.0*(Ta(time) - T),\n",
    "    F_atm_snow=lambda T, time: ue.rho_a*ue.c_pa*ue.C_sh*15.0*(Ta(time) - T),\n",
    "    F_sw=lambda t: 0.0,\n",
    "    F_ocn=lambda T, time: 0.0,\n",
    "    json_output_folder='test_1dice_1dsnow_melting/',\n",
    "    json_ice_prefix='python_ice',\n",
    "    json_snow_prefix='python_snow'\n",
    ")"
   ]
  }
 ],
 "metadata": {
  "kernelspec": {
   "display_name": "Python 3 (ipykernel)",
   "language": "python",
   "name": "python3"
  },
  "language_info": {
   "codemirror_mode": {
    "name": "ipython",
    "version": 3
   },
   "file_extension": ".py",
   "mimetype": "text/x-python",
   "name": "python",
   "nbconvert_exporter": "python",
   "pygments_lexer": "ipython3",
   "version": "3.10.6"
  }
 },
 "nbformat": 4,
 "nbformat_minor": 5
}
