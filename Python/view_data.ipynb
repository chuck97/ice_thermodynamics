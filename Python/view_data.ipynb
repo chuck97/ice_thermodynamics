{
 "cells": [
  {
   "cell_type": "code",
   "execution_count": 1,
   "id": "3a4e162c",
   "metadata": {},
   "outputs": [],
   "source": [
    "import numpy as np\n",
    "import pandas as pd\n",
    "import matplotlib.pyplot as plt\n",
    "import utils.engine as uv"
   ]
  },
  {
   "cell_type": "code",
   "execution_count": 2,
   "id": "9f9b44f6",
   "metadata": {},
   "outputs": [],
   "source": [
    "with open(\"Validation/SHEBA_Data/01-forcing.dat\") as file:\n",
    "    arr = file.readlines()\n",
    "    \n",
    "cols_1 = [colname.replace('\\n', '') for colname in arr[0].split(\" \") if colname]\n",
    "file_1 = np.array([[float(el) for el in line.split(\" \") if el] for line in arr[1:]])"
   ]
  },
  {
   "cell_type": "code",
   "execution_count": 3,
   "id": "90c57cff",
   "metadata": {},
   "outputs": [],
   "source": [
    "with open(\"Validation/SHEBA_Data/02-hs-hi_thickness.dat\") as file:\n",
    "    arr = file.readlines()\n",
    "    \n",
    "cols_2 = [colname.replace('\\n', '') for colname in arr[0].split(\" \") if colname]\n",
    "file_2 = np.array([[float(el) for el in line.split(\" \") if el] for line in arr[1:]])"
   ]
  },
  {
   "cell_type": "code",
   "execution_count": 4,
   "id": "0af79d60",
   "metadata": {},
   "outputs": [],
   "source": [
    "with open(\"Validation/SHEBA_Data/06-depth_pit.dat\") as file:\n",
    "    arr = file.readlines()\n",
    "    \n",
    "file_6 = np.array([[float(el) for el in line.split(\" \") if el] for line in arr])\n",
    "file_6[:, 0] = np.round(file_6[:, 0], 4)"
   ]
  },
  {
   "cell_type": "code",
   "execution_count": 5,
   "id": "2c5e1a7b",
   "metadata": {},
   "outputs": [],
   "source": [
    "with open(\"Validation/SHEBA_Data/07-pit_fcond.dat\") as file:\n",
    "    arr = file.readlines()\n",
    "    \n",
    "cols_7 = [colname.replace('\\n', '') for colname in arr[0].split(\" \") if colname]\n",
    "file_7 = np.array([[float(el) for el in line.split(\" \") if el] for line in arr[1:]])"
   ]
  },
  {
   "cell_type": "code",
   "execution_count": 6,
   "id": "ba73ba0f",
   "metadata": {},
   "outputs": [],
   "source": [
    "with open(\"Validation/SHEBA_Data/08-tocn.dat\") as file:\n",
    "    arr = file.readlines()\n",
    "    \n",
    "file_8 = np.array([[float(el) for el in line.split(\" \") if el] for line in arr])"
   ]
  },
  {
   "cell_type": "code",
   "execution_count": 7,
   "id": "4f01daab",
   "metadata": {},
   "outputs": [],
   "source": [
    "with open(\"Validation/SHEBA_Data/09-focn.dat\") as file:\n",
    "    arr = file.readlines()\n",
    "    \n",
    "cols_9 = [colname.replace('\\n', '') for colname in arr[0].split(\" \") if colname]\n",
    "file_9 = np.array([[float(el) for el in line.split(\" \") if el] for line in arr[1:]])"
   ]
  },
  {
   "cell_type": "code",
   "execution_count": 8,
   "id": "7ad65c4b",
   "metadata": {},
   "outputs": [],
   "source": [
    "with open(\"Validation/SHEBA_Data/10-temp.dat\") as file:\n",
    "    arr = file.readlines()\n",
    "    \n",
    "file_10 = np.array([[float(el) for el in line.split(\" \") if el] for line in arr])"
   ]
  },
  {
   "cell_type": "code",
   "execution_count": 9,
   "id": "4b5a4000",
   "metadata": {},
   "outputs": [],
   "source": [
    "with open(\"Validation/SHEBA_Data/11-turbflux.dat\") as file:\n",
    "    arr = file.readlines()\n",
    "    \n",
    "cols_11 = [colname.replace('\\n', '') for colname in arr[0].split(\" \") if colname]\n",
    "file_11 = np.array([[float(el) for el in line.split(\" \") if el] for line in arr[1:]])"
   ]
  },
  {
   "cell_type": "code",
   "execution_count": 10,
   "id": "14c1cffc",
   "metadata": {},
   "outputs": [],
   "source": [
    "with open(\"Validation/SHEBA_Data/12-levels.dat\") as file:\n",
    "    Z = [float(z.replace(' ', '')[:-1]) for z in file.readlines()]"
   ]
  },
  {
   "cell_type": "code",
   "execution_count": 11,
   "id": "cfa9d8fb",
   "metadata": {},
   "outputs": [
    {
     "data": {
      "text/html": [
       "<div>\n",
       "<style scoped>\n",
       "    .dataframe tbody tr th:only-of-type {\n",
       "        vertical-align: middle;\n",
       "    }\n",
       "\n",
       "    .dataframe tbody tr th {\n",
       "        vertical-align: top;\n",
       "    }\n",
       "\n",
       "    .dataframe thead th {\n",
       "        text-align: right;\n",
       "    }\n",
       "</style>\n",
       "<table border=\"1\" class=\"dataframe\">\n",
       "  <thead>\n",
       "    <tr style=\"text-align: right;\">\n",
       "      <th></th>\n",
       "      <th>jday</th>\n",
       "      <th>hs_best</th>\n",
       "      <th>hf_best</th>\n",
       "      <th>hi_best</th>\n",
       "    </tr>\n",
       "  </thead>\n",
       "  <tbody>\n",
       "    <tr>\n",
       "      <th>0</th>\n",
       "      <td>303.0000</td>\n",
       "      <td>0.1600</td>\n",
       "      <td>0.0</td>\n",
       "      <td>-1.9400</td>\n",
       "    </tr>\n",
       "    <tr>\n",
       "      <th>1</th>\n",
       "      <td>303.0417</td>\n",
       "      <td>0.1598</td>\n",
       "      <td>0.0</td>\n",
       "      <td>-1.9401</td>\n",
       "    </tr>\n",
       "    <tr>\n",
       "      <th>2</th>\n",
       "      <td>303.0833</td>\n",
       "      <td>0.1596</td>\n",
       "      <td>0.0</td>\n",
       "      <td>-1.9402</td>\n",
       "    </tr>\n",
       "    <tr>\n",
       "      <th>3</th>\n",
       "      <td>303.1250</td>\n",
       "      <td>0.1594</td>\n",
       "      <td>0.0</td>\n",
       "      <td>-1.9403</td>\n",
       "    </tr>\n",
       "    <tr>\n",
       "      <th>4</th>\n",
       "      <td>303.1667</td>\n",
       "      <td>0.1592</td>\n",
       "      <td>0.0</td>\n",
       "      <td>-1.9404</td>\n",
       "    </tr>\n",
       "    <tr>\n",
       "      <th>...</th>\n",
       "      <td>...</td>\n",
       "      <td>...</td>\n",
       "      <td>...</td>\n",
       "      <td>...</td>\n",
       "    </tr>\n",
       "    <tr>\n",
       "      <th>8204</th>\n",
       "      <td>644.8334</td>\n",
       "      <td>-0.4432</td>\n",
       "      <td>-0.6</td>\n",
       "      <td>-2.0650</td>\n",
       "    </tr>\n",
       "    <tr>\n",
       "      <th>8205</th>\n",
       "      <td>644.8750</td>\n",
       "      <td>-0.4431</td>\n",
       "      <td>-0.6</td>\n",
       "      <td>-2.0649</td>\n",
       "    </tr>\n",
       "    <tr>\n",
       "      <th>8206</th>\n",
       "      <td>644.9166</td>\n",
       "      <td>-0.4430</td>\n",
       "      <td>-0.6</td>\n",
       "      <td>-2.0648</td>\n",
       "    </tr>\n",
       "    <tr>\n",
       "      <th>8207</th>\n",
       "      <td>644.9584</td>\n",
       "      <td>-0.4429</td>\n",
       "      <td>-0.6</td>\n",
       "      <td>-2.0647</td>\n",
       "    </tr>\n",
       "    <tr>\n",
       "      <th>8208</th>\n",
       "      <td>645.0000</td>\n",
       "      <td>-0.4428</td>\n",
       "      <td>-0.6</td>\n",
       "      <td>-2.0646</td>\n",
       "    </tr>\n",
       "  </tbody>\n",
       "</table>\n",
       "<p>8209 rows × 4 columns</p>\n",
       "</div>"
      ],
      "text/plain": [
       "          jday  hs_best  hf_best  hi_best\n",
       "0     303.0000   0.1600      0.0  -1.9400\n",
       "1     303.0417   0.1598      0.0  -1.9401\n",
       "2     303.0833   0.1596      0.0  -1.9402\n",
       "3     303.1250   0.1594      0.0  -1.9403\n",
       "4     303.1667   0.1592      0.0  -1.9404\n",
       "...        ...      ...      ...      ...\n",
       "8204  644.8334  -0.4432     -0.6  -2.0650\n",
       "8205  644.8750  -0.4431     -0.6  -2.0649\n",
       "8206  644.9166  -0.4430     -0.6  -2.0648\n",
       "8207  644.9584  -0.4429     -0.6  -2.0647\n",
       "8208  645.0000  -0.4428     -0.6  -2.0646\n",
       "\n",
       "[8209 rows x 4 columns]"
      ]
     },
     "execution_count": 11,
     "metadata": {},
     "output_type": "execute_result"
    }
   ],
   "source": [
    "pd.DataFrame(file_2, columns=cols_2)"
   ]
  },
  {
   "cell_type": "code",
   "execution_count": 17,
   "id": "48696aae",
   "metadata": {},
   "outputs": [
    {
     "data": {
      "text/plain": [
       "array([[303.    ,   3.9612],\n",
       "       [303.0417,   3.9576],\n",
       "       [303.0833,   3.9544],\n",
       "       ...,\n",
       "       [644.9166,      nan],\n",
       "       [644.9584,      nan],\n",
       "       [645.    ,      nan]])"
      ]
     },
     "execution_count": 17,
     "metadata": {},
     "output_type": "execute_result"
    }
   ],
   "source": [
    "file_9"
   ]
  },
  {
   "cell_type": "code",
   "execution_count": 25,
   "id": "e8096991",
   "metadata": {},
   "outputs": [],
   "source": [
    "data = pd.DataFrame(file_1, columns=cols_1)\n",
    "\n",
    "data_2 = pd.DataFrame(file_2, columns=cols_2)\n",
    "data = data.merge(data_2.iloc[:, 1:],\n",
    "                  left_on=(data['jday']*1000).astype('int32'),\n",
    "                  right_on=(data_2['jday']*1000).astype('int32')).iloc[:, 1:]\n",
    "\n",
    "data_6 = pd.DataFrame(file_6, columns=['jday', 'hs', 'hi', 'hs_level', 'hf_level', 'hi_level'])\n",
    "data = data.merge(data_6.iloc[:, 1:],\n",
    "                  left_on=(data['jday']*1000).astype('int32'),\n",
    "                  right_on=(data_6['jday']*1000).astype('int32')).iloc[:, 1:]\n",
    "\n",
    "data_7 = pd.DataFrame(file_7, columns=cols_7)\n",
    "data = data.merge(data_7.iloc[:, 1:],\n",
    "                  left_on=(data['jday']*1000).astype('int32'),\n",
    "                  right_on=(data_7['jday']*1000).astype('int32')).iloc[:, 1:]\n",
    "\n",
    "data_8 = pd.DataFrame(file_8, columns=['jday', 'Tocn'])\n",
    "data = data.merge(data_8.iloc[:, 1:],\n",
    "                  left_on=(data['jday']*1000).astype('int32'),\n",
    "                  right_on=(data_8['jday']*1000).astype('int32')).iloc[:, 1:]\n",
    "\n",
    "data_9 = pd.DataFrame(file_9, columns=cols_9)\n",
    "data = data.merge(data_9.iloc[:, 1:],\n",
    "                  left_on=(data['jday']*1000).astype('int32'),\n",
    "                  right_on=(data_9['jday']*1000).astype('int32')).iloc[:, 1:]\n",
    "\n",
    "data_10 = pd.DataFrame(file_10, columns=['jday'] + ['T_{}'.format(i) for i in range(1, 51)])\n",
    "data = data.merge(data_10.iloc[:, 1:],\n",
    "                  left_on=(data['jday']*1000).astype('int32'),\n",
    "                  right_on=(data_10['jday']*1000).astype('int32')).iloc[:, 1:]\n",
    "\n",
    "data_11 = pd.DataFrame(file_11, columns=cols_11)\n",
    "data = data.merge(data_11.iloc[:, 1:],\n",
    "                  left_on=(data['jday']*1000).astype('int32'),\n",
    "                  right_on=(data_11['jday']*1000).astype('int32')).iloc[:, 1:]"
   ]
  },
  {
   "cell_type": "code",
   "execution_count": 32,
   "id": "85bc610a",
   "metadata": {},
   "outputs": [],
   "source": [
    "data.to_csv('full_data.csv')"
   ]
  },
  {
   "cell_type": "code",
   "execution_count": null,
   "id": "20073dc7",
   "metadata": {},
   "outputs": [],
   "source": [
    "filter_time = lambda arr: (thicknesses[0, 0] <= arr) & (arr < vals[-1, 0])"
   ]
  },
  {
   "cell_type": "code",
   "execution_count": null,
   "id": "a65085a0",
   "metadata": {},
   "outputs": [],
   "source": [
    "filter_vals = filter_time(vals[:, 0])\n",
    "filter_thicknesses = filter_time(thicknesses[:, 0])\n",
    "\n",
    "plt.figure(figsize=(20, 10))\n",
    "plt.imshow(vals[:, 1:][filter_vals].T, aspect='auto', cmap='rainbow',\n",
    "           extent=[vals[:, 0][filter_vals][0], vals[:, 0][filter_vals][-1], Z[-1], Z[0]])\n",
    "plt.plot(thicknesses[:, 0][filter_thicknesses], thicknesses[:, 3][filter_thicknesses],\n",
    "         color='white', lw=3, ls=':', label='snow surface')\n",
    "plt.plot(thicknesses[:, 0][filter_thicknesses], thicknesses[:, 4][filter_thicknesses],\n",
    "         color='white', lw=3, ls='--', label='snow-ice interface')\n",
    "plt.plot(thicknesses[:, 0][filter_thicknesses], thicknesses[:, 5][filter_thicknesses],\n",
    "         color='white', lw=3, label='ice base')\n",
    "plt.xticks(size=15)\n",
    "plt.yticks(size=15)\n",
    "plt.legend(loc='lower left', facecolor='black', labelcolor='white', prop={'size': 20})\n",
    "plt.colorbar()\n",
    "plt.show()"
   ]
  },
  {
   "cell_type": "code",
   "execution_count": null,
   "id": "8f229d11",
   "metadata": {},
   "outputs": [],
   "source": [
    "mesh_Z = np.array([Z]*sum(filter_vals))"
   ]
  },
  {
   "cell_type": "code",
   "execution_count": null,
   "id": "eba60ec3",
   "metadata": {},
   "outputs": [],
   "source": [
    "filter_ice = (thicknesses[:, [5]][filter_thicknesses] < mesh_Z) & \\\n",
    "             (mesh_Z < thicknesses[:, [4]][filter_thicknesses])"
   ]
  },
  {
   "cell_type": "code",
   "execution_count": null,
   "id": "c1d647b8",
   "metadata": {},
   "outputs": [],
   "source": [
    "Z_ice = [np.concatenate(([inter], line_ice[filt_ice], [base]))\\\n",
    "         for inter, line_ice, filt_ice, base in zip(thicknesses[:, 4], mesh_Z, filter_ice, thicknesses[:, 5])]"
   ]
  },
  {
   "cell_type": "code",
   "execution_count": null,
   "id": "4f4dbe3d",
   "metadata": {},
   "outputs": [],
   "source": [
    "temp_ice = [line_ice[filt_ice] for line_ice, filt_ice in zip(vals[:, 1:], filter_ice)]"
   ]
  },
  {
   "cell_type": "code",
   "execution_count": null,
   "id": "40ed98e9",
   "metadata": {},
   "outputs": [],
   "source": [
    "vis_0 = uv.animate(dzi_arr, dzs_arr,\n",
    "                   temp_oi_arr, temp_ice_arr, temp_is_arr, temp_snow_arr, temp_sa_arr,\n",
    "                   timeline,\n",
    "                   rho_ice_arr, ue.rho_w, ue.rho_s,\n",
    "                   snow_filter,\n",
    "                   clip_start=10, clip_end=85)"
   ]
  },
  {
   "cell_type": "code",
   "execution_count": 107,
   "id": "2b6758bc",
   "metadata": {},
   "outputs": [
    {
     "name": "stdout",
     "output_type": "stream",
     "text": [
      "0 ((array([[1, 2],\n",
      "       [3, 4]]),), (array([[1, 2],\n",
      "       [3, 4]]),)) 2\n",
      "1 ((array([[5, 6],\n",
      "       [7, 8]]),), (array([[5, 6],\n",
      "       [7, 8]]),)) 2\n",
      "2 ((array([[ 9, 10],\n",
      "       [11, 12]]),), (array([[ 9, 10],\n",
      "       [11, 12]]),)) 2\n"
     ]
    }
   ],
   "source": [
    "test1 = \\\n",
    "[\n",
    "    np.array(\n",
    "        [\n",
    "            [[1, 2], [3, 4]],\n",
    "            [[5, 6], [7, 8]],\n",
    "            [[9, 10], [11, 12]]\n",
    "        ]\n",
    "    )\n",
    "]\n",
    "\n",
    "test2 = \\\n",
    "[\n",
    "    np.array(\n",
    "        [\n",
    "            [[1, 2], [3, 4]],\n",
    "            [[5, 6], [7, 8]],\n",
    "            [[9, 10], [11, 12]]\n",
    "        ]\n",
    "    )\n",
    "]\n",
    "\n",
    "\n",
    "    \n",
    "# for data in zip(zip(*test1), zip(*test2), *(zip(*test) for test in [test1, test2])):\n",
    "#     print(data)\n",
    "for i, t in enumerate(zip(zip(*test1), zip(*test2))):\n",
    "    print(i, t, len(t))"
   ]
  },
  {
   "cell_type": "code",
   "execution_count": 47,
   "id": "02f97ea9",
   "metadata": {},
   "outputs": [
    {
     "data": {
      "image/png": "[encoded data removed]",
      "text/plain": [
       "<Figure size 1080x720 with 1 Axes>"
      ]
     },
     "metadata": {
      "needs_background": "light"
     },
     "output_type": "display_data"
    }
   ],
   "source": [
    "fig = plt.figure(figsize=(15, 10))\n",
    "ax = fig.add_subplot()\n",
    "# ax2 = fig.add_subplot()\n",
    "ax.plot([1, 2], [3, 4])\n",
    "ax.plot([3, 4], [1, 2])\n",
    "ax.grid()\n",
    "plt.show()"
   ]
  }
 ],
 "metadata": {
  "kernelspec": {
   "display_name": "Python 3 (ipykernel)",
   "language": "python",
   "name": "python3"
  },
  "language_info": {
   "codemirror_mode": {
    "name": "ipython",
    "version": 3
   },
   "file_extension": ".py",
   "mimetype": "text/x-python",
   "name": "python",
   "nbconvert_exporter": "python",
   "pygments_lexer": "ipython3",
   "version": "3.8.10"
  }
 },
 "nbformat": 4,
 "nbformat_minor": 5
}
