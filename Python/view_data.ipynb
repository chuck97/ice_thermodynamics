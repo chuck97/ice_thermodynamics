{
 "cells": [
  {
   "cell_type": "code",
   "execution_count": 114,
   "id": "3a4e162c",
   "metadata": {},
   "outputs": [],
   "source": [
    "import numpy as np\n",
    "import pandas as pd\n",
    "import matplotlib.colors as clr\n",
    "import matplotlib.pyplot as plt\n",
    "import utils.engine as uv"
   ]
  },
  {
   "cell_type": "code",
   "execution_count": 2,
   "id": "9f9b44f6",
   "metadata": {},
   "outputs": [],
   "source": [
    "with open(\"Validation/SHEBA_Data/01-forcing.dat\") as file:\n",
    "    arr = file.readlines()\n",
    "    \n",
    "cols_1 = [colname.replace('\\n', '') for colname in arr[0].split(\" \") if colname]\n",
    "file_1 = np.array([[float(el) for el in line.split(\" \") if el] for line in arr[1:]])"
   ]
  },
  {
   "cell_type": "code",
   "execution_count": 3,
   "id": "90c57cff",
   "metadata": {},
   "outputs": [],
   "source": [
    "with open(\"Validation/SHEBA_Data/02-hs-hi_thickness.dat\") as file:\n",
    "    arr = file.readlines()\n",
    "    \n",
    "cols_2 = [colname.replace('\\n', '') for colname in arr[0].split(\" \") if colname]\n",
    "file_2 = np.array([[float(el) for el in line.split(\" \") if el] for line in arr[1:]])"
   ]
  },
  {
   "cell_type": "code",
   "execution_count": 4,
   "id": "0af79d60",
   "metadata": {},
   "outputs": [],
   "source": [
    "with open(\"Validation/SHEBA_Data/06-depth_pit.dat\") as file:\n",
    "    arr = file.readlines()\n",
    "    \n",
    "file_6 = np.array([[float(el) for el in line.split(\" \") if el] for line in arr])\n",
    "file_6[:, 0] = np.round(file_6[:, 0], 4)"
   ]
  },
  {
   "cell_type": "code",
   "execution_count": 5,
   "id": "2c5e1a7b",
   "metadata": {},
   "outputs": [],
   "source": [
    "with open(\"Validation/SHEBA_Data/07-pit_fcond.dat\") as file:\n",
    "    arr = file.readlines()\n",
    "    \n",
    "cols_7 = [colname.replace('\\n', '') for colname in arr[0].split(\" \") if colname]\n",
    "file_7 = np.array([[float(el) for el in line.split(\" \") if el] for line in arr[1:]])"
   ]
  },
  {
   "cell_type": "code",
   "execution_count": 6,
   "id": "ba73ba0f",
   "metadata": {},
   "outputs": [],
   "source": [
    "with open(\"Validation/SHEBA_Data/08-tocn.dat\") as file:\n",
    "    arr = file.readlines()\n",
    "    \n",
    "file_8 = np.array([[float(el) for el in line.split(\" \") if el] for line in arr])"
   ]
  },
  {
   "cell_type": "code",
   "execution_count": 7,
   "id": "4f01daab",
   "metadata": {},
   "outputs": [],
   "source": [
    "with open(\"Validation/SHEBA_Data/09-focn.dat\") as file:\n",
    "    arr = file.readlines()\n",
    "    \n",
    "cols_9 = [colname.replace('\\n', '') for colname in arr[0].split(\" \") if colname]\n",
    "file_9 = np.array([[float(el) for el in line.split(\" \") if el] for line in arr[1:]])"
   ]
  },
  {
   "cell_type": "code",
   "execution_count": 8,
   "id": "7ad65c4b",
   "metadata": {},
   "outputs": [],
   "source": [
    "with open(\"Validation/SHEBA_Data/10-temp.dat\") as file:\n",
    "    arr = file.readlines()\n",
    "    \n",
    "file_10 = np.array([[float(el) for el in line.split(\" \") if el] for line in arr])"
   ]
  },
  {
   "cell_type": "code",
   "execution_count": 9,
   "id": "4b5a4000",
   "metadata": {},
   "outputs": [],
   "source": [
    "with open(\"Validation/SHEBA_Data/11-turbflux.dat\") as file:\n",
    "    arr = file.readlines()\n",
    "    \n",
    "cols_11 = [colname.replace('\\n', '') for colname in arr[0].split(\" \") if colname]\n",
    "file_11 = np.array([[float(el) for el in line.split(\" \") if el] for line in arr[1:]])"
   ]
  },
  {
   "cell_type": "code",
   "execution_count": 25,
   "id": "e8096991",
   "metadata": {},
   "outputs": [],
   "source": [
    "data = pd.DataFrame(file_1, columns=cols_1)\n",
    "\n",
    "data_2 = pd.DataFrame(file_2, columns=cols_2)\n",
    "data = data.merge(data_2.iloc[:, 1:],\n",
    "                  left_on=(data['jday']*1000).astype('int32'),\n",
    "                  right_on=(data_2['jday']*1000).astype('int32')).iloc[:, 1:]\n",
    "\n",
    "data_6 = pd.DataFrame(file_6, columns=['jday', 'hs', 'hi', 'hs_level', 'hf_level', 'hi_level'])\n",
    "data = data.merge(data_6.iloc[:, 1:],\n",
    "                  left_on=(data['jday']*1000).astype('int32'),\n",
    "                  right_on=(data_6['jday']*1000).astype('int32')).iloc[:, 1:]\n",
    "\n",
    "data_7 = pd.DataFrame(file_7, columns=cols_7)\n",
    "data = data.merge(data_7.iloc[:, 1:],\n",
    "                  left_on=(data['jday']*1000).astype('int32'),\n",
    "                  right_on=(data_7['jday']*1000).astype('int32')).iloc[:, 1:]\n",
    "\n",
    "data_8 = pd.DataFrame(file_8, columns=['jday', 'Tocn'])\n",
    "data = data.merge(data_8.iloc[:, 1:],\n",
    "                  left_on=(data['jday']*1000).astype('int32'),\n",
    "                  right_on=(data_8['jday']*1000).astype('int32')).iloc[:, 1:]\n",
    "\n",
    "data_9 = pd.DataFrame(file_9, columns=cols_9)\n",
    "data = data.merge(data_9.iloc[:, 1:],\n",
    "                  left_on=(data['jday']*1000).astype('int32'),\n",
    "                  right_on=(data_9['jday']*1000).astype('int32')).iloc[:, 1:]\n",
    "\n",
    "data_10 = pd.DataFrame(file_10, columns=['jday'] + ['T_{}'.format(i) for i in range(1, 51)])\n",
    "data = data.merge(data_10.iloc[:, 1:],\n",
    "                  left_on=(data['jday']*1000).astype('int32'),\n",
    "                  right_on=(data_10['jday']*1000).astype('int32')).iloc[:, 1:]\n",
    "\n",
    "data_11 = pd.DataFrame(file_11, columns=cols_11)\n",
    "data = data.merge(data_11.iloc[:, 1:],\n",
    "                  left_on=(data['jday']*1000).astype('int32'),\n",
    "                  right_on=(data_11['jday']*1000).astype('int32')).iloc[:, 1:]"
   ]
  },
  {
   "cell_type": "code",
   "execution_count": 32,
   "id": "be9f8f3e",
   "metadata": {},
   "outputs": [],
   "source": [
    "# data.to_csv('Validation/full_data.csv', index=False)"
   ]
  },
  {
   "cell_type": "code",
   "execution_count": 42,
   "id": "0f0c2bdc",
   "metadata": {},
   "outputs": [],
   "source": [
    "with open(\"Validation/SHEBA_Data/12-levels.dat\") as file:\n",
    "    Z = [float(z.replace(' ', '')[:-1]) for z in file.readlines()]"
   ]
  },
  {
   "cell_type": "code",
   "execution_count": 5,
   "id": "fe61fdc3",
   "metadata": {},
   "outputs": [],
   "source": [
    "data = pd.read_csv('Validation/full_data.csv')"
   ]
  },
  {
   "cell_type": "code",
   "execution_count": 7,
   "id": "7e35bbe9",
   "metadata": {},
   "outputs": [
    {
     "data": {
      "text/plain": [
       "Index(['jday', 'uair', 'tair', 'qair', 'lwdo', 'swdo', 'prec', 'Focn_x',\n",
       "       'albe', 'hs_best', 'hf_best', 'hi_best', 'hs_x', 'hi_x', 'hs_level',\n",
       "       'hf_level', 'hi_level', 'Tss', 'Tis', 'Tib', 'Tsurf', 'hs_y', 'hi_y',\n",
       "       'hf', 'Fcss', 'Fcsb', 'Fcis', 'Fcib', 'Fmib', 'Focn_y', 'Trod', 'Fcsf',\n",
       "       'Tocn', 'focn_pit', 'T_1', 'T_2', 'T_3', 'T_4', 'T_5', 'T_6', 'T_7',\n",
       "       'T_8', 'T_9', 'T_10', 'T_11', 'T_12', 'T_13', 'T_14', 'T_15', 'T_16',\n",
       "       'T_17', 'T_18', 'T_19', 'T_20', 'T_21', 'T_22', 'T_23', 'T_24', 'T_25',\n",
       "       'T_26', 'T_27', 'T_28', 'T_29', 'T_30', 'T_31', 'T_32', 'T_33', 'T_34',\n",
       "       'T_35', 'T_36', 'T_37', 'T_38', 'T_39', 'T_40', 'T_41', 'T_42', 'T_43',\n",
       "       'T_44', 'T_45', 'T_46', 'T_47', 'T_48', 'T_49', 'T_50', 'fsen', 'flat'],\n",
       "      dtype='object')"
      ]
     },
     "execution_count": 7,
     "metadata": {},
     "output_type": "execute_result"
    }
   ],
   "source": [
    "data.columns"
   ]
  },
  {
   "cell_type": "markdown",
   "id": "ea779cfa",
   "metadata": {},
   "source": [
    "Выводы:\n",
    "1. hs_level и hs_best почему-то не равны\n",
    "2. hi_x, hi_y не равны, также как и hs_x и hs_y\n",
    "3. Focn_x, Focn_y и focn_pit не равны"
   ]
  },
  {
   "cell_type": "code",
   "execution_count": 23,
   "id": "8b566346",
   "metadata": {},
   "outputs": [
    {
     "data": {
      "text/html": [
       "<div>\n",
       "<style scoped>\n",
       "    .dataframe tbody tr th:only-of-type {\n",
       "        vertical-align: middle;\n",
       "    }\n",
       "\n",
       "    .dataframe tbody tr th {\n",
       "        vertical-align: top;\n",
       "    }\n",
       "\n",
       "    .dataframe thead th {\n",
       "        text-align: right;\n",
       "    }\n",
       "</style>\n",
       "<table border=\"1\" class=\"dataframe\">\n",
       "  <thead>\n",
       "    <tr style=\"text-align: right;\">\n",
       "      <th></th>\n",
       "      <th>jday</th>\n",
       "      <th>uair</th>\n",
       "      <th>tair</th>\n",
       "      <th>qair</th>\n",
       "      <th>lwdo</th>\n",
       "      <th>swdo</th>\n",
       "      <th>prec</th>\n",
       "      <th>Focn_x</th>\n",
       "      <th>albe</th>\n",
       "      <th>hs_best</th>\n",
       "      <th>...</th>\n",
       "      <th>T_43</th>\n",
       "      <th>T_44</th>\n",
       "      <th>T_45</th>\n",
       "      <th>T_46</th>\n",
       "      <th>T_47</th>\n",
       "      <th>T_48</th>\n",
       "      <th>T_49</th>\n",
       "      <th>T_50</th>\n",
       "      <th>fsen</th>\n",
       "      <th>flat</th>\n",
       "    </tr>\n",
       "  </thead>\n",
       "  <tbody>\n",
       "    <tr>\n",
       "      <th>0</th>\n",
       "      <td>303.0000</td>\n",
       "      <td>3.65</td>\n",
       "      <td>247.49</td>\n",
       "      <td>0.29</td>\n",
       "      <td>160.76</td>\n",
       "      <td>1.04</td>\n",
       "      <td>0.17</td>\n",
       "      <td>6.10</td>\n",
       "      <td>0.850</td>\n",
       "      <td>0.1600</td>\n",
       "      <td>...</td>\n",
       "      <td>-1.6</td>\n",
       "      <td>-1.6000</td>\n",
       "      <td>-1.6</td>\n",
       "      <td>-1.6000</td>\n",
       "      <td>-1.6000</td>\n",
       "      <td>-1.6000</td>\n",
       "      <td>-1.6000</td>\n",
       "      <td>-1.6</td>\n",
       "      <td>-9.2713</td>\n",
       "      <td>0.0660</td>\n",
       "    </tr>\n",
       "    <tr>\n",
       "      <th>1</th>\n",
       "      <td>303.0417</td>\n",
       "      <td>4.19</td>\n",
       "      <td>247.33</td>\n",
       "      <td>0.38</td>\n",
       "      <td>164.73</td>\n",
       "      <td>0.00</td>\n",
       "      <td>0.17</td>\n",
       "      <td>6.10</td>\n",
       "      <td>0.850</td>\n",
       "      <td>0.1598</td>\n",
       "      <td>...</td>\n",
       "      <td>-1.5</td>\n",
       "      <td>-1.5000</td>\n",
       "      <td>-1.6</td>\n",
       "      <td>-1.5000</td>\n",
       "      <td>-1.6000</td>\n",
       "      <td>-1.5000</td>\n",
       "      <td>-1.5000</td>\n",
       "      <td>-1.5</td>\n",
       "      <td>-8.4411</td>\n",
       "      <td>-1.1708</td>\n",
       "    </tr>\n",
       "    <tr>\n",
       "      <th>2</th>\n",
       "      <td>303.0833</td>\n",
       "      <td>3.25</td>\n",
       "      <td>249.64</td>\n",
       "      <td>0.47</td>\n",
       "      <td>216.70</td>\n",
       "      <td>0.29</td>\n",
       "      <td>0.18</td>\n",
       "      <td>6.09</td>\n",
       "      <td>0.850</td>\n",
       "      <td>0.1596</td>\n",
       "      <td>...</td>\n",
       "      <td>-1.5</td>\n",
       "      <td>-1.5000</td>\n",
       "      <td>-1.6</td>\n",
       "      <td>-1.5000</td>\n",
       "      <td>-1.6000</td>\n",
       "      <td>-1.5000</td>\n",
       "      <td>-1.5000</td>\n",
       "      <td>-1.5</td>\n",
       "      <td>-4.9328</td>\n",
       "      <td>-0.8478</td>\n",
       "    </tr>\n",
       "    <tr>\n",
       "      <th>3</th>\n",
       "      <td>303.1250</td>\n",
       "      <td>3.60</td>\n",
       "      <td>252.35</td>\n",
       "      <td>0.61</td>\n",
       "      <td>229.10</td>\n",
       "      <td>0.29</td>\n",
       "      <td>0.18</td>\n",
       "      <td>6.09</td>\n",
       "      <td>0.850</td>\n",
       "      <td>0.1594</td>\n",
       "      <td>...</td>\n",
       "      <td>-1.6</td>\n",
       "      <td>-1.6000</td>\n",
       "      <td>-1.6</td>\n",
       "      <td>-1.6000</td>\n",
       "      <td>-1.6000</td>\n",
       "      <td>-1.6000</td>\n",
       "      <td>-1.6000</td>\n",
       "      <td>-1.6</td>\n",
       "      <td>-1.0296</td>\n",
       "      <td>-0.5007</td>\n",
       "    </tr>\n",
       "    <tr>\n",
       "      <th>4</th>\n",
       "      <td>303.1667</td>\n",
       "      <td>3.31</td>\n",
       "      <td>254.08</td>\n",
       "      <td>0.72</td>\n",
       "      <td>236.40</td>\n",
       "      <td>0.00</td>\n",
       "      <td>0.18</td>\n",
       "      <td>6.09</td>\n",
       "      <td>0.850</td>\n",
       "      <td>0.1592</td>\n",
       "      <td>...</td>\n",
       "      <td>-1.6</td>\n",
       "      <td>-1.6000</td>\n",
       "      <td>-1.6</td>\n",
       "      <td>-1.6000</td>\n",
       "      <td>-1.6000</td>\n",
       "      <td>-1.5000</td>\n",
       "      <td>-1.5000</td>\n",
       "      <td>-1.5</td>\n",
       "      <td>-0.0882</td>\n",
       "      <td>-0.3756</td>\n",
       "    </tr>\n",
       "    <tr>\n",
       "      <th>...</th>\n",
       "      <td>...</td>\n",
       "      <td>...</td>\n",
       "      <td>...</td>\n",
       "      <td>...</td>\n",
       "      <td>...</td>\n",
       "      <td>...</td>\n",
       "      <td>...</td>\n",
       "      <td>...</td>\n",
       "      <td>...</td>\n",
       "      <td>...</td>\n",
       "      <td>...</td>\n",
       "      <td>...</td>\n",
       "      <td>...</td>\n",
       "      <td>...</td>\n",
       "      <td>...</td>\n",
       "      <td>...</td>\n",
       "      <td>...</td>\n",
       "      <td>...</td>\n",
       "      <td>...</td>\n",
       "      <td>...</td>\n",
       "      <td>...</td>\n",
       "    </tr>\n",
       "    <tr>\n",
       "      <th>7770</th>\n",
       "      <td>626.7500</td>\n",
       "      <td>14.60</td>\n",
       "      <td>270.32</td>\n",
       "      <td>2.99</td>\n",
       "      <td>301.20</td>\n",
       "      <td>33.50</td>\n",
       "      <td>0.77</td>\n",
       "      <td>9.76</td>\n",
       "      <td>0.812</td>\n",
       "      <td>-0.4834</td>\n",
       "      <td>...</td>\n",
       "      <td>-2.1</td>\n",
       "      <td>-1.8000</td>\n",
       "      <td>-1.8</td>\n",
       "      <td>-1.6000</td>\n",
       "      <td>-2.2000</td>\n",
       "      <td>-1.8000</td>\n",
       "      <td>-2.0000</td>\n",
       "      <td>-1.7</td>\n",
       "      <td>3.1578</td>\n",
       "      <td>1.0178</td>\n",
       "    </tr>\n",
       "    <tr>\n",
       "      <th>7771</th>\n",
       "      <td>626.7917</td>\n",
       "      <td>13.46</td>\n",
       "      <td>270.43</td>\n",
       "      <td>3.02</td>\n",
       "      <td>300.50</td>\n",
       "      <td>53.30</td>\n",
       "      <td>0.70</td>\n",
       "      <td>9.75</td>\n",
       "      <td>0.811</td>\n",
       "      <td>-0.4834</td>\n",
       "      <td>...</td>\n",
       "      <td>-2.1</td>\n",
       "      <td>-1.8000</td>\n",
       "      <td>-1.8</td>\n",
       "      <td>-1.5001</td>\n",
       "      <td>-2.2000</td>\n",
       "      <td>-1.8000</td>\n",
       "      <td>-2.0000</td>\n",
       "      <td>-1.7</td>\n",
       "      <td>0.4990</td>\n",
       "      <td>-0.8886</td>\n",
       "    </tr>\n",
       "    <tr>\n",
       "      <th>7772</th>\n",
       "      <td>626.8333</td>\n",
       "      <td>12.88</td>\n",
       "      <td>270.80</td>\n",
       "      <td>3.11</td>\n",
       "      <td>301.40</td>\n",
       "      <td>70.50</td>\n",
       "      <td>0.63</td>\n",
       "      <td>9.75</td>\n",
       "      <td>0.811</td>\n",
       "      <td>-0.4833</td>\n",
       "      <td>...</td>\n",
       "      <td>-2.2</td>\n",
       "      <td>-1.9001</td>\n",
       "      <td>-1.8</td>\n",
       "      <td>-1.4999</td>\n",
       "      <td>-2.2001</td>\n",
       "      <td>-1.9001</td>\n",
       "      <td>-2.0001</td>\n",
       "      <td>-1.7</td>\n",
       "      <td>-2.1270</td>\n",
       "      <td>-2.5212</td>\n",
       "    </tr>\n",
       "    <tr>\n",
       "      <th>7773</th>\n",
       "      <td>626.8750</td>\n",
       "      <td>12.54</td>\n",
       "      <td>271.32</td>\n",
       "      <td>3.26</td>\n",
       "      <td>307.80</td>\n",
       "      <td>61.30</td>\n",
       "      <td>0.56</td>\n",
       "      <td>9.75</td>\n",
       "      <td>0.810</td>\n",
       "      <td>-0.4833</td>\n",
       "      <td>...</td>\n",
       "      <td>-2.2</td>\n",
       "      <td>-2.0000</td>\n",
       "      <td>-1.8</td>\n",
       "      <td>-1.4000</td>\n",
       "      <td>-2.3000</td>\n",
       "      <td>-2.0000</td>\n",
       "      <td>-2.1000</td>\n",
       "      <td>-1.7</td>\n",
       "      <td>-2.8844</td>\n",
       "      <td>-3.6851</td>\n",
       "    </tr>\n",
       "    <tr>\n",
       "      <th>7774</th>\n",
       "      <td>626.9167</td>\n",
       "      <td>11.84</td>\n",
       "      <td>272.07</td>\n",
       "      <td>3.50</td>\n",
       "      <td>311.90</td>\n",
       "      <td>118.20</td>\n",
       "      <td>0.50</td>\n",
       "      <td>9.74</td>\n",
       "      <td>0.809</td>\n",
       "      <td>-0.4832</td>\n",
       "      <td>...</td>\n",
       "      <td>-2.2</td>\n",
       "      <td>-1.9001</td>\n",
       "      <td>-1.8</td>\n",
       "      <td>-1.4000</td>\n",
       "      <td>-2.2001</td>\n",
       "      <td>-1.9001</td>\n",
       "      <td>-1.9003</td>\n",
       "      <td>-1.7</td>\n",
       "      <td>-3.2192</td>\n",
       "      <td>-5.3430</td>\n",
       "    </tr>\n",
       "  </tbody>\n",
       "</table>\n",
       "<p>7775 rows × 86 columns</p>\n",
       "</div>"
      ],
      "text/plain": [
       "          jday   uair    tair  qair    lwdo    swdo  prec  Focn_x   albe  \\\n",
       "0     303.0000   3.65  247.49  0.29  160.76    1.04  0.17    6.10  0.850   \n",
       "1     303.0417   4.19  247.33  0.38  164.73    0.00  0.17    6.10  0.850   \n",
       "2     303.0833   3.25  249.64  0.47  216.70    0.29  0.18    6.09  0.850   \n",
       "3     303.1250   3.60  252.35  0.61  229.10    0.29  0.18    6.09  0.850   \n",
       "4     303.1667   3.31  254.08  0.72  236.40    0.00  0.18    6.09  0.850   \n",
       "...        ...    ...     ...   ...     ...     ...   ...     ...    ...   \n",
       "7770  626.7500  14.60  270.32  2.99  301.20   33.50  0.77    9.76  0.812   \n",
       "7771  626.7917  13.46  270.43  3.02  300.50   53.30  0.70    9.75  0.811   \n",
       "7772  626.8333  12.88  270.80  3.11  301.40   70.50  0.63    9.75  0.811   \n",
       "7773  626.8750  12.54  271.32  3.26  307.80   61.30  0.56    9.75  0.810   \n",
       "7774  626.9167  11.84  272.07  3.50  311.90  118.20  0.50    9.74  0.809   \n",
       "\n",
       "      hs_best  ...  T_43    T_44  T_45    T_46    T_47    T_48    T_49  T_50  \\\n",
       "0      0.1600  ...  -1.6 -1.6000  -1.6 -1.6000 -1.6000 -1.6000 -1.6000  -1.6   \n",
       "1      0.1598  ...  -1.5 -1.5000  -1.6 -1.5000 -1.6000 -1.5000 -1.5000  -1.5   \n",
       "2      0.1596  ...  -1.5 -1.5000  -1.6 -1.5000 -1.6000 -1.5000 -1.5000  -1.5   \n",
       "3      0.1594  ...  -1.6 -1.6000  -1.6 -1.6000 -1.6000 -1.6000 -1.6000  -1.6   \n",
       "4      0.1592  ...  -1.6 -1.6000  -1.6 -1.6000 -1.6000 -1.5000 -1.5000  -1.5   \n",
       "...       ...  ...   ...     ...   ...     ...     ...     ...     ...   ...   \n",
       "7770  -0.4834  ...  -2.1 -1.8000  -1.8 -1.6000 -2.2000 -1.8000 -2.0000  -1.7   \n",
       "7771  -0.4834  ...  -2.1 -1.8000  -1.8 -1.5001 -2.2000 -1.8000 -2.0000  -1.7   \n",
       "7772  -0.4833  ...  -2.2 -1.9001  -1.8 -1.4999 -2.2001 -1.9001 -2.0001  -1.7   \n",
       "7773  -0.4833  ...  -2.2 -2.0000  -1.8 -1.4000 -2.3000 -2.0000 -2.1000  -1.7   \n",
       "7774  -0.4832  ...  -2.2 -1.9001  -1.8 -1.4000 -2.2001 -1.9001 -1.9003  -1.7   \n",
       "\n",
       "        fsen    flat  \n",
       "0    -9.2713  0.0660  \n",
       "1    -8.4411 -1.1708  \n",
       "2    -4.9328 -0.8478  \n",
       "3    -1.0296 -0.5007  \n",
       "4    -0.0882 -0.3756  \n",
       "...      ...     ...  \n",
       "7770  3.1578  1.0178  \n",
       "7771  0.4990 -0.8886  \n",
       "7772 -2.1270 -2.5212  \n",
       "7773 -2.8844 -3.6851  \n",
       "7774 -3.2192 -5.3430  \n",
       "\n",
       "[7775 rows x 86 columns]"
      ]
     },
     "execution_count": 23,
     "metadata": {},
     "output_type": "execute_result"
    }
   ],
   "source": [
    "data"
   ]
  },
  {
   "cell_type": "code",
   "execution_count": 352,
   "id": "9793614b",
   "metadata": {},
   "outputs": [
    {
     "data": {
      "text/plain": [
       "<AxesSubplot:>"
      ]
     },
     "execution_count": 352,
     "metadata": {},
     "output_type": "execute_result"
    },
    {
     "data": {
      "image/png": "[encoded data removed]",
      "text/plain": [
       "<Figure size 1080x720 with 1 Axes>"
      ]
     },
     "metadata": {
      "needs_background": "light"
     },
     "output_type": "display_data"
    }
   ],
   "source": [
    "data[['hf', 'hf_level', 'hf_best']].plot(figsize=(15, 10), grid=True)"
   ]
  },
  {
   "cell_type": "code",
   "execution_count": 351,
   "id": "0d17fbb1",
   "metadata": {},
   "outputs": [
    {
     "data": {
      "text/plain": [
       "<AxesSubplot:>"
      ]
     },
     "execution_count": 351,
     "metadata": {},
     "output_type": "execute_result"
    },
    {
     "data": {
      "image/png": "[encoded data removed]",
      "text/plain": [
       "<Figure size 1080x720 with 1 Axes>"
      ]
     },
     "metadata": {
      "needs_background": "light"
     },
     "output_type": "display_data"
    }
   ],
   "source": [
    "data[['hs_x', 'hs_y', 'hs_level', 'hs_best']].plot(figsize=(15, 10), grid=True)"
   ]
  },
  {
   "cell_type": "code",
   "execution_count": 350,
   "id": "3e3c0a4f",
   "metadata": {
    "scrolled": false
   },
   "outputs": [
    {
     "data": {
      "text/plain": [
       "<AxesSubplot:>"
      ]
     },
     "execution_count": 350,
     "metadata": {},
     "output_type": "execute_result"
    },
    {
     "data": {
      "image/png": "[encoded data removed]",
      "text/plain": [
       "<Figure size 1080x720 with 1 Axes>"
      ]
     },
     "metadata": {
      "needs_background": "light"
     },
     "output_type": "display_data"
    }
   ],
   "source": [
    "data[['hi_x', 'hi_y', 'hi_level', 'hi_best']].plot(figsize=(15, 10), grid=True)"
   ]
  },
  {
   "cell_type": "code",
   "execution_count": 159,
   "id": "db652813",
   "metadata": {},
   "outputs": [],
   "source": [
    "prec = 5.\n",
    "cmap_base = plt.get_cmap('rainbow')\n",
    "vmin = data.loc[:, 'T_1':'T_50'].values.min()\n",
    "vmax = data.loc[:, 'T_1':'T_50'].values.max()\n",
    "\n",
    "boundaries = np.concatenate(([vmin], np.arange(np.floor(vmin + prec), vmax, prec), [vmax]))\n",
    "centers = (boundaries[1:] + boundaries[:-1])/2\n",
    "centers_scaled = (centers - vmin) / (vmax - vmin)\n",
    "\n",
    "cmap_custom = clr.ListedColormap([cmap_base(x) for x in centers_scaled])\n",
    "norm_custom = clr.BoundaryNorm(boundaries, cmap_custom.N)"
   ]
  },
  {
   "cell_type": "code",
   "execution_count": 160,
   "id": "a65085a0",
   "metadata": {},
   "outputs": [
    {
     "data": {
      "image/png": "[encoded data removed]",
      "text/plain": [
       "<Figure size 1440x720 with 2 Axes>"
      ]
     },
     "metadata": {
      "needs_background": "light"
     },
     "output_type": "display_data"
    }
   ],
   "source": [
    "plt.figure(figsize=(20, 10))\n",
    "plt.imshow(data.loc[:, 'T_1':'T_50'].T,\n",
    "           aspect='auto', cmap=cmap_custom, norm=norm_custom,\n",
    "           extent=[data.loc[0, 'jday'], data.loc[data.index[-1], 'jday'], Z[-1], Z[0]])\n",
    "plt.plot(data['jday'], data['hs_level'], color='white', lw=3, ls=':', label='snow surface')\n",
    "plt.plot(data['jday'], data['hf_level'], color='white', lw=3, ls='--', label='snow-ice interface')\n",
    "plt.plot(data['jday'], data['hi_level'], color='white', lw=3, label='ice base')\n",
    "plt.plot(data['jday'], data['hs_best'], color='black', lw=3, ls=':', label='snow surface best')\n",
    "plt.xticks(size=15)\n",
    "plt.yticks(size=15)\n",
    "plt.legend(loc='lower left', facecolor='black', labelcolor='white', prop={'size': 20})\n",
    "plt.colorbar(ticks=boundaries)\n",
    "plt.savefig('test-image.png', dpi=150)\n",
    "plt.show()"
   ]
  },
  {
   "cell_type": "markdown",
   "id": "1b69823a",
   "metadata": {},
   "source": [
    "Судя по статье (Fig.5 (a), (b)), чёрные точки - это метод приближения, использованный в статье Хувальда"
   ]
  },
  {
   "cell_type": "code",
   "execution_count": 325,
   "id": "8f229d11",
   "metadata": {},
   "outputs": [],
   "source": [
    "mesh_Z = np.array([Z]*data.shape[0])"
   ]
  },
  {
   "cell_type": "code",
   "execution_count": 349,
   "id": "9101d960",
   "metadata": {},
   "outputs": [
    {
     "data": {
      "text/html": [
       "<div>\n",
       "<style scoped>\n",
       "    .dataframe tbody tr th:only-of-type {\n",
       "        vertical-align: middle;\n",
       "    }\n",
       "\n",
       "    .dataframe tbody tr th {\n",
       "        vertical-align: top;\n",
       "    }\n",
       "\n",
       "    .dataframe thead th {\n",
       "        text-align: right;\n",
       "    }\n",
       "</style>\n",
       "<table border=\"1\" class=\"dataframe\">\n",
       "  <thead>\n",
       "    <tr style=\"text-align: right;\">\n",
       "      <th></th>\n",
       "      <th>hi_level</th>\n",
       "      <th>hf_level</th>\n",
       "    </tr>\n",
       "  </thead>\n",
       "  <tbody>\n",
       "    <tr>\n",
       "      <th>0</th>\n",
       "      <td>-1.939974</td>\n",
       "      <td>0.0</td>\n",
       "    </tr>\n",
       "    <tr>\n",
       "      <th>1</th>\n",
       "      <td>-1.940074</td>\n",
       "      <td>0.0</td>\n",
       "    </tr>\n",
       "    <tr>\n",
       "      <th>2</th>\n",
       "      <td>-1.940175</td>\n",
       "      <td>0.0</td>\n",
       "    </tr>\n",
       "    <tr>\n",
       "      <th>3</th>\n",
       "      <td>-1.940275</td>\n",
       "      <td>0.0</td>\n",
       "    </tr>\n",
       "    <tr>\n",
       "      <th>4</th>\n",
       "      <td>-1.940375</td>\n",
       "      <td>0.0</td>\n",
       "    </tr>\n",
       "    <tr>\n",
       "      <th>...</th>\n",
       "      <td>...</td>\n",
       "      <td>...</td>\n",
       "    </tr>\n",
       "    <tr>\n",
       "      <th>7770</th>\n",
       "      <td>-2.106890</td>\n",
       "      <td>-0.6</td>\n",
       "    </tr>\n",
       "    <tr>\n",
       "      <th>7771</th>\n",
       "      <td>-2.106812</td>\n",
       "      <td>-0.6</td>\n",
       "    </tr>\n",
       "    <tr>\n",
       "      <th>7772</th>\n",
       "      <td>-2.106733</td>\n",
       "      <td>-0.6</td>\n",
       "    </tr>\n",
       "    <tr>\n",
       "      <th>7773</th>\n",
       "      <td>-2.106655</td>\n",
       "      <td>-0.6</td>\n",
       "    </tr>\n",
       "    <tr>\n",
       "      <th>7774</th>\n",
       "      <td>-2.106577</td>\n",
       "      <td>-0.6</td>\n",
       "    </tr>\n",
       "  </tbody>\n",
       "</table>\n",
       "<p>7775 rows × 2 columns</p>\n",
       "</div>"
      ],
      "text/plain": [
       "      hi_level  hf_level\n",
       "0    -1.939974       0.0\n",
       "1    -1.940074       0.0\n",
       "2    -1.940175       0.0\n",
       "3    -1.940275       0.0\n",
       "4    -1.940375       0.0\n",
       "...        ...       ...\n",
       "7770 -2.106890      -0.6\n",
       "7771 -2.106812      -0.6\n",
       "7772 -2.106733      -0.6\n",
       "7773 -2.106655      -0.6\n",
       "7774 -2.106577      -0.6\n",
       "\n",
       "[7775 rows x 2 columns]"
      ]
     },
     "execution_count": 349,
     "metadata": {},
     "output_type": "execute_result"
    }
   ],
   "source": [
    "data[['hi_level', 'hf_level']]"
   ]
  },
  {
   "cell_type": "code",
   "execution_count": 346,
   "id": "78e053b1",
   "metadata": {},
   "outputs": [
    {
     "data": {
      "text/plain": [
       "array([ 0.45,  0.35,  0.25,  0.15,  0.05,  0.  , -0.05, -0.1 , -0.15,\n",
       "       -0.2 , -0.25, -0.3 , -0.35, -0.4 , -0.45, -0.5 , -0.6 , -0.7 ,\n",
       "       -0.8 , -0.9 , -1.  , -1.1 , -1.2 , -1.3 , -1.4 , -1.5 , -1.6 ,\n",
       "       -1.7 , -1.8 , -1.9 , -2.  , -2.1 , -2.2 , -2.3 , -2.4 , -2.5 ,\n",
       "       -2.6 , -2.7 , -2.8 , -2.9 , -3.  , -3.1 , -3.2 , -3.3 , -3.4 ,\n",
       "       -3.5 , -3.6 , -3.7 , -3.8 , -3.9 ])"
      ]
     },
     "execution_count": 346,
     "metadata": {},
     "output_type": "execute_result"
    }
   ],
   "source": [
    "mesh_Z[0]"
   ]
  },
  {
   "cell_type": "code",
   "execution_count": 338,
   "id": "0f43b706",
   "metadata": {},
   "outputs": [
    {
     "data": {
      "text/plain": [
       "array([ 0.       , -0.05     , -0.1      , -0.15     , -0.2      ,\n",
       "       -0.25     , -0.3      , -0.35     , -0.4      , -0.45     ,\n",
       "       -0.5      , -0.6      , -0.7      , -0.8      , -0.9      ,\n",
       "       -1.       , -1.1      , -1.2      , -1.3      , -1.4      ,\n",
       "       -1.5      , -1.6      , -1.7      , -1.8      , -1.9      ,\n",
       "       -1.9399741])"
      ]
     },
     "execution_count": 338,
     "metadata": {},
     "output_type": "execute_result"
    }
   ],
   "source": [
    "Z_ice[0]"
   ]
  },
  {
   "cell_type": "code",
   "execution_count": 343,
   "id": "2a2eff85",
   "metadata": {},
   "outputs": [
    {
     "data": {
      "text/plain": [
       "array([-28. , -27.8, -27.7, -26.4, -20.7, -16.8, -16.8, -15.2, -14.5,\n",
       "       -13.3, -12.8, -12.1, -11.7, -11.2, -11. , -10.5,  -9.8,  -9.1,\n",
       "        -8.4,  -7.8,  -6.9,  -6.3,  -5.6,  -4.9,  -4.2,  -3.5,  -2.9,\n",
       "        -2.3,  -1.7,  -1.5,  -1.6,  -1.6,  -1.6,  -1.6,  -1.6,  -1.6,\n",
       "        -1.6,  -1.6,  -1.6,  -1.6,  -1.6,  -1.6,  -1.6,  -1.6,  -1.6,\n",
       "        -1.6,  -1.6,  -1.6,  -1.6,  -1.6])"
      ]
     },
     "execution_count": 343,
     "metadata": {},
     "output_type": "execute_result"
    }
   ],
   "source": [
    "data.loc[:, 'T_1':'T_50'].values[0]"
   ]
  },
  {
   "cell_type": "code",
   "execution_count": 341,
   "id": "bd3d8a8f",
   "metadata": {},
   "outputs": [
    {
     "data": {
      "text/plain": [
       "array([-24.69, -16.8 , -15.2 , -14.5 , -13.3 , -12.8 , -12.1 , -11.7 ,\n",
       "       -11.2 , -11.  , -10.5 ,  -9.8 ,  -9.1 ,  -8.4 ,  -7.8 ,  -6.9 ,\n",
       "        -6.3 ,  -5.6 ,  -4.9 ,  -4.2 ,  -3.5 ,  -2.9 ,  -2.3 ,  -1.7 ,\n",
       "        -1.5 , -24.12])"
      ]
     },
     "execution_count": 341,
     "metadata": {},
     "output_type": "execute_result"
    }
   ],
   "source": [
    "temp_ice[0]"
   ]
  },
  {
   "cell_type": "code",
   "execution_count": 336,
   "id": "eba60ec3",
   "metadata": {},
   "outputs": [],
   "source": [
    "filter_ice = (data[['hi_level']].values < mesh_Z) & (mesh_Z < data[['hf_level']].values)"
   ]
  },
  {
   "cell_type": "code",
   "execution_count": 337,
   "id": "c1d647b8",
   "metadata": {},
   "outputs": [],
   "source": [
    "Z_ice = [np.concatenate(([inter], line_ice[filt_ice], [base]))\\\n",
    "         for base, inter, line_ice, filt_ice in zip(data['hi_level'], data['hf_level'], mesh_Z, filter_ice)]"
   ]
  },
  {
   "cell_type": "code",
   "execution_count": 339,
   "id": "4f4dbe3d",
   "metadata": {},
   "outputs": [],
   "source": [
    "temp_ice = [np.concatenate(([inter], line_ice[filt_ice], [base]))\\\n",
    "            for base, inter, line_ice, filt_ice in zip(data['Tib'], data['Tis'],\n",
    "                                                       data.loc[:, 'T_1':'T_50'].values, filter_ice)]"
   ]
  },
  {
   "cell_type": "code",
   "execution_count": 345,
   "id": "c928e606",
   "metadata": {},
   "outputs": [
    {
     "data": {
      "text/html": [
       "<div>\n",
       "<style scoped>\n",
       "    .dataframe tbody tr th:only-of-type {\n",
       "        vertical-align: middle;\n",
       "    }\n",
       "\n",
       "    .dataframe tbody tr th {\n",
       "        vertical-align: top;\n",
       "    }\n",
       "\n",
       "    .dataframe thead th {\n",
       "        text-align: right;\n",
       "    }\n",
       "</style>\n",
       "<table border=\"1\" class=\"dataframe\">\n",
       "  <thead>\n",
       "    <tr style=\"text-align: right;\">\n",
       "      <th></th>\n",
       "      <th>jday</th>\n",
       "      <th>Tib</th>\n",
       "      <th>Tis</th>\n",
       "      <th>T_1</th>\n",
       "      <th>T_2</th>\n",
       "      <th>T_3</th>\n",
       "      <th>T_4</th>\n",
       "      <th>T_5</th>\n",
       "      <th>T_6</th>\n",
       "      <th>T_7</th>\n",
       "      <th>...</th>\n",
       "      <th>T_41</th>\n",
       "      <th>T_42</th>\n",
       "      <th>T_43</th>\n",
       "      <th>T_44</th>\n",
       "      <th>T_45</th>\n",
       "      <th>T_46</th>\n",
       "      <th>T_47</th>\n",
       "      <th>T_48</th>\n",
       "      <th>T_49</th>\n",
       "      <th>T_50</th>\n",
       "    </tr>\n",
       "  </thead>\n",
       "  <tbody>\n",
       "    <tr>\n",
       "      <th>0</th>\n",
       "      <td>303.0000</td>\n",
       "      <td>-24.1200</td>\n",
       "      <td>-24.6900</td>\n",
       "      <td>-28.0000</td>\n",
       "      <td>-27.8000</td>\n",
       "      <td>-27.7000</td>\n",
       "      <td>-26.4000</td>\n",
       "      <td>-20.7000</td>\n",
       "      <td>-16.8000</td>\n",
       "      <td>-16.8000</td>\n",
       "      <td>...</td>\n",
       "      <td>-1.6000</td>\n",
       "      <td>-1.6000</td>\n",
       "      <td>-1.6</td>\n",
       "      <td>-1.6000</td>\n",
       "      <td>-1.6</td>\n",
       "      <td>-1.6000</td>\n",
       "      <td>-1.6000</td>\n",
       "      <td>-1.6000</td>\n",
       "      <td>-1.6000</td>\n",
       "      <td>-1.6</td>\n",
       "    </tr>\n",
       "    <tr>\n",
       "      <th>1</th>\n",
       "      <td>303.0417</td>\n",
       "      <td>-24.1890</td>\n",
       "      <td>-24.7390</td>\n",
       "      <td>-27.7000</td>\n",
       "      <td>-27.6000</td>\n",
       "      <td>-27.6000</td>\n",
       "      <td>-26.4000</td>\n",
       "      <td>-20.9000</td>\n",
       "      <td>-17.0000</td>\n",
       "      <td>-16.9000</td>\n",
       "      <td>...</td>\n",
       "      <td>-1.5000</td>\n",
       "      <td>-1.5000</td>\n",
       "      <td>-1.5</td>\n",
       "      <td>-1.5000</td>\n",
       "      <td>-1.6</td>\n",
       "      <td>-1.5000</td>\n",
       "      <td>-1.6000</td>\n",
       "      <td>-1.5000</td>\n",
       "      <td>-1.5000</td>\n",
       "      <td>-1.5</td>\n",
       "    </tr>\n",
       "    <tr>\n",
       "      <th>2</th>\n",
       "      <td>303.0833</td>\n",
       "      <td>-23.5416</td>\n",
       "      <td>-24.0016</td>\n",
       "      <td>-26.7000</td>\n",
       "      <td>-26.7000</td>\n",
       "      <td>-26.4000</td>\n",
       "      <td>-25.4000</td>\n",
       "      <td>-20.8000</td>\n",
       "      <td>-17.1000</td>\n",
       "      <td>-17.1000</td>\n",
       "      <td>...</td>\n",
       "      <td>-1.5000</td>\n",
       "      <td>-1.5000</td>\n",
       "      <td>-1.5</td>\n",
       "      <td>-1.5000</td>\n",
       "      <td>-1.6</td>\n",
       "      <td>-1.5000</td>\n",
       "      <td>-1.6000</td>\n",
       "      <td>-1.5000</td>\n",
       "      <td>-1.5000</td>\n",
       "      <td>-1.5</td>\n",
       "    </tr>\n",
       "    <tr>\n",
       "      <th>3</th>\n",
       "      <td>303.1250</td>\n",
       "      <td>-20.4474</td>\n",
       "      <td>-20.6574</td>\n",
       "      <td>-22.1000</td>\n",
       "      <td>-22.1000</td>\n",
       "      <td>-21.8000</td>\n",
       "      <td>-21.3000</td>\n",
       "      <td>-19.2000</td>\n",
       "      <td>-17.0000</td>\n",
       "      <td>-16.7000</td>\n",
       "      <td>...</td>\n",
       "      <td>-1.6000</td>\n",
       "      <td>-1.6000</td>\n",
       "      <td>-1.6</td>\n",
       "      <td>-1.6000</td>\n",
       "      <td>-1.6</td>\n",
       "      <td>-1.6000</td>\n",
       "      <td>-1.6000</td>\n",
       "      <td>-1.6000</td>\n",
       "      <td>-1.6000</td>\n",
       "      <td>-1.6</td>\n",
       "    </tr>\n",
       "    <tr>\n",
       "      <th>4</th>\n",
       "      <td>303.1667</td>\n",
       "      <td>-18.9104</td>\n",
       "      <td>-19.0304</td>\n",
       "      <td>-19.7000</td>\n",
       "      <td>-19.7000</td>\n",
       "      <td>-19.6000</td>\n",
       "      <td>-19.4000</td>\n",
       "      <td>-18.2000</td>\n",
       "      <td>-16.6000</td>\n",
       "      <td>-16.4000</td>\n",
       "      <td>...</td>\n",
       "      <td>-1.6000</td>\n",
       "      <td>-1.5000</td>\n",
       "      <td>-1.6</td>\n",
       "      <td>-1.6000</td>\n",
       "      <td>-1.6</td>\n",
       "      <td>-1.6000</td>\n",
       "      <td>-1.6000</td>\n",
       "      <td>-1.5000</td>\n",
       "      <td>-1.5000</td>\n",
       "      <td>-1.5</td>\n",
       "    </tr>\n",
       "    <tr>\n",
       "      <th>...</th>\n",
       "      <td>...</td>\n",
       "      <td>...</td>\n",
       "      <td>...</td>\n",
       "      <td>...</td>\n",
       "      <td>...</td>\n",
       "      <td>...</td>\n",
       "      <td>...</td>\n",
       "      <td>...</td>\n",
       "      <td>...</td>\n",
       "      <td>...</td>\n",
       "      <td>...</td>\n",
       "      <td>...</td>\n",
       "      <td>...</td>\n",
       "      <td>...</td>\n",
       "      <td>...</td>\n",
       "      <td>...</td>\n",
       "      <td>...</td>\n",
       "      <td>...</td>\n",
       "      <td>...</td>\n",
       "      <td>...</td>\n",
       "      <td>...</td>\n",
       "    </tr>\n",
       "    <tr>\n",
       "      <th>7770</th>\n",
       "      <td>626.7500</td>\n",
       "      <td>-0.5408</td>\n",
       "      <td>-0.4472</td>\n",
       "      <td>0.0000</td>\n",
       "      <td>0.2000</td>\n",
       "      <td>-0.4000</td>\n",
       "      <td>-0.1000</td>\n",
       "      <td>-0.1000</td>\n",
       "      <td>-0.5000</td>\n",
       "      <td>0.2000</td>\n",
       "      <td>...</td>\n",
       "      <td>-1.8000</td>\n",
       "      <td>-1.5000</td>\n",
       "      <td>-2.1</td>\n",
       "      <td>-1.8000</td>\n",
       "      <td>-1.8</td>\n",
       "      <td>-1.6000</td>\n",
       "      <td>-2.2000</td>\n",
       "      <td>-1.8000</td>\n",
       "      <td>-2.0000</td>\n",
       "      <td>-1.7</td>\n",
       "    </tr>\n",
       "    <tr>\n",
       "      <th>7771</th>\n",
       "      <td>626.7917</td>\n",
       "      <td>-0.4409</td>\n",
       "      <td>-0.3209</td>\n",
       "      <td>0.0000</td>\n",
       "      <td>0.2999</td>\n",
       "      <td>-0.4000</td>\n",
       "      <td>-0.1999</td>\n",
       "      <td>-0.1000</td>\n",
       "      <td>-0.5000</td>\n",
       "      <td>0.2000</td>\n",
       "      <td>...</td>\n",
       "      <td>-1.8000</td>\n",
       "      <td>-1.4001</td>\n",
       "      <td>-2.1</td>\n",
       "      <td>-1.8000</td>\n",
       "      <td>-1.8</td>\n",
       "      <td>-1.5001</td>\n",
       "      <td>-2.2000</td>\n",
       "      <td>-1.8000</td>\n",
       "      <td>-2.0000</td>\n",
       "      <td>-1.7</td>\n",
       "    </tr>\n",
       "    <tr>\n",
       "      <th>7772</th>\n",
       "      <td>626.8333</td>\n",
       "      <td>-0.4166</td>\n",
       "      <td>-0.3197</td>\n",
       "      <td>0.1001</td>\n",
       "      <td>0.4003</td>\n",
       "      <td>-0.3000</td>\n",
       "      <td>-0.2000</td>\n",
       "      <td>-0.0999</td>\n",
       "      <td>-0.4000</td>\n",
       "      <td>0.3003</td>\n",
       "      <td>...</td>\n",
       "      <td>-1.8001</td>\n",
       "      <td>-1.3999</td>\n",
       "      <td>-2.2</td>\n",
       "      <td>-1.9001</td>\n",
       "      <td>-1.8</td>\n",
       "      <td>-1.4999</td>\n",
       "      <td>-2.2001</td>\n",
       "      <td>-1.9001</td>\n",
       "      <td>-2.0001</td>\n",
       "      <td>-1.7</td>\n",
       "    </tr>\n",
       "    <tr>\n",
       "      <th>7773</th>\n",
       "      <td>626.8750</td>\n",
       "      <td>-0.5066</td>\n",
       "      <td>-0.3928</td>\n",
       "      <td>0.2000</td>\n",
       "      <td>0.6000</td>\n",
       "      <td>-0.3000</td>\n",
       "      <td>-0.2000</td>\n",
       "      <td>0.0000</td>\n",
       "      <td>-0.4000</td>\n",
       "      <td>0.5000</td>\n",
       "      <td>...</td>\n",
       "      <td>-1.9000</td>\n",
       "      <td>-1.3000</td>\n",
       "      <td>-2.2</td>\n",
       "      <td>-2.0000</td>\n",
       "      <td>-1.8</td>\n",
       "      <td>-1.4000</td>\n",
       "      <td>-2.3000</td>\n",
       "      <td>-2.0000</td>\n",
       "      <td>-2.1000</td>\n",
       "      <td>-1.7</td>\n",
       "    </tr>\n",
       "    <tr>\n",
       "      <th>7774</th>\n",
       "      <td>626.9167</td>\n",
       "      <td>-0.4033</td>\n",
       "      <td>-0.3185</td>\n",
       "      <td>0.1001</td>\n",
       "      <td>0.4003</td>\n",
       "      <td>-0.3999</td>\n",
       "      <td>-0.2000</td>\n",
       "      <td>-0.0999</td>\n",
       "      <td>-0.5997</td>\n",
       "      <td>0.3003</td>\n",
       "      <td>...</td>\n",
       "      <td>-1.8001</td>\n",
       "      <td>-1.3999</td>\n",
       "      <td>-2.2</td>\n",
       "      <td>-1.9001</td>\n",
       "      <td>-1.8</td>\n",
       "      <td>-1.4000</td>\n",
       "      <td>-2.2001</td>\n",
       "      <td>-1.9001</td>\n",
       "      <td>-1.9003</td>\n",
       "      <td>-1.7</td>\n",
       "    </tr>\n",
       "  </tbody>\n",
       "</table>\n",
       "<p>7775 rows × 53 columns</p>\n",
       "</div>"
      ],
      "text/plain": [
       "          jday      Tib      Tis      T_1      T_2      T_3      T_4      T_5  \\\n",
       "0     303.0000 -24.1200 -24.6900 -28.0000 -27.8000 -27.7000 -26.4000 -20.7000   \n",
       "1     303.0417 -24.1890 -24.7390 -27.7000 -27.6000 -27.6000 -26.4000 -20.9000   \n",
       "2     303.0833 -23.5416 -24.0016 -26.7000 -26.7000 -26.4000 -25.4000 -20.8000   \n",
       "3     303.1250 -20.4474 -20.6574 -22.1000 -22.1000 -21.8000 -21.3000 -19.2000   \n",
       "4     303.1667 -18.9104 -19.0304 -19.7000 -19.7000 -19.6000 -19.4000 -18.2000   \n",
       "...        ...      ...      ...      ...      ...      ...      ...      ...   \n",
       "7770  626.7500  -0.5408  -0.4472   0.0000   0.2000  -0.4000  -0.1000  -0.1000   \n",
       "7771  626.7917  -0.4409  -0.3209   0.0000   0.2999  -0.4000  -0.1999  -0.1000   \n",
       "7772  626.8333  -0.4166  -0.3197   0.1001   0.4003  -0.3000  -0.2000  -0.0999   \n",
       "7773  626.8750  -0.5066  -0.3928   0.2000   0.6000  -0.3000  -0.2000   0.0000   \n",
       "7774  626.9167  -0.4033  -0.3185   0.1001   0.4003  -0.3999  -0.2000  -0.0999   \n",
       "\n",
       "          T_6      T_7  ...    T_41    T_42  T_43    T_44  T_45    T_46  \\\n",
       "0    -16.8000 -16.8000  ... -1.6000 -1.6000  -1.6 -1.6000  -1.6 -1.6000   \n",
       "1    -17.0000 -16.9000  ... -1.5000 -1.5000  -1.5 -1.5000  -1.6 -1.5000   \n",
       "2    -17.1000 -17.1000  ... -1.5000 -1.5000  -1.5 -1.5000  -1.6 -1.5000   \n",
       "3    -17.0000 -16.7000  ... -1.6000 -1.6000  -1.6 -1.6000  -1.6 -1.6000   \n",
       "4    -16.6000 -16.4000  ... -1.6000 -1.5000  -1.6 -1.6000  -1.6 -1.6000   \n",
       "...       ...      ...  ...     ...     ...   ...     ...   ...     ...   \n",
       "7770  -0.5000   0.2000  ... -1.8000 -1.5000  -2.1 -1.8000  -1.8 -1.6000   \n",
       "7771  -0.5000   0.2000  ... -1.8000 -1.4001  -2.1 -1.8000  -1.8 -1.5001   \n",
       "7772  -0.4000   0.3003  ... -1.8001 -1.3999  -2.2 -1.9001  -1.8 -1.4999   \n",
       "7773  -0.4000   0.5000  ... -1.9000 -1.3000  -2.2 -2.0000  -1.8 -1.4000   \n",
       "7774  -0.5997   0.3003  ... -1.8001 -1.3999  -2.2 -1.9001  -1.8 -1.4000   \n",
       "\n",
       "        T_47    T_48    T_49  T_50  \n",
       "0    -1.6000 -1.6000 -1.6000  -1.6  \n",
       "1    -1.6000 -1.5000 -1.5000  -1.5  \n",
       "2    -1.6000 -1.5000 -1.5000  -1.5  \n",
       "3    -1.6000 -1.6000 -1.6000  -1.6  \n",
       "4    -1.6000 -1.5000 -1.5000  -1.5  \n",
       "...      ...     ...     ...   ...  \n",
       "7770 -2.2000 -1.8000 -2.0000  -1.7  \n",
       "7771 -2.2000 -1.8000 -2.0000  -1.7  \n",
       "7772 -2.2001 -1.9001 -2.0001  -1.7  \n",
       "7773 -2.3000 -2.0000 -2.1000  -1.7  \n",
       "7774 -2.2001 -1.9001 -1.9003  -1.7  \n",
       "\n",
       "[7775 rows x 53 columns]"
      ]
     },
     "execution_count": 345,
     "metadata": {},
     "output_type": "execute_result"
    }
   ],
   "source": [
    "data.loc[:, ['jday', 'Tib', 'Tis'] + ['T_{}'.format(i) for i in range(1, 51)]]"
   ]
  },
  {
   "cell_type": "code",
   "execution_count": 277,
   "id": "29d8ee9c",
   "metadata": {},
   "outputs": [
    {
     "data": {
      "text/plain": [
       "array([-24.12, -16.8 , -15.2 , -14.5 , -13.3 , -12.8 , -12.1 , -11.7 ,\n",
       "       -11.2 , -11.  , -10.5 ,  -9.8 ,  -9.1 ,  -8.4 ,  -7.8 ,  -6.9 ,\n",
       "        -6.3 ,  -5.6 ,  -4.9 ,  -4.2 ,  -3.5 ,  -2.9 ,  -2.3 ,  -1.7 ,\n",
       "        -1.5 , -24.69])"
      ]
     },
     "execution_count": 277,
     "metadata": {},
     "output_type": "execute_result"
    }
   ],
   "source": [
    "temp_ice[0]"
   ]
  },
  {
   "cell_type": "code",
   "execution_count": 360,
   "id": "1a26d7fa",
   "metadata": {},
   "outputs": [
    {
     "data": {
      "text/plain": [
       "-1.94"
      ]
     },
     "execution_count": 360,
     "metadata": {},
     "output_type": "execute_result"
    }
   ],
   "source": []
  },
  {
   "cell_type": "code",
   "execution_count": 373,
   "id": "d775200c",
   "metadata": {},
   "outputs": [
    {
     "data": {
      "image/png": "[encoded data removed]",
      "text/plain": [
       "<Figure size 1080x720 with 1 Axes>"
      ]
     },
     "metadata": {
      "needs_background": "light"
     },
     "output_type": "display_data"
    }
   ],
   "source": [
    "ind=4500\n",
    "\n",
    "plt.figure(figsize=(15, 10))\n",
    "plt.plot(mesh_Z[ind], data.loc[ind, 'T_1':'T_50'])\n",
    "plt.scatter([data.loc[ind, 'hi_best'], data.loc[ind, 'hf']], [data.loc[ind, 'Tib'], data.loc[ind, 'Tis']])\n",
    "plt.grid()\n",
    "plt.show()"
   ]
  },
  {
   "cell_type": "code",
   "execution_count": 359,
   "id": "bda27297",
   "metadata": {},
   "outputs": [
    {
     "data": {
      "text/plain": [
       "jday       303.00\n",
       "Tib        -24.12\n",
       "Tis        -24.69\n",
       "hi_best     -1.94\n",
       "hf           0.00\n",
       "Name: 0, dtype: float64"
      ]
     },
     "execution_count": 359,
     "metadata": {},
     "output_type": "execute_result"
    }
   ],
   "source": [
    "data.loc[0, ['jday', 'Tib', 'Tis', 'hi_best', 'hf']]"
   ]
  }
 ],
 "metadata": {
  "kernelspec": {
   "display_name": "Python 3 (ipykernel)",
   "language": "python",
   "name": "python3"
  },
  "language_info": {
   "codemirror_mode": {
    "name": "ipython",
    "version": 3
   },
   "file_extension": ".py",
   "mimetype": "text/x-python",
   "name": "python",
   "nbconvert_exporter": "python",
   "pygments_lexer": "ipython3",
   "version": "3.8.10"
  }
 },
 "nbformat": 4,
 "nbformat_minor": 5
}
