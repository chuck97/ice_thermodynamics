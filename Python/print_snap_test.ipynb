{
 "cells": [
  {
   "cell_type": "code",
   "execution_count": null,
   "id": "d042b792",
   "metadata": {},
   "outputs": [],
   "source": [
    "import numpy as np\n",
    "import json as js\n",
    "import matplotlib.pyplot as plt\n",
    "import matplotlib.ticker as mtk\n",
    "import matplotlib.colors as clr\n",
    "from matplotlib.collections import LineCollection"
   ]
  },
  {
   "cell_type": "code",
   "execution_count": null,
   "id": "92592cc9",
   "metadata": {},
   "outputs": [],
   "source": [
    "with open(\"../build-Cpplib-Desktop_Qt_6_3_1_GCC_64bit-Debug/tests/mesh_tests/mesh_vis.json\") as file_ice, \\\n",
    "     open(\"../build-Cpplib-Desktop_Qt_6_3_1_GCC_64bit-Debug/tests/mesh_tests/mesh_vis.json\") as file_snow:\n",
    "    obj_ice = js.load(file_ice)\n",
    "    obj_snow = js.load(file_snow)"
   ]
  },
  {
   "cell_type": "code",
   "execution_count": null,
   "id": "2552a6dc",
   "metadata": {},
   "outputs": [],
   "source": [
    "with open(\"test.json\", 'w') as file:\n",
    "    js.dump(obj_ice, file)"
   ]
  },
  {
   "cell_type": "code",
   "execution_count": null,
   "id": "031b11f3",
   "metadata": {},
   "outputs": [],
   "source": [
    "def get_Z_pair(dzi, dzs, rho_i, rho_s, rho_w):\n",
    "    \n",
    "    bottomline = (-np.dot(dzi, rho_i) - np.dot(dzs, rho_s))/rho_w\n",
    "    \n",
    "    Z_i = np.concatenate(([bottomline], dzi)).cumsum()\n",
    "    Z_i = np.append(Z_i, Z_i[[-1]])\n",
    "    Z_i[1:-1] -= [dz/2 for dz in dzi]\n",
    "    \n",
    "    Z_s = np.concatenate((Z_i[[-1]], dzs)).cumsum()\n",
    "    Z_s = np.append(Z_s, Z_s[[-1]])\n",
    "    Z_s[1:-1] -= [dz/2 for dz in dzs]\n",
    "    \n",
    "    return Z_i, Z_s"
   ]
  },
  {
   "cell_type": "code",
   "execution_count": null,
   "id": "e9be98d3",
   "metadata": {},
   "outputs": [],
   "source": [
    "def truncate_colormap(cmap, minval=0.0, maxval=1.0, n=100):\n",
    "    new_cmap = clr.LinearSegmentedColormap.from_list(\n",
    "        'trunc({n},{a:.2f},{b:.2f})'.format(n=cmap.name, a=minval, b=maxval),\n",
    "        cmap(np.linspace(minval, maxval, n)))\n",
    "    return new_cmap"
   ]
  },
  {
   "cell_type": "code",
   "execution_count": null,
   "id": "c4da0f64",
   "metadata": {},
   "outputs": [],
   "source": [
    "def plot_snap(Z_i_list, Z_s_list, T_i_list, T_s_list, \n",
    "              figsize=(15, 10),\n",
    "              t_min=None, t_max=None,\n",
    "              cmap=None, names=None,\n",
    "              savepath=None, dpi=None):\n",
    "    \n",
    "    z_min = min([Z_i[0] for Z_i in Z_i_list])\n",
    "    z_max = max([Z_s[-1] for Z_s in Z_s_list])\n",
    "    t_min = min(map(min, T_i_list + T_s_list)) if t_min is None else t_min\n",
    "    t_max = max(map(max, T_i_list + T_s_list)) if t_max is None else t_max\n",
    "#     temp_pairs = [min(T_i + T_s), max(T) for T in T_list]\n",
    "\n",
    "    cmaps = ['Blues', 'Purples', 'Greens', 'cool', 'winter']\n",
    "    lines_ice = []\n",
    "\n",
    "    fig, axes = plt.subplots(nrows=len(T_i_list) + 1, figsize=figsize, \\\n",
    "                             gridspec_kw={\"height_ratios\": [1] + [0.05]*len(T_i_list)})\n",
    "    ax = axes[0]\n",
    "    ax.set_xlim(t_min - (t_max - t_min)*0.1, t_max + (t_max - t_min)*0.1)\n",
    "    ax.set_ylim(z_min - (z_max - z_min)*0.1, z_max + (z_max - z_min)*0.1)\n",
    "    for i, (Z_i, Z_s, T_i, T_s) in enumerate(zip(Z_i_list, Z_s_list, T_i_list, T_s_list)):\n",
    "        norm = plt.Normalize(max(min(T_i + T_s), t_min), min(max(T_i + T_s), t_max))\n",
    "        cmap = truncate_colormap(plt.get_cmap(cmaps[i%len(cmaps)]), 0.3, 1)\n",
    "        \n",
    "        points_ice = [(T, Z) for T, Z in zip(T_i, Z_i)]\n",
    "        segments_ice = [segment for segment in zip(points_ice[:-1], points_ice[1:])]\n",
    "        lc = LineCollection(segments_ice, linewidths=3, cmap=cmap, norm=norm)\n",
    "        lc.set_array(T_i)\n",
    "        line_ice = ax.add_collection(lc)\n",
    "        lines_ice.append(line_ice)\n",
    "        \n",
    "        markers = ax.scatter(T_i, Z_i, s=60)\n",
    "        markers.set_cmap(cmap)\n",
    "        markers.set_array(T_i)\n",
    "\n",
    "        ax.plot(T_s, Z_s, color='grey', lw=3, marker='o')\n",
    "        \n",
    "    ax.axhline(ls='--', lw=3, color='navy')\n",
    "    ax.set_xlabel(r'T, $^o C$', size=20)\n",
    "    ax.set_ylabel('Z, m', size=20)\n",
    "    ax.yaxis.set_major_formatter(mtk.FormatStrFormatter('%.2f'))\n",
    "    ax.tick_params(labelsize=15)\n",
    "    ax.grid()\n",
    "    \n",
    "    for i, (cax, line_ice) in enumerate(zip(axes[1:], lines_ice)):\n",
    "        cbar = fig.colorbar(line_ice, cax=cax, orientation='horizontal')\n",
    "        if names is None:\n",
    "            cbar.ax.set_xlabel('process %d'%i, size=20)\n",
    "        else:\n",
    "            cbar.ax.set_xlabel(names[i], size=20)\n",
    "        cbar.ax.tick_params(labelsize=15)\n",
    "    \n",
    "    if savepath is None:\n",
    "        plt.show()\n",
    "    else:\n",
    "        fig.savefig(fig, savepath)"
   ]
  },
  {
   "cell_type": "code",
   "execution_count": null,
   "id": "10ec9d1a",
   "metadata": {},
   "outputs": [],
   "source": [
    "plt.Figure.savefig()"
   ]
  },
  {
   "cell_type": "code",
   "execution_count": null,
   "id": "80974c1b",
   "metadata": {},
   "outputs": [],
   "source": [
    "test = np.array([np.nan, [2, 3], np.nan, [2, 3]])\n",
    "test[np.isnan(test)]"
   ]
  },
  {
   "cell_type": "code",
   "execution_count": null,
   "id": "98b632b4",
   "metadata": {},
   "outputs": [],
   "source": [
    "Z_i, Z_s = get_Z_pair(obj_ice[\"cells_thickness_array\"], obj_snow[\"cells_thickness_array\"],\n",
    "                      obj_ice[\"cells data\"][\"cells_density_array\"], obj_snow[\"cells data\"][\"cells_density_array\"],\n",
    "                      1023.0)"
   ]
  },
  {
   "cell_type": "code",
   "execution_count": null,
   "id": "44d97f93",
   "metadata": {},
   "outputs": [],
   "source": [
    "T_i = [obj_ice[\"single data\"][\"down_temp\"]] + obj_ice[\"cells data\"][\"cells_temp_array\"]\\\n",
    "    + [obj_ice[\"single data\"][\"up_temp\"]]\n",
    "T_s = [obj_snow[\"single data\"][\"down_temp\"]] + obj_snow[\"cells data\"][\"cells_temp_array\"]\\\n",
    "    + [obj_snow[\"single data\"][\"up_temp\"]]"
   ]
  },
  {
   "cell_type": "code",
   "execution_count": null,
   "id": "240ca810",
   "metadata": {},
   "outputs": [],
   "source": [
    "plot_snap([Z_i], [Z_s], [T_i], [T_s])"
   ]
  }
 ],
 "metadata": {
  "kernelspec": {
   "display_name": "Python 3",
   "language": "python",
   "name": "python3"
  },
  "language_info": {
   "codemirror_mode": {
    "name": "ipython",
    "version": 3
   },
   "file_extension": ".py",
   "mimetype": "text/x-python",
   "name": "python",
   "nbconvert_exporter": "python",
   "pygments_lexer": "ipython3",
   "version": "3.8.8"
  }
 },
 "nbformat": 4,
 "nbformat_minor": 5
}
