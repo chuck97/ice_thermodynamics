{
 "cells": [
  {
   "cell_type": "code",
   "execution_count": null,
   "id": "41675fde",
   "metadata": {},
   "outputs": [],
   "source": [
    "import numpy as np\n",
    "import matplotlib.pyplot as plt\n",
    "import utils.visualizer as uv\n",
    "import utils.engine as ue"
   ]
  },
  {
   "cell_type": "code",
   "execution_count": null,
   "id": "c09efed9",
   "metadata": {},
   "outputs": [],
   "source": [
    "T_cells_prev, T_cells_old = np.array([-1.55, -5.0, -9.0, -13.0, -17.0]), np.array([-1.50, -4.95, -8.95, -12.95, -16.95])\n",
    "T_ice_ocn_new, T_ice_ocn_prev, T_ice_ocn_old = -1.5, -1.4, -1.3\n",
    "T_ice_atm_new, T_ice_atm_prev, T_ice_atm_old = -20.0, -21.0, -22.0\n",
    "omega_ice_ocn, omega_ice_atm = -0.00001, -0.0002\n",
    "dz_cells_new, dz_cells_old = np.array([0.1, 0.1, 0.1, 0.1, 0.1]), np.array([0.98, 0.98, 0.98, 0.98, 0.98])\n",
    "salinity_cells = np.array([0.0, 0.0, 0.0, 0.0, 0.0])\n",
    "radiation_nodes = np.array([0.0, 0.0, 0.0, 0.0, 0.0, 0.0])\n",
    "\n"
   ]
  },
  {
   "cell_type": "code",
   "execution_count": null,
   "id": "46a0263d",
   "metadata": {},
   "outputs": [],
   "source": [
    "res = ue.get_matrix_upwind(T_cells_prev = T_cells_prev,\n",
    "                           T_cells_old = T_cells_old,\n",
    "                           T_ice_ocn_new = T_ice_ocn_new,\n",
    "                           T_ice_ocn_prev = T_ice_ocn_prev,\n",
    "                           T_ice_ocn_old = T_ice_ocn_old,\n",
    "                           T_ice_atm_new = T_ice_atm_new,\n",
    "                           T_ice_atm_prev = T_ice_atm_prev,\n",
    "                           T_ice_atm_old = T_ice_atm_old,\n",
    "                           omega_ice_ocn = omega_ice_ocn,\n",
    "                           omega_ice_atm = omega_ice_atm,\n",
    "                           dz_cells_new = dz_cells_new,\n",
    "                           dz_cells_old = dz_cells_old,\n",
    "                           salinity_cells = salinity_cells,\n",
    "                           radiation_nodes = radiation_nodes,\n",
    "                           E=ue.E_i,\n",
    "                           c=ue.c_i,\n",
    "                           k=ue.k_i,\n",
    "                           rho=ue.rho_i,\n",
    "                           time_step=3600.0,\n",
    "                           is_snow=False)"
   ]
  },
  {
   "cell_type": "code",
   "execution_count": null,
   "id": "c14d7f28",
   "metadata": {},
   "outputs": [],
   "source": [
    "np.savetxt('matrix_left_diag.txt', res[0].reshape(1, res[0].shape[0]), delimiter=' ')\n",
    "np.savetxt('matrix_main_diag.txt', res[1].reshape(1, res[1].shape[0]), delimiter=' ')\n",
    "np.savetxt('matrix_right_diag.txt', res[2].reshape(1, res[2].shape[0]), delimiter=' ')\n",
    "np.savetxt('matrix_rhs.txt', res[3].reshape(1, res[3].shape[0]), delimiter=' ')"
   ]
  }
 ],
 "metadata": {
  "kernelspec": {
   "display_name": "Python 3",
   "language": "python",
   "name": "python3"
  },
  "language_info": {
   "codemirror_mode": {
    "name": "ipython",
    "version": 3
   },
   "file_extension": ".py",
   "mimetype": "text/x-python",
   "name": "python",
   "nbconvert_exporter": "python",
   "pygments_lexer": "ipython3",
   "version": "3.8.8"
  }
 },
 "nbformat": 4,
 "nbformat_minor": 5
}
