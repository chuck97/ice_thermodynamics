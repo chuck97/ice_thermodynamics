{
 "cells": [
  {
   "cell_type": "code",
   "execution_count": 1,
   "id": "3a4e162c",
   "metadata": {},
   "outputs": [],
   "source": [
    "import numpy as np\n",
    "import pandas as pd\n",
    "import matplotlib.colors as clr\n",
    "import matplotlib.pyplot as plt\n",
    "import utils.engine as ue\n",
    "import utils.visualizer as uv"
   ]
  },
  {
   "cell_type": "code",
   "execution_count": 2,
   "id": "c0be2041",
   "metadata": {},
   "outputs": [],
   "source": [
    "%load_ext autoreload\n",
    "%load_ext line_profiler\n",
    "%autoreload 2"
   ]
  },
  {
   "cell_type": "code",
   "execution_count": null,
   "id": "2f33d04b",
   "metadata": {},
   "outputs": [],
   "source": [
    "plt.rcParams[\"animation.html\"] = \"jshtml\""
   ]
  },
  {
   "cell_type": "code",
   "execution_count": null,
   "id": "9f9b44f6",
   "metadata": {},
   "outputs": [],
   "source": [
    "with open(\"Validation/SHEBA_Data/01-forcing.dat\") as file:\n",
    "    arr = file.readlines()\n",
    "    \n",
    "cols_1 = [colname.replace('\\n', '') for colname in arr[0].split(\" \") if colname]\n",
    "file_1 = np.array([[float(el) for el in line.split(\" \") if el] for line in arr[1:]])"
   ]
  },
  {
   "cell_type": "code",
   "execution_count": null,
   "id": "90c57cff",
   "metadata": {},
   "outputs": [],
   "source": [
    "with open(\"Validation/SHEBA_Data/02-hs-hi_thickness.dat\") as file:\n",
    "    arr = file.readlines()\n",
    "    \n",
    "cols_2 = [colname.replace('\\n', '') for colname in arr[0].split(\" \") if colname]\n",
    "file_2 = np.array([[float(el) for el in line.split(\" \") if el] for line in arr[1:]])"
   ]
  },
  {
   "cell_type": "code",
   "execution_count": null,
   "id": "0af79d60",
   "metadata": {},
   "outputs": [],
   "source": [
    "with open(\"Validation/SHEBA_Data/06-depth_pit.dat\") as file:\n",
    "    arr = file.readlines()\n",
    "    \n",
    "file_6 = np.array([[float(el) for el in line.split(\" \") if el] for line in arr])\n",
    "file_6[:, 0] = np.round(file_6[:, 0], 4)"
   ]
  },
  {
   "cell_type": "code",
   "execution_count": null,
   "id": "2c5e1a7b",
   "metadata": {},
   "outputs": [],
   "source": [
    "with open(\"Validation/SHEBA_Data/07-pit_fcond.dat\") as file:\n",
    "    arr = file.readlines()\n",
    "    \n",
    "cols_7 = [colname.replace('\\n', '') for colname in arr[0].split(\" \") if colname]\n",
    "file_7 = np.array([[float(el) for el in line.split(\" \") if el] for line in arr[1:]])"
   ]
  },
  {
   "cell_type": "code",
   "execution_count": null,
   "id": "ba73ba0f",
   "metadata": {},
   "outputs": [],
   "source": [
    "with open(\"Validation/SHEBA_Data/08-tocn.dat\") as file:\n",
    "    arr = file.readlines()\n",
    "    \n",
    "file_8 = np.array([[float(el) for el in line.split(\" \") if el] for line in arr])"
   ]
  },
  {
   "cell_type": "code",
   "execution_count": null,
   "id": "4f01daab",
   "metadata": {},
   "outputs": [],
   "source": [
    "with open(\"Validation/SHEBA_Data/09-focn.dat\") as file:\n",
    "    arr = file.readlines()\n",
    "    \n",
    "cols_9 = [colname.replace('\\n', '') for colname in arr[0].split(\" \") if colname]\n",
    "file_9 = np.array([[float(el) for el in line.split(\" \") if el] for line in arr[1:]])"
   ]
  },
  {
   "cell_type": "code",
   "execution_count": null,
   "id": "7ad65c4b",
   "metadata": {},
   "outputs": [],
   "source": [
    "with open(\"Validation/SHEBA_Data/10-temp.dat\") as file:\n",
    "    arr = file.readlines()\n",
    "    \n",
    "file_10 = np.array([[float(el) for el in line.split(\" \") if el] for line in arr])"
   ]
  },
  {
   "cell_type": "code",
   "execution_count": null,
   "id": "4b5a4000",
   "metadata": {},
   "outputs": [],
   "source": [
    "with open(\"Validation/SHEBA_Data/11-turbflux.dat\") as file:\n",
    "    arr = file.readlines()\n",
    "    \n",
    "cols_11 = [colname.replace('\\n', '') for colname in arr[0].split(\" \") if colname]\n",
    "file_11 = np.array([[float(el) for el in line.split(\" \") if el] for line in arr[1:]])"
   ]
  },
  {
   "cell_type": "code",
   "execution_count": null,
   "id": "e8096991",
   "metadata": {},
   "outputs": [],
   "source": [
    "data = pd.DataFrame(file_1, columns=cols_1)\n",
    "\n",
    "data_2 = pd.DataFrame(file_2, columns=cols_2)\n",
    "data = data.merge(data_2.iloc[:, 1:],\n",
    "                  left_on=(data['jday']*1000).astype('int32'),\n",
    "                  right_on=(data_2['jday']*1000).astype('int32')).iloc[:, 1:]\n",
    "\n",
    "data_6 = pd.DataFrame(file_6, columns=['jday', 'hs', 'hi', 'hs_level', 'hf_level', 'hi_level'])\n",
    "data = data.merge(data_6.iloc[:, 1:],\n",
    "                  left_on=(data['jday']*1000).astype('int32'),\n",
    "                  right_on=(data_6['jday']*1000).astype('int32')).iloc[:, 1:]\n",
    "\n",
    "data_7 = pd.DataFrame(file_7, columns=cols_7)\n",
    "data = data.merge(data_7.iloc[:, 1:],\n",
    "                  left_on=(data['jday']*1000).astype('int32'),\n",
    "                  right_on=(data_7['jday']*1000).astype('int32')).iloc[:, 1:]\n",
    "\n",
    "data_8 = pd.DataFrame(file_8, columns=['jday', 'Tocn'])\n",
    "data = data.merge(data_8.iloc[:, 1:],\n",
    "                  left_on=(data['jday']*1000).astype('int32'),\n",
    "                  right_on=(data_8['jday']*1000).astype('int32')).iloc[:, 1:]\n",
    "\n",
    "data_9 = pd.DataFrame(file_9, columns=cols_9)\n",
    "data = data.merge(data_9.iloc[:, 1:],\n",
    "                  left_on=(data['jday']*1000).astype('int32'),\n",
    "                  right_on=(data_9['jday']*1000).astype('int32')).iloc[:, 1:]\n",
    "\n",
    "data_10 = pd.DataFrame(file_10, columns=['jday'] + ['T_{}'.format(i) for i in range(1, 51)])\n",
    "data = data.merge(data_10.iloc[:, 1:],\n",
    "                  left_on=(data['jday']*1000).astype('int32'),\n",
    "                  right_on=(data_10['jday']*1000).astype('int32')).iloc[:, 1:]\n",
    "\n",
    "data_11 = pd.DataFrame(file_11, columns=cols_11)\n",
    "data = data.merge(data_11.iloc[:, 1:],\n",
    "                  left_on=(data['jday']*1000).astype('int32'),\n",
    "                  right_on=(data_11['jday']*1000).astype('int32')).iloc[:, 1:]"
   ]
  },
  {
   "cell_type": "code",
   "execution_count": null,
   "id": "be9f8f3e",
   "metadata": {},
   "outputs": [],
   "source": [
    "# data.to_csv('Validation/full_data.csv', index=False)"
   ]
  },
  {
   "cell_type": "code",
   "execution_count": 3,
   "id": "0f0c2bdc",
   "metadata": {},
   "outputs": [],
   "source": [
    "with open(\"Validation/SHEBA_Data/12-levels.dat\") as file:\n",
    "    Z = [float(z.replace(' ', '')[:-1]) for z in file.readlines()]"
   ]
  },
  {
   "cell_type": "code",
   "execution_count": 4,
   "id": "fe61fdc3",
   "metadata": {},
   "outputs": [],
   "source": [
    "data = pd.read_csv('Validation/full_data.csv')"
   ]
  },
  {
   "cell_type": "code",
   "execution_count": null,
   "id": "7e35bbe9",
   "metadata": {},
   "outputs": [],
   "source": [
    "data.columns"
   ]
  },
  {
   "cell_type": "markdown",
   "id": "ea779cfa",
   "metadata": {},
   "source": [
    "Выводы:\n",
    "1. hs_level и hs_best почему-то не равны\n",
    "2. hi_x, hi_y не равны, также как и hs_x и hs_y\n",
    "3. Focn_x, Focn_y и focn_pit не равны"
   ]
  },
  {
   "cell_type": "code",
   "execution_count": null,
   "id": "8b566346",
   "metadata": {},
   "outputs": [],
   "source": [
    "data"
   ]
  },
  {
   "cell_type": "code",
   "execution_count": null,
   "id": "9793614b",
   "metadata": {},
   "outputs": [],
   "source": [
    "data[['Focn_x', 'Focn_y', 'focn_pit']].plot(figsize=(15, 10), grid=True)"
   ]
  },
  {
   "cell_type": "code",
   "execution_count": null,
   "id": "0d17fbb1",
   "metadata": {},
   "outputs": [],
   "source": [
    "data[['hs_x', 'hs_y', 'hs_level', 'hs_best']].plot(figsize=(15, 10), grid=True)"
   ]
  },
  {
   "cell_type": "code",
   "execution_count": null,
   "id": "3e3c0a4f",
   "metadata": {
    "scrolled": false
   },
   "outputs": [],
   "source": [
    "data[['hi_x', 'hi_y', 'hi_level', 'hi_best']].plot(figsize=(15, 10), grid=True)"
   ]
  },
  {
   "cell_type": "code",
   "execution_count": null,
   "id": "0df00a2f",
   "metadata": {},
   "outputs": [],
   "source": [
    "(data['Tis'] - data['Tss']).plot(figsize=(15, 10), grid=True)"
   ]
  },
  {
   "cell_type": "code",
   "execution_count": null,
   "id": "db652813",
   "metadata": {},
   "outputs": [],
   "source": [
    "prec = 5.\n",
    "cmap_base = plt.get_cmap('rainbow')\n",
    "vmin = data.loc[:, 'T_1':'T_50'].values.min()\n",
    "vmax = data.loc[:, 'T_1':'T_50'].values.max()\n",
    "\n",
    "boundaries = np.concatenate(([vmin], np.arange(np.floor(vmin + prec), vmax, prec), [vmax]))\n",
    "centers = (boundaries[1:] + boundaries[:-1])/2\n",
    "centers_scaled = (centers - vmin) / (vmax - vmin)\n",
    "\n",
    "cmap_custom = clr.ListedColormap([cmap_base(x) for x in centers_scaled])\n",
    "norm_custom = clr.BoundaryNorm(boundaries, cmap_custom.N)"
   ]
  },
  {
   "cell_type": "code",
   "execution_count": null,
   "id": "a65085a0",
   "metadata": {},
   "outputs": [],
   "source": [
    "plt.figure(figsize=(20, 10))\n",
    "plt.imshow(data.loc[:, 'T_1':'T_50'].T,\n",
    "           aspect='auto', cmap=cmap_custom, norm=norm_custom,\n",
    "           extent=[data.loc[0, 'jday'], data.loc[data.index[-1], 'jday'], Z[-1], Z[0]])\n",
    "plt.plot(data['jday'], data['hs_level'], color='white', lw=3, ls=':', label='snow surface')\n",
    "plt.plot(data['jday'], data['hf_level'], color='white', lw=3, ls='--', label='snow-ice interface')\n",
    "plt.plot(data['jday'], data['hi_level'], color='white', lw=3, label='ice base')\n",
    "plt.plot(data['jday'], data['hs_best'], color='black', lw=3, ls=':', label='snow surface best')\n",
    "plt.xticks(size=15)\n",
    "plt.yticks(size=15)\n",
    "plt.legend(loc='lower left', facecolor='black', labelcolor='white', prop={'size': 20})\n",
    "plt.colorbar(ticks=boundaries)\n",
    "plt.savefig('test-image.png', dpi=150)\n",
    "plt.show()"
   ]
  },
  {
   "cell_type": "markdown",
   "id": "1b69823a",
   "metadata": {},
   "source": [
    "Судя по статье (Fig.5 (a), (b)), чёрные точки - это метод приближения, использованный в статье Хувальда"
   ]
  },
  {
   "cell_type": "code",
   "execution_count": 6,
   "id": "a6f0121f",
   "metadata": {},
   "outputs": [],
   "source": [
    "test_proc = ue.process_from_data(Z, data.loc[:, 'T_1':'T_50'].values, data['Tss'].values, data['Tis'].values,\n",
    "                     data['hi_best'].values, data['hf_best'].values, data['hs_best'].values,\n",
    "                     np.ones(20)/20.0, np.ones(5)/5.0,\n",
    "                     data['jday'].values, ue.rho_i)"
   ]
  },
  {
   "cell_type": "code",
   "execution_count": null,
   "id": "d64ff5ed",
   "metadata": {},
   "outputs": [],
   "source": [
    "test_anim = uv.animate([test_proc], ue.rho_w, ue.rho_s, clip_start=4000)"
   ]
  },
  {
   "cell_type": "code",
   "execution_count": null,
   "id": "68d262d9",
   "metadata": {},
   "outputs": [],
   "source": [
    "test_anim"
   ]
  },
  {
   "cell_type": "code",
   "execution_count": 5,
   "id": "533b92cc",
   "metadata": {},
   "outputs": [
    {
     "ename": "NameError",
     "evalue": "name 'test_proc' is not defined",
     "output_type": "error",
     "traceback": [
      "\u001b[0;31m---------------------------------------------------------------------------\u001b[0m",
      "\u001b[0;31mNameError\u001b[0m                                 Traceback (most recent call last)",
      "\u001b[0;32m/tmp/ipykernel_227623/3898283248.py\u001b[0m in \u001b[0;36m<module>\u001b[0;34m\u001b[0m\n\u001b[0;32m----> 1\u001b[0;31m \u001b[0muv\u001b[0m\u001b[0;34m.\u001b[0m\u001b[0mtimeseries_img\u001b[0m\u001b[0;34m(\u001b[0m\u001b[0mtest_proc\u001b[0m\u001b[0;34m,\u001b[0m \u001b[0mue\u001b[0m\u001b[0;34m.\u001b[0m\u001b[0mrho_w\u001b[0m\u001b[0;34m,\u001b[0m \u001b[0mue\u001b[0m\u001b[0;34m.\u001b[0m\u001b[0mrho_s\u001b[0m\u001b[0;34m)\u001b[0m\u001b[0;34m\u001b[0m\u001b[0;34m\u001b[0m\u001b[0m\n\u001b[0m",
      "\u001b[0;31mNameError\u001b[0m: name 'test_proc' is not defined"
     ]
    }
   ],
   "source": [
    "uv.timeseries_img(test_proc, ue.rho_w, ue.rho_s)"
   ]
  },
  {
   "cell_type": "code",
   "execution_count": null,
   "id": "8f229d11",
   "metadata": {},
   "outputs": [],
   "source": [
    "mesh_Z = np.array([Z]*data.shape[0])"
   ]
  },
  {
   "cell_type": "code",
   "execution_count": null,
   "id": "e3883577",
   "metadata": {},
   "outputs": [],
   "source": [
    "inds_ib = np.searchsorted([-z for z in Z], -data['hi_best'])\n",
    "inds_is = np.searchsorted([-z for z in Z], -data['hf_best'], side='right')\n",
    "\n",
    "has_snow = (abs(data['hs_best'] - data['hi_best']) > 1e-3).values\n",
    "\n",
    "Tib_interp = [(data[ind-1]*(Z[ind] - z_i) + data[ind]*(z_i - Z[ind-1])) / (Z[ind] - Z[ind-1]) \\\n",
    "              for z_i, Z, data, ind \\\n",
    "              in zip(data['hi_best'], mesh_Z, data.loc[:, 'T_1': 'T_50'].itertuples(index=False), inds_ib)]\n",
    "\n",
    "Tis_interp = [(data[ind-1]*(Z[ind] - z_f) + data[ind]*(z_f - Z[ind-1])) / (Z[ind] - Z[ind-1]) \\\n",
    "              if snow else Tis \n",
    "              for z_f, Tis, snow, Z, data, ind \\\n",
    "              in zip(data['hf_best'], data['Tis'], has_snow,\n",
    "                     mesh_Z, data.loc[:, 'T_1': 'T_50'].itertuples(index=False), inds_is)]"
   ]
  },
  {
   "cell_type": "code",
   "execution_count": null,
   "id": "eba60ec3",
   "metadata": {},
   "outputs": [],
   "source": [
    "filter_ice = (data[['hi_best']].values < mesh_Z) & (mesh_Z < data[['hf_best']].values)\n",
    "filter_snow = (data[['hf_best']].values < mesh_Z) & (mesh_Z < data[['hs_best']].values)"
   ]
  },
  {
   "cell_type": "code",
   "execution_count": null,
   "id": "c1d647b8",
   "metadata": {},
   "outputs": [],
   "source": [
    "Z_ice = [np.concatenate(([surf], line_ice[filt_ice], [base])) \\\n",
    "         for surf, line_ice, filt_ice, base \\\n",
    "         in zip(data['hf_best'], mesh_Z, filter_ice, data['hi_best'])]\n",
    "Z_snow = [np.concatenate(([surf], line_snow[filt_snow], [base])) \\\n",
    "          for surf, line_snow, filt_snow, base \\\n",
    "          in zip(data['hs_best'], mesh_Z, filter_snow, data['hf_best'])]"
   ]
  },
  {
   "cell_type": "code",
   "execution_count": null,
   "id": "4f4dbe3d",
   "metadata": {},
   "outputs": [],
   "source": [
    "temp_ice = [np.concatenate(([surf], line_ice[filt_ice], [base])) \\\n",
    "            for surf, line_ice, filt_ice, base \\\n",
    "            in zip(Tis_interp, data.loc[:, 'T_1':'T_50'].values, filter_ice, Tib_interp)]\n",
    "temp_snow = [np.concatenate(([surf], line_ice[filt_ice], [base])) \\\n",
    "             for surf, line_ice, filt_ice, base \\\n",
    "             in zip(data['Tss'], data.loc[:, 'T_1':'T_50'].values, filter_snow, Tis_interp)]"
   ]
  },
  {
   "cell_type": "code",
   "execution_count": null,
   "id": "bf633225",
   "metadata": {},
   "outputs": [],
   "source": [
    "Z_ice[0]"
   ]
  },
  {
   "cell_type": "code",
   "execution_count": null,
   "id": "c2b6d88c",
   "metadata": {},
   "outputs": [],
   "source": [
    "dsigma_ice = np.ones(20)/20.0\n",
    "sigma_nodes = np.concatenate(([0.0], dsigma_ice.cumsum()))\n",
    "sigma_centers = (sigma_nodes[:-1] + sigma_nodes[1:])/2\n",
    "Z_points = Z_ice[0][-1] + sigma_centers*(Z_ice[0][0] - Z_ice[0][-1])\n",
    "T_points = np.interp(Z_points, Z_ice[0][::-1], temp_ice[0][::-1])"
   ]
  },
  {
   "cell_type": "code",
   "execution_count": null,
   "id": "89215112",
   "metadata": {},
   "outputs": [],
   "source": [
    "plt.figure(figsize=(15, 10))\n",
    "plt.plot(Z_ice[0], temp_ice[0], label='data')\n",
    "plt.plot(Z_points, T_points, label='interpolation')\n",
    "plt.legend()\n",
    "plt.grid()\n",
    "plt.show()"
   ]
  },
  {
   "cell_type": "code",
   "execution_count": null,
   "id": "71387b95",
   "metadata": {},
   "outputs": [],
   "source": [
    "plt.figure(figsize=(15, 10))\n",
    "plt.plot(data['Tis'], label='from data')\n",
    "plt.plot(Tis_interp, label='interpolated + data (when no snow)')\n",
    "plt.legend()\n",
    "plt.grid()\n",
    "plt.show()"
   ]
  },
  {
   "cell_type": "code",
   "execution_count": null,
   "id": "c928e606",
   "metadata": {},
   "outputs": [],
   "source": [
    "data.loc[:, ['jday', 'Tss', 'Tis', 'Tib'] + ['T_{}'.format(i) for i in range(1, 51)]]"
   ]
  },
  {
   "cell_type": "code",
   "execution_count": null,
   "id": "d775200c",
   "metadata": {},
   "outputs": [],
   "source": [
    "ind=6000\n",
    "\n",
    "plt.figure(figsize=(15, 10))\n",
    "plt.plot(data.loc[ind, 'T_1':'T_50'], mesh_Z[ind])\n",
    "plt.scatter([data.loc[ind, 'Tib'], data.loc[ind, 'Tis'], data.loc[ind, 'Tss']],\n",
    "            [data.loc[ind, 'hi_best'], data.loc[ind, 'hf'], data.loc[ind, 'hs_best']])\n",
    "plt.scatter([Tib_interp[ind], Tis_interp[ind]],\n",
    "            [data.loc[ind, 'hi_best'], data.loc[ind, 'hf_best']], color='red')\n",
    "plt.grid()\n",
    "plt.show()"
   ]
  },
  {
   "cell_type": "code",
   "execution_count": null,
   "id": "2284a620",
   "metadata": {},
   "outputs": [],
   "source": []
  }
 ],
 "metadata": {
  "kernelspec": {
   "display_name": "Python 3 (ipykernel)",
   "language": "python",
   "name": "python3"
  },
  "language_info": {
   "codemirror_mode": {
    "name": "ipython",
    "version": 3
   },
   "file_extension": ".py",
   "mimetype": "text/x-python",
   "name": "python",
   "nbconvert_exporter": "python",
   "pygments_lexer": "ipython3",
   "version": "3.8.10"
  }
 },
 "nbformat": 4,
 "nbformat_minor": 5
}
