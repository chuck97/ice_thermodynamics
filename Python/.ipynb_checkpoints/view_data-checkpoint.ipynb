{
 "cells": [
  {
   "cell_type": "code",
   "execution_count": null,
   "id": "3a4e162c",
   "metadata": {},
   "outputs": [],
   "source": [
    "import numpy as np\n",
    "import pandas as pd\n",
    "import matplotlib.pyplot as plt\n",
    "import utils.engine as uv"
   ]
  },
  {
   "cell_type": "code",
   "execution_count": null,
   "id": "9f9b44f6",
   "metadata": {},
   "outputs": [],
   "source": [
    "with open(\"Validation/SHEBA_Data/01-forcing.dat\") as file:\n",
    "    arr = file.readlines()\n",
    "    \n",
    "cols_1 = [colname.replace('\\n', '') for colname in arr[0].split(\" \") if colname]\n",
    "file_1 = np.array([[float(el) for el in line.split(\" \") if el] for line in arr[1:]])"
   ]
  },
  {
   "cell_type": "code",
   "execution_count": null,
   "id": "90c57cff",
   "metadata": {},
   "outputs": [],
   "source": [
    "with open(\"Validation/SHEBA_Data/02-hs-hi_thickness.dat\") as file:\n",
    "    arr = file.readlines()\n",
    "    \n",
    "cols_2 = [colname.replace('\\n', '') for colname in arr[0].split(\" \") if colname]\n",
    "file_2 = np.array([[float(el) for el in line.split(\" \") if el] for line in arr[1:]])"
   ]
  },
  {
   "cell_type": "code",
   "execution_count": null,
   "id": "0af79d60",
   "metadata": {},
   "outputs": [],
   "source": [
    "with open(\"Validation/SHEBA_Data/06-depth_pit.dat\") as file:\n",
    "    arr = file.readlines()\n",
    "    \n",
    "file_6 = np.array([[float(el) for el in line.split(\" \") if el] for line in arr])\n",
    "file_6[:, 0] = np.round(file_6[:, 0], 4)"
   ]
  },
  {
   "cell_type": "code",
   "execution_count": null,
   "id": "2c5e1a7b",
   "metadata": {},
   "outputs": [],
   "source": [
    "with open(\"Validation/SHEBA_Data/07-pit_fcond.dat\") as file:\n",
    "    arr = file.readlines()\n",
    "    \n",
    "cols_7 = [colname.replace('\\n', '') for colname in arr[0].split(\" \") if colname]\n",
    "file_7 = np.array([[float(el) for el in line.split(\" \") if el] for line in arr[1:]])"
   ]
  },
  {
   "cell_type": "code",
   "execution_count": null,
   "id": "ba73ba0f",
   "metadata": {},
   "outputs": [],
   "source": [
    "with open(\"Validation/SHEBA_Data/08-tocn.dat\") as file:\n",
    "    arr = file.readlines()\n",
    "    \n",
    "file_8 = np.array([[float(el) for el in line.split(\" \") if el] for line in arr])"
   ]
  },
  {
   "cell_type": "code",
   "execution_count": null,
   "id": "4f01daab",
   "metadata": {},
   "outputs": [],
   "source": [
    "with open(\"Validation/SHEBA_Data/09-focn.dat\") as file:\n",
    "    arr = file.readlines()\n",
    "    \n",
    "cols_9 = [colname.replace('\\n', '') for colname in arr[0].split(\" \") if colname]\n",
    "file_9 = np.array([[float(el) for el in line.split(\" \") if el] for line in arr[1:]])"
   ]
  },
  {
   "cell_type": "code",
   "execution_count": null,
   "id": "7ad65c4b",
   "metadata": {},
   "outputs": [],
   "source": [
    "with open(\"Validation/SHEBA_Data/10-temp.dat\") as file:\n",
    "    arr = file.readlines()\n",
    "    \n",
    "file_10 = np.array([[float(el) for el in line.split(\" \") if el] for line in arr])"
   ]
  },
  {
   "cell_type": "code",
   "execution_count": null,
   "id": "4b5a4000",
   "metadata": {},
   "outputs": [],
   "source": [
    "with open(\"Validation/SHEBA_Data/11-turbflux.dat\") as file:\n",
    "    arr = file.readlines()\n",
    "    \n",
    "cols_11 = [colname.replace('\\n', '') for colname in arr[0].split(\" \") if colname]\n",
    "file_11 = np.array([[float(el) for el in line.split(\" \") if el] for line in arr[1:]])"
   ]
  },
  {
   "cell_type": "code",
   "execution_count": null,
   "id": "14c1cffc",
   "metadata": {},
   "outputs": [],
   "source": [
    "with open(\"Validation/SHEBA_Data/12-levels.dat\") as file:\n",
    "    Z = [float(z.replace(' ', '')[:-1]) for z in file.readlines()]"
   ]
  },
  {
   "cell_type": "code",
   "execution_count": null,
   "id": "cfa9d8fb",
   "metadata": {},
   "outputs": [],
   "source": [
    "pd.DataFrame(file_2, columns=cols_2)"
   ]
  },
  {
   "cell_type": "code",
   "execution_count": null,
   "id": "e8096991",
   "metadata": {},
   "outputs": [],
   "source": [
    "data = pd.DataFrame(file_1, columns=cols_1)\n",
    "\n",
    "data_2 = pd.DataFrame(file_2, columns=cols_2)\n",
    "data = data.merge(data_2.iloc[:, 1:],\n",
    "                  left_on=(data['jday']*1000).astype('int32'),\n",
    "                  right_on=(data_2['jday']*1000).astype('int32')).iloc[:, 1:]\n",
    "\n",
    "data_6 = pd.DataFrame(file_6, columns=['jday', 'hs', 'hi', 'hs_level', 'hf_level', 'hi_level'])\n",
    "data = data.merge(data_6.iloc[:, 1:],\n",
    "                  left_on=(data['jday']*1000).astype('int32'),\n",
    "                  right_on=(data_6['jday']*1000).astype('int32')).iloc[:, 1:]\n",
    "\n",
    "data_7 = pd.DataFrame(file_7, columns=cols_7)\n",
    "data = data.merge(data_7.iloc[:, 1:],\n",
    "                  left_on=(data['jday']*1000).astype('int32'),\n",
    "                  right_on=(data_7['jday']*1000).astype('int32')).iloc[:, 1:]"
   ]
  },
  {
   "cell_type": "code",
   "execution_count": null,
   "id": "8946041b",
   "metadata": {},
   "outputs": [],
   "source": [
    "######################################\n",
    "######################################\n",
    "######################################\n",
    "data"
   ]
  },
  {
   "cell_type": "code",
   "execution_count": null,
   "id": "6cf313be",
   "metadata": {},
   "outputs": [],
   "source": [
    "pd.merge(pd.DataFrame(thicknesses), pd.DataFrame(vals), on=0)"
   ]
  },
  {
   "cell_type": "code",
   "execution_count": null,
   "id": "20073dc7",
   "metadata": {},
   "outputs": [],
   "source": [
    "filter_time = lambda arr: (thicknesses[0, 0] <= arr) & (arr < vals[-1, 0])"
   ]
  },
  {
   "cell_type": "code",
   "execution_count": null,
   "id": "a65085a0",
   "metadata": {},
   "outputs": [],
   "source": [
    "filter_vals = filter_time(vals[:, 0])\n",
    "filter_thicknesses = filter_time(thicknesses[:, 0])\n",
    "\n",
    "plt.figure(figsize=(20, 10))\n",
    "plt.imshow(vals[:, 1:][filter_vals].T, aspect='auto', cmap='rainbow',\n",
    "           extent=[vals[:, 0][filter_vals][0], vals[:, 0][filter_vals][-1], Z[-1], Z[0]])\n",
    "plt.plot(thicknesses[:, 0][filter_thicknesses], thicknesses[:, 3][filter_thicknesses],\n",
    "         color='white', lw=3, ls=':', label='snow surface')\n",
    "plt.plot(thicknesses[:, 0][filter_thicknesses], thicknesses[:, 4][filter_thicknesses],\n",
    "         color='white', lw=3, ls='--', label='snow-ice interface')\n",
    "plt.plot(thicknesses[:, 0][filter_thicknesses], thicknesses[:, 5][filter_thicknesses],\n",
    "         color='white', lw=3, label='ice base')\n",
    "plt.xticks(size=15)\n",
    "plt.yticks(size=15)\n",
    "plt.legend(loc='lower left', facecolor='black', labelcolor='white', prop={'size': 20})\n",
    "plt.colorbar()\n",
    "plt.show()"
   ]
  },
  {
   "cell_type": "code",
   "execution_count": null,
   "id": "47d6a693",
   "metadata": {},
   "outputs": [],
   "source": [
    "sum(filter_vals)"
   ]
  },
  {
   "cell_type": "code",
   "execution_count": null,
   "id": "64045f36",
   "metadata": {},
   "outputs": [],
   "source": [
    "vals[:, 1:]"
   ]
  },
  {
   "cell_type": "code",
   "execution_count": null,
   "id": "8f229d11",
   "metadata": {},
   "outputs": [],
   "source": [
    "mesh_Z = np.array([Z]*sum(filter_vals))"
   ]
  },
  {
   "cell_type": "code",
   "execution_count": null,
   "id": "eba60ec3",
   "metadata": {},
   "outputs": [],
   "source": [
    "filter_ice = (thicknesses[:, [5]][filter_thicknesses] < mesh_Z) & \\\n",
    "             (mesh_Z < thicknesses[:, [4]][filter_thicknesses])"
   ]
  },
  {
   "cell_type": "code",
   "execution_count": null,
   "id": "c1d647b8",
   "metadata": {},
   "outputs": [],
   "source": [
    "Z_ice = [np.concatenate(([inter], line_ice[filt_ice], [base]))\\\n",
    "         for inter, line_ice, filt_ice, base in zip(thicknesses[:, 4], mesh_Z, filter_ice, thicknesses[:, 5])]"
   ]
  },
  {
   "cell_type": "code",
   "execution_count": null,
   "id": "4f4dbe3d",
   "metadata": {},
   "outputs": [],
   "source": [
    "temp_ice = [line_ice[filt_ice] for line_ice, filt_ice in zip(vals[:, 1:], filter_ice)]"
   ]
  },
  {
   "cell_type": "code",
   "execution_count": null,
   "id": "88723154",
   "metadata": {},
   "outputs": [],
   "source": [
    "Z_ice"
   ]
  },
  {
   "cell_type": "code",
   "execution_count": null,
   "id": "be8f314f",
   "metadata": {},
   "outputs": [],
   "source": [
    "temp_ice"
   ]
  },
  {
   "cell_type": "code",
   "execution_count": null,
   "id": "246620c7",
   "metadata": {},
   "outputs": [],
   "source": [
    "Z_ice[0]"
   ]
  },
  {
   "cell_type": "code",
   "execution_count": null,
   "id": "8d4e8f94",
   "metadata": {},
   "outputs": [],
   "source": [
    "temp_ice[0]"
   ]
  },
  {
   "cell_type": "code",
   "execution_count": null,
   "id": "40ed98e9",
   "metadata": {},
   "outputs": [],
   "source": [
    "vis_0 = uv.animate(dzi_arr, dzs_arr,\n",
    "                   temp_oi_arr, temp_ice_arr, temp_is_arr, temp_snow_arr, temp_sa_arr,\n",
    "                   timeline,\n",
    "                   rho_ice_arr, ue.rho_w, ue.rho_s,\n",
    "                   snow_filter,\n",
    "                   clip_start=10, clip_end=85)"
   ]
  }
 ],
 "metadata": {
  "kernelspec": {
   "display_name": "Python 3",
   "language": "python",
   "name": "python3"
  },
  "language_info": {
   "codemirror_mode": {
    "name": "ipython",
    "version": 3
   },
   "file_extension": ".py",
   "mimetype": "text/x-python",
   "name": "python",
   "nbconvert_exporter": "python",
   "pygments_lexer": "ipython3",
   "version": "3.8.8"
  }
 },
 "nbformat": 4,
 "nbformat_minor": 5
}
