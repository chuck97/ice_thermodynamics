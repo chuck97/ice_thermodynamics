{
 "cells": [
  {
   "cell_type": "code",
   "execution_count": null,
   "id": "fa2b27da",
   "metadata": {},
   "outputs": [],
   "source": [
    "import numpy as np\n",
    "import pandas as pd\n",
    "import matplotlib.pyplot as plt\n",
    "import utils.engine as ue\n",
    "import utils.visualizer as uv"
   ]
  },
  {
   "cell_type": "code",
   "execution_count": null,
   "id": "d8b56ec7",
   "metadata": {},
   "outputs": [],
   "source": [
    "%load_ext autoreload\n",
    "%load_ext line_profiler\n",
    "%autoreload 2"
   ]
  },
  {
   "cell_type": "code",
   "execution_count": null,
   "id": "fd22c038",
   "metadata": {},
   "outputs": [],
   "source": [
    "plt.rcParams[\"animation.html\"] = \"jshtml\""
   ]
  },
  {
   "cell_type": "code",
   "execution_count": null,
   "id": "945539e8",
   "metadata": {},
   "outputs": [],
   "source": [
    "data = pd.read_csv('Validation/full_data.csv')"
   ]
  },
  {
   "cell_type": "code",
   "execution_count": null,
   "id": "dd2ff1f2",
   "metadata": {},
   "outputs": [],
   "source": [
    "data.columns"
   ]
  },
  {
   "cell_type": "code",
   "execution_count": null,
   "id": "06ec2296",
   "metadata": {},
   "outputs": [],
   "source": [
    "data['Tib_interp'].plot()"
   ]
  },
  {
   "cell_type": "code",
   "execution_count": null,
   "id": "fd8ab676",
   "metadata": {},
   "outputs": [],
   "source": [
    "with open(\"Validation/SHEBA_Data/12-levels.dat\") as file:\n",
    "    Z = [float(z.replace(' ', '')[:-1]) for z in file.readlines()]"
   ]
  },
  {
   "cell_type": "markdown",
   "id": "ba63db45",
   "metadata": {},
   "source": [
    "## Инициализация профиля"
   ]
  },
  {
   "cell_type": "code",
   "execution_count": null,
   "id": "97f98d4e",
   "metadata": {},
   "outputs": [],
   "source": [
    "def get_init_from_data(data, dsigma_ice, dsigma_snow, snow_thickness_threshold=0.05, index=0):\n",
    "    \n",
    "    has_snow = (data.loc[index, 'hs_best'] - data.loc[index, 'hf_best']) >= snow_thickness_threshold\n",
    "    \n",
    "    filter_ice = (data.loc[index, 'hi_best'] < Z) & (Z < data.loc[index, 'hf_best'])\n",
    "    filter_snow = (data.loc[index, 'hf_best'] < Z) & (Z < data.loc[index, 'hs_best'])\n",
    "\n",
    "    Z_ice = np.concatenate((data.loc[index, ['hf_best']],\n",
    "                            np.array(Z)[filter_ice],\n",
    "                            data.loc[index, ['hi_best']]))\n",
    "\n",
    "    Z_snow = np.concatenate((data.loc[index, ['hs_best']],\n",
    "                            np.array(Z)[filter_snow],\n",
    "                            data.loc[index, ['hf_best']]))\n",
    "\n",
    "    T_ice = np.concatenate((data.loc[index, ['Tis_interp']],\n",
    "                            data.loc[index, 'T_1':'T_50'][filter_ice],\n",
    "                            data.loc[index, ['Tib_interp']]))\n",
    "\n",
    "    T_snow = np.concatenate((data.loc[index, ['Tss']],\n",
    "                             data.loc[index, 'T_1':'T_50'][filter_snow],\n",
    "                             data.loc[index, ['Tis_interp']]))\n",
    "\n",
    "    sigma_ice_nodes = np.concatenate(([0.0], dsigma_ice.cumsum()))\n",
    "    sigma_ice_centers = (sigma_ice_nodes[:-1] + sigma_ice_nodes[1:])/2\n",
    "    Z_ice_new = Z_ice[-1] + sigma_ice_centers*(Z_ice[0] - Z_ice[-1])\n",
    "\n",
    "    sigma_snow_nodes = np.concatenate(([0.0], dsigma_snow.cumsum()))\n",
    "    sigma_snow_centers = (sigma_snow_nodes[:-1] + sigma_snow_nodes[1:])/2\n",
    "    Z_snow_new = Z_snow[-1] + sigma_snow_centers*(Z_snow[0] - Z_snow[-1])\n",
    "\n",
    "    T_ice_new = np.interp(Z_ice_new, Z_ice[::-1], T_ice[::-1])\n",
    "    T_snow_new = np.interp(Z_snow_new, Z_snow[::-1], T_snow[::-1])\n",
    "    \n",
    "    return T_ice_new, T_snow_new, \\\n",
    "            data.loc[index, 'Tib_interp'], data.loc[index, 'Tis_interp'], \\\n",
    "            (data.loc[index, 'Tss'] if has_snow else np.nan), \\\n",
    "            dsigma_ice*(data.loc[index, 'hf_best'] - data.loc[index, 'hi_best']), \\\n",
    "            (1.0 if has_snow else np.nan)*dsigma_snow \\\n",
    "            *(data.loc[index, 'hs_best'] - data.loc[index, 'hf_best'])"
   ]
  },
  {
   "cell_type": "code",
   "execution_count": null,
   "id": "7682c84b",
   "metadata": {},
   "outputs": [],
   "source": [
    "def compare_profiles(process_data, process_simulation):\n",
    "    assert process_data.get_length() == process_simulation.get_length(), \\\n",
    "           \"Lenghts of input arrays ({}, {}) should be equal!\".format(process_data.get_length(),\n",
    "                                                                      process_simulation.get_length())\n",
    "    \n",
    "    assert process_data.get_nodes_num() == process_simulation.get_nodes_num(), \\\n",
    "           \"Numbers of nodes for snow and ice for two processes ({}, {}) should be equal!\"\\\n",
    "           .format(process_data.get_nodes_num(), process_simulation.get_nodes_num())\n",
    "    \n",
    "    plt.figure(figsize=(35, 50))\n",
    "    \n",
    "    plt.subplot(5, 2, 1)\n",
    "    plt.title(\"Min temperarure error for ice\")\n",
    "    plt.plot(process_simulation.timeline,\n",
    "             process_data.ice_temp_history.min(axis=1) - process_simulation.ice_temp_history.min(axis=1))\n",
    "    plt.grid()\n",
    "    \n",
    "    plt.subplot(5, 2, 2)\n",
    "    plt.title(\"Min temperarure error for snow\")\n",
    "    plt.plot(process_simulation.timeline,\n",
    "             process_data.snow_temp_history.min(axis=1) - process_simulation.snow_temp_history.min(axis=1))\n",
    "    plt.grid()\n",
    "    \n",
    "    plt.subplot(5, 2, 3)\n",
    "    plt.title(\"Max temperarure error for ice\")\n",
    "    plt.plot(process_simulation.timeline,\n",
    "             process_data.ice_temp_history.max(axis=1) - process_simulation.ice_temp_history.max(axis=1))\n",
    "    plt.grid()\n",
    "    \n",
    "    plt.subplot(5, 2, 4)\n",
    "    plt.title(\"Max temperarure error for snow\")\n",
    "    plt.plot(process_simulation.timeline,\n",
    "             process_data.snow_temp_history.max(axis=1) - process_simulation.snow_temp_history.max(axis=1))\n",
    "    plt.grid()\n",
    "    \n",
    "    plt.subplot(5, 2, 5)\n",
    "    plt.title(\"Max temperature difference error for ice\")\n",
    "    plt.plot(process_simulation.timeline,\n",
    "             abs(process_data.ice_temp_history - process_simulation.ice_temp_history).max(axis=1))\n",
    "    plt.grid()\n",
    "    \n",
    "    plt.subplot(5, 2, 6)\n",
    "    plt.title(\"Max temperarure difference error for snow\")\n",
    "    plt.plot(process_simulation.timeline,\n",
    "             abs(process_data.snow_temp_history - process_simulation.snow_temp_history).max(axis=1))\n",
    "    plt.grid()\n",
    "    \n",
    "    plt.subplot(5, 2, 7)\n",
    "    plt.title(\"Avg temperature difference error for ice\")\n",
    "    plt.plot(process_simulation.timeline,\n",
    "             np.sqrt(((process_data.ice_temp_history - process_simulation.ice_temp_history)**2).mean(axis=1)))\n",
    "    plt.grid()\n",
    "    \n",
    "    plt.subplot(5, 2, 8)\n",
    "    plt.title(\"Avg temperarure difference error for snow\")\n",
    "    plt.plot(process_simulation.timeline,\n",
    "             np.sqrt(((process_data.snow_temp_history - process_simulation.snow_temp_history)**2).mean(axis=1)))\n",
    "    plt.grid()\n",
    "    \n",
    "    plt.subplot(5, 2, 9)\n",
    "    plt.title(\"Thickness error for ice\")\n",
    "    plt.plot(process_simulation.timeline,\n",
    "             process_data.ice_dz_history.sum(axis=1) - process_simulation.ice_dz_history.sum(axis=1))\n",
    "    plt.grid()\n",
    "    \n",
    "    plt.subplot(5, 2, 10)\n",
    "    plt.title(\"Thickness error for snow\")\n",
    "    plt.plot(process_simulation.timeline,\n",
    "             process_data.snow_dz_history.sum(axis=1) - process_simulation.snow_dz_history.sum(axis=1))\n",
    "    plt.grid()\n",
    "    \n",
    "    plt.show()"
   ]
  },
  {
   "cell_type": "code",
   "execution_count": null,
   "id": "c000eb72",
   "metadata": {},
   "outputs": [],
   "source": [
    "def plot_thicknesses(data_proc, sim_proc):\n",
    "    plt.figure(figsize=(15, 10))\n",
    "    plt.title('Ice thickness')\n",
    "    plt.plot(sim_proc.ice_dz_history.sum(axis=1), label='simulation')\n",
    "    plt.plot(data_proc.ice_dz_history.sum(axis=1), label='data')\n",
    "    plt.legend()\n",
    "    plt.grid()\n",
    "    plt.show()\n",
    "    \n",
    "    plt.figure(figsize=(15, 10))\n",
    "    plt.title('Snow thickness')\n",
    "    plt.plot(sim_proc.snow_dz_history.sum(axis=1), label='simulation')\n",
    "    plt.plot(data_proc.snow_dz_history.sum(axis=1), label='data')\n",
    "    plt.legend()\n",
    "    plt.grid()\n",
    "    plt.show()"
   ]
  },
  {
   "cell_type": "code",
   "execution_count": null,
   "id": "8f268a42",
   "metadata": {},
   "outputs": [],
   "source": [
    "# sigma mesh\n",
    "dsigma_ice = np.full(20, 1.0/20)\n",
    "dsigma_snow = np.full(5, 1.0/5)"
   ]
  },
  {
   "cell_type": "code",
   "execution_count": null,
   "id": "8b42260e",
   "metadata": {},
   "outputs": [],
   "source": [
    "# init state from data\n",
    "T_ice_init, T_snow_init, Toi_init, Tis_init, Tsa_init, \\\n",
    "dzi_init, dzs_init = get_init_from_data(data, dsigma_ice, dsigma_snow)"
   ]
  },
  {
   "cell_type": "code",
   "execution_count": null,
   "id": "9fe5e96f",
   "metadata": {},
   "outputs": [],
   "source": [
    "# process from data\n",
    "data_proc_20cells = ue.process_from_data(Z,\n",
    "                                 data.loc[:, 'T_1':'T_50'].values, \n",
    "                                 data['Tib_interp'].values, data['Tis_interp'].values,\n",
    "                                 data['Tss'].values,\n",
    "                                 data['hi_best'].values, data['hf_best'].values,\n",
    "                                 data['hs_best'].values,\n",
    "                                 np.ones(20)/20.0, np.ones(5)/5.0,\n",
    "                                 time_arr, ue.rho_i)"
   ]
  },
  {
   "cell_type": "code",
   "execution_count": null,
   "id": "a2d7c1c4",
   "metadata": {},
   "outputs": [],
   "source": [
    "# forcing\n",
    "e_s = lambda T: 6.11*np.exp(ue.c1_i*T/(T + ue.T0 - ue.c2_i))\n",
    "q_surf = lambda T: 0.622*e_s(T)/(ue.P_surf - 0.378*e_s(T))\n",
    "\n",
    "time_arr = ((data['jday'] - data.loc[0, 'jday'])*24*3600).values\n",
    "albe = data['albe'].values\n",
    "Tib_interp = data['Tib_interp'].values\n",
    "tair = data['tair'].values\n",
    "uair = data['uair'].values\n",
    "qair = data['qair'].values\n",
    "prec = data['prec_eff'].values\n",
    "swdo = data['swdo'].values\n",
    "lwdo = data['lwdo'].values\n",
    "focn_pit = data['focn_pit'].values\n",
    "Focn_y = data['Focn_y'].values\n",
    "\n",
    "\n",
    "find_index_fast = lambda time_sec: np.searchsorted(time_arr, time_sec, side='right') - 1\n",
    "albedo = lambda time: albe[find_index_fast(time)]\n",
    "Toi = lambda time: Tib_interp[find_index_fast(time)]\n",
    "T_a = lambda time: tair[find_index_fast(time)] - ue.T0\n",
    "u_a = lambda time: uair[find_index_fast(time)]\n",
    "q_a = lambda time: qair[find_index_fast(time)] * 1e-3\n",
    "p = lambda time: prec[find_index_fast(time)] * ue.mmd_to_ms\n",
    "F_sw = lambda time: swdo[find_index_fast(time)]\n",
    "F_lw = lambda time: lwdo[find_index_fast(time)]\n",
    "F_bolz = lambda T: -ue.sigma*(T + ue.T0)**4\n",
    "F_sh = lambda T, time: ue.rho_a*ue.c_pa*ue.C_sh*u_a(time)*(T_a(time) - T)\n",
    "F_lh = lambda T, time: ue.rho_a*ue.L_s0*ue.C_lh*u_a(time)*(q_a(time) - q_surf(T))\n",
    "F_P = lambda T, time: p(time)*ue.rho_w*ue.c_pw*max(T_a(time) - T, 0)\n",
    "F_atm = lambda T, time, i_0: ue.emissivity*(F_lw(time) + F_bolz(T)) \\\n",
    "                           + (1 - albedo(time))*(1 - i_0)*F_sw(time) \\\n",
    "                           + F_sh(T, time) + F_P(T, time) + F_lh(T, time) \n",
    "\n",
    "F_atm_ice = lambda T, time: F_atm(T, time, ue.i0_i)\n",
    "F_atm_snow = lambda T, time: F_atm(T, time, ue.i0_s)\n",
    "F_ocn = lambda T, time: Focn_y[find_index_fast(time)]"
   ]
  },
  {
   "cell_type": "code",
   "execution_count": null,
   "id": "a74d1661",
   "metadata": {
    "scrolled": true
   },
   "outputs": [],
   "source": [
    "%%time\n",
    "sim_proc_20cells_diff_sal = ue.main_process \\\n",
    "(\n",
    "    time_step=3600.0,\n",
    "    time_end=7774*3600.0,\n",
    "    N_pseudoiter=50,\n",
    "    Ti_init=T_ice_init,\n",
    "    Ts_init=T_snow_init,\n",
    "    Tis_init=Tis_init,\n",
    "    Tsa_init=Tsa_init,\n",
    "    dzi_init=dzi_init,\n",
    "    dzs_init=dzs_init,\n",
    "    salinity=np.linspace(4.0, 1.0, len(dzi_init)),\n",
    "    snow_thickness_threshold=0.01,\n",
    "    Toi=Toi,\n",
    "    Ta=T_a,\n",
    "    p=p,\n",
    "    F_atm_ice=F_atm_ice,\n",
    "    F_atm_snow=F_atm_snow,\n",
    "    F_sw=F_sw,\n",
    "    F_ocn=F_ocn\n",
    ")"
   ]
  },
  {
   "cell_type": "code",
   "execution_count": null,
   "id": "15585d96",
   "metadata": {},
   "outputs": [],
   "source": [
    "plot_thicknesses(data_proc, sim_proc_20cells_diff_sal)"
   ]
  },
  {
   "cell_type": "code",
   "execution_count": null,
   "id": "f2972f5c",
   "metadata": {
    "scrolled": false
   },
   "outputs": [],
   "source": [
    "uv.animate([data_proc_20cells, sim_proc_20cells[:6400]], names=['data', 'simulation'], clip_start=4000, dpi=250)"
   ]
  },
  {
   "cell_type": "code",
   "execution_count": null,
   "id": "73ae593b",
   "metadata": {},
   "outputs": [],
   "source": [
    "compare_profiles(data_proc_20cells, sim_proc_20cells)"
   ]
  },
  {
   "cell_type": "code",
   "execution_count": null,
   "id": "d8c1183a",
   "metadata": {},
   "outputs": [],
   "source": [
    "%%time\n",
    "sim_proc_20cells_diff_sal_neg_snow = ue.main_process \\\n",
    "(\n",
    "    time_step=3600.0,\n",
    "    time_end=7774*3600.0,\n",
    "    N_pseudoiter=50,\n",
    "    Ti_init=T_ice_init,\n",
    "    Ts_init=T_snow_init,\n",
    "    Tis_init=Tis_init,\n",
    "    Tsa_init=Tsa_init,\n",
    "    dzi_init=dzi_init,\n",
    "    dzs_init=dzs_init,\n",
    "    salinity=np.linspace(4.0, 1.0, len(dzi_init)),\n",
    "    snow_thickness_threshold=0.01,\n",
    "    Toi=Toi,\n",
    "    Ta=T_a,\n",
    "    p=p,\n",
    "    F_atm_ice=F_atm_ice,\n",
    "    F_atm_snow=F_atm_snow,\n",
    "    F_sw=F_sw,\n",
    "    F_ocn=F_ocn\n",
    ")"
   ]
  },
  {
   "cell_type": "code",
   "execution_count": null,
   "id": "67c82617",
   "metadata": {},
   "outputs": [],
   "source": [
    "plot_thicknesses(data_proc, sim_proc_20cells_diff_sal_neg_snow)"
   ]
  },
  {
   "cell_type": "code",
   "execution_count": null,
   "id": "5e04340c",
   "metadata": {},
   "outputs": [],
   "source": [
    "compare_profiles(data_proc_20cells, sim_proc_20cells_diff_sal_neg_snow)"
   ]
  },
  {
   "cell_type": "code",
   "execution_count": null,
   "id": "aaf04c0a",
   "metadata": {},
   "outputs": [],
   "source": [
    "# sigma mesh\n",
    "dsigma_ice_40 = np.full(40, 1.0/40)\n",
    "dsigma_snow_5 = np.full(5, 1.0/5)"
   ]
  },
  {
   "cell_type": "code",
   "execution_count": null,
   "id": "5f0a425c",
   "metadata": {},
   "outputs": [],
   "source": [
    "# init state from data\n",
    "T_ice_init, T_snow_init, Toi_init, Tis_init, Tsa_init, \\\n",
    "dzi_init, dzs_init = get_init_from_data(data, dsigma_ice_40, dsigma_snow_5)"
   ]
  },
  {
   "cell_type": "code",
   "execution_count": null,
   "id": "55802c0e",
   "metadata": {},
   "outputs": [],
   "source": [
    "# process from data\n",
    "data_proc_40cells = ue.process_from_data(Z,\n",
    "                                 data.loc[:, 'T_1':'T_50'].values, \n",
    "                                 data['Tib_interp'].values, data['Tis_interp'].values,\n",
    "                                 data['Tss'].values,\n",
    "                                 data['hi_best'].values, data['hf_best'].values,\n",
    "                                 data['hs_best'].values,\n",
    "                                 dsigma_ice_40, dsigma_snow_5,\n",
    "                                 time_arr, ue.rho_i)"
   ]
  },
  {
   "cell_type": "code",
   "execution_count": null,
   "id": "2e9e01f5",
   "metadata": {},
   "outputs": [],
   "source": [
    "%%time\n",
    "sim_proc_40cells = ue.main_process \\\n",
    "(\n",
    "    time_step=3600.0,\n",
    "    time_end=7774*3600.0,\n",
    "    N_pseudoiter=50,\n",
    "    Ti_init=T_ice_init,\n",
    "    Ts_init=T_snow_init,\n",
    "    Tis_init=Tis_init,\n",
    "    Tsa_init=Tsa_init,\n",
    "    dzi_init=dzi_init,\n",
    "    dzs_init=dzs_init,\n",
    "    salinity=np.linspace(4.0, 1.0, len(dzi_init)),\n",
    "    snow_thickness_threshold=0.01,\n",
    "    Toi=Toi,\n",
    "    Ta=T_a,\n",
    "    p=p,\n",
    "    F_atm_ice=F_atm_ice,\n",
    "    F_atm_snow=F_atm_snow,\n",
    "    F_sw=F_sw,\n",
    "    F_ocn=F_ocn\n",
    ")"
   ]
  },
  {
   "cell_type": "code",
   "execution_count": null,
   "id": "db0fad7d",
   "metadata": {},
   "outputs": [],
   "source": [
    "plot_thicknesses(data_proc_40cells, sim_proc)"
   ]
  },
  {
   "cell_type": "code",
   "execution_count": null,
   "id": "593e92d7",
   "metadata": {},
   "outputs": [],
   "source": []
  }
 ],
 "metadata": {
  "kernelspec": {
   "display_name": "Python 3",
   "language": "python",
   "name": "python3"
  },
  "language_info": {
   "codemirror_mode": {
    "name": "ipython",
    "version": 3
   },
   "file_extension": ".py",
   "mimetype": "text/x-python",
   "name": "python",
   "nbconvert_exporter": "python",
   "pygments_lexer": "ipython3",
   "version": "3.8.8"
  }
 },
 "nbformat": 4,
 "nbformat_minor": 5
}
