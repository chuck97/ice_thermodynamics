{
 "cells": [
  {
   "cell_type": "code",
   "execution_count": 1,
   "id": "fa2b27da",
   "metadata": {},
   "outputs": [],
   "source": [
    "import numpy as np\n",
    "import pandas as pd\n",
    "import matplotlib.pyplot as plt\n",
    "import utils.engine as ue\n",
    "import utils.visualizer as uv"
   ]
  },
  {
   "cell_type": "code",
   "execution_count": 2,
   "id": "d8b56ec7",
   "metadata": {},
   "outputs": [],
   "source": [
    "%load_ext autoreload\n",
    "%load_ext line_profiler\n",
    "%autoreload 2"
   ]
  },
  {
   "cell_type": "code",
   "execution_count": 3,
   "id": "fd22c038",
   "metadata": {},
   "outputs": [],
   "source": [
    "plt.rcParams[\"animation.html\"] = \"jshtml\""
   ]
  },
  {
   "cell_type": "code",
   "execution_count": 4,
   "id": "945539e8",
   "metadata": {},
   "outputs": [],
   "source": [
    "data = pd.read_csv('Validation/full_data.csv')"
   ]
  },
  {
   "cell_type": "code",
   "execution_count": 5,
   "id": "fd8ab676",
   "metadata": {},
   "outputs": [],
   "source": [
    "with open(\"Validation/SHEBA_Data/12-levels.dat\") as file:\n",
    "    Z = [float(z.replace(' ', '')[:-1]) for z in file.readlines()]"
   ]
  },
  {
   "cell_type": "markdown",
   "id": "ba63db45",
   "metadata": {},
   "source": [
    "## Инициализация профиля"
   ]
  },
  {
   "cell_type": "code",
   "execution_count": 8,
   "id": "14cb1b43",
   "metadata": {},
   "outputs": [
    {
     "data": {
      "text/plain": [
       "Index(['jday', 'uair', 'tair', 'qair', 'lwdo', 'swdo', 'prec', 'Focn_x',\n",
       "       'albe', 'hs_best', 'hf_best', 'hi_best', 'hs_x', 'hi_x', 'hs_level',\n",
       "       'hf_level', 'hi_level', 'Tss', 'Tis', 'Tib', 'Tsurf', 'hs_y', 'hi_y',\n",
       "       'hf', 'Fcss', 'Fcsb', 'Fcis', 'Fcib', 'Fmib', 'Focn_y', 'Trod', 'Fcsf',\n",
       "       'Tocn', 'focn_pit', 'T_1', 'T_2', 'T_3', 'T_4', 'T_5', 'T_6', 'T_7',\n",
       "       'T_8', 'T_9', 'T_10', 'T_11', 'T_12', 'T_13', 'T_14', 'T_15', 'T_16',\n",
       "       'T_17', 'T_18', 'T_19', 'T_20', 'T_21', 'T_22', 'T_23', 'T_24', 'T_25',\n",
       "       'T_26', 'T_27', 'T_28', 'T_29', 'T_30', 'T_31', 'T_32', 'T_33', 'T_34',\n",
       "       'T_35', 'T_36', 'T_37', 'T_38', 'T_39', 'T_40', 'T_41', 'T_42', 'T_43',\n",
       "       'T_44', 'T_45', 'T_46', 'T_47', 'T_48', 'T_49', 'T_50', 'fsen', 'flat',\n",
       "       'Tib_interp', 'Tis_interp'],\n",
       "      dtype='object')"
      ]
     },
     "execution_count": 8,
     "metadata": {},
     "output_type": "execute_result"
    }
   ],
   "source": [
    "data.columns"
   ]
  },
  {
   "cell_type": "code",
   "execution_count": 9,
   "id": "97f98d4e",
   "metadata": {},
   "outputs": [],
   "source": [
    "def get_init_from_data(data, dsigma_ice, dsigma_snow, snow_thickness_threshold=0.05, index=0):\n",
    "    \n",
    "    has_snow = (data.loc[index, 'hs_best'] - data.loc[index, 'hf_best']) >= snow_thickness_threshold\n",
    "    \n",
    "    filter_ice = (data.loc[index, 'hi_best'] < Z) & (Z < data.loc[index, 'hf_best'])\n",
    "    filter_snow = (data.loc[index, 'hf_best'] < Z) & (Z < data.loc[index, 'hs_best'])\n",
    "\n",
    "    Z_ice = np.concatenate((data.loc[index, ['hf_best']],\n",
    "                            np.array(Z)[filter_ice],\n",
    "                            data.loc[index, ['hi_best']]))\n",
    "\n",
    "    Z_snow = np.concatenate((data.loc[index, ['hs_best']],\n",
    "                            np.array(Z)[filter_snow],\n",
    "                            data.loc[index, ['hf_best']]))\n",
    "\n",
    "    T_ice = np.concatenate((data.loc[index, ['Tis_interp']],\n",
    "                            data.loc[index, 'T_1':'T_50'][filter_ice],\n",
    "                            data.loc[index, ['Tib_interp']]))\n",
    "\n",
    "    T_snow = np.concatenate((data.loc[index, ['Tss']],\n",
    "                             data.loc[index, 'T_1':'T_50'][filter_snow],\n",
    "                             data.loc[index, ['Tis_interp']]))\n",
    "\n",
    "    sigma_ice_nodes = np.concatenate(([0.0], dsigma_ice.cumsum()))\n",
    "    sigma_ice_centers = (sigma_ice_nodes[:-1] + sigma_ice_nodes[1:])/2\n",
    "    Z_ice_new = Z_ice[-1] + sigma_ice_centers*(Z_ice[0] - Z_ice[-1])\n",
    "\n",
    "    sigma_snow_nodes = np.concatenate(([0.0], dsigma_snow.cumsum()))\n",
    "    sigma_snow_centers = (sigma_snow_nodes[:-1] + sigma_snow_nodes[1:])/2\n",
    "    Z_snow_new = Z_snow[-1] + sigma_snow_centers*(Z_snow[0] - Z_snow[-1])\n",
    "\n",
    "    T_ice_new = np.interp(Z_ice_new, Z_ice[::-1], T_ice[::-1])\n",
    "    T_snow_new = np.interp(Z_snow_new, Z_snow[::-1], T_snow[::-1])\n",
    "    \n",
    "    return T_ice_new, T_snow_new, \\\n",
    "            data.loc[index, 'Tib_interp'], data.loc[index, 'Tis_interp'], \\\n",
    "            (data.loc[index, 'Tss'] if has_snow else np.nan), \\\n",
    "            dsigma_ice*(data.loc[index, 'hf_best'] - data.loc[index, 'hi_best']), \\\n",
    "            (1.0 if has_snow else np.nan)*dsigma_snow \\\n",
    "            *(data.loc[index, 'hs_best'] - data.loc[index, 'hf_best'])"
   ]
  },
  {
   "cell_type": "code",
   "execution_count": 7,
   "id": "8f268a42",
   "metadata": {},
   "outputs": [],
   "source": [
    "dsigma_ice = np.full(20, 1.0/20)\n",
    "dsigma_snow = np.full(5, 1.0/5)"
   ]
  },
  {
   "cell_type": "code",
   "execution_count": 11,
   "id": "8b42260e",
   "metadata": {},
   "outputs": [],
   "source": [
    "T_ice_init, T_snow_init, Toi_init, Tis_init, Tsa_init, \\\n",
    "dzi_init, dzs_init = get_init_from_data(data, dsigma_ice, dsigma_snow)"
   ]
  },
  {
   "cell_type": "code",
   "execution_count": 39,
   "id": "6a10e118",
   "metadata": {},
   "outputs": [],
   "source": [
    "def find_index(time_sec):\n",
    "    return np.searchsorted((data['jday'] - data.loc[0, 'jday'])*24*3600, time_sec) - 1\n",
    "\n",
    "def find_index_fast(time_sec, seconds):\n",
    "    return np.searchsorted(seconds, time_sec) - 1"
   ]
  },
  {
   "cell_type": "code",
   "execution_count": 43,
   "id": "3b3c2cbb",
   "metadata": {},
   "outputs": [
    {
     "name": "stdout",
     "output_type": "stream",
     "text": [
      "251 µs ± 5.64 µs per loop (mean ± std. dev. of 7 runs, 1000 loops each)\n",
      "2.15 µs ± 299 ns per loop (mean ± std. dev. of 7 runs, 1000000 loops each)\n"
     ]
    }
   ],
   "source": [
    "test = ((data['jday'] - data.loc[0, 'jday'])*24*3600).values\n",
    "%timeit find_index(3600*1200 + 1000)\n",
    "%timeit find_index_fast(3600*1200 + 1000, test)"
   ]
  },
  {
   "cell_type": "code",
   "execution_count": 13,
   "id": "da409698",
   "metadata": {},
   "outputs": [],
   "source": [
    "e_s = lambda T: 6.11*np.exp(ue.c1_i*T/(T + ue.T0 - ue.c2_i))\n",
    "q_surf = lambda T: 0.622*e_s(T)/(ue.P_surf - 0.378*e_s(T))\n",
    "\n",
    "albedo = lambda time: data.loc[find_index(time), 'albe']\n",
    "T_a = lambda time: data.loc[find_index(time), 'tair'] - ue.T0\n",
    "u_a = lambda time: data.loc[find_index(time), 'uair']\n",
    "q_a = lambda time: data.loc[find_index(time), 'qair'] * 1e-3\n",
    "p = lambda time: data.loc[find_index(time), 'prec'] * ue.p_ms\n",
    "F_sw = lambda time: data.loc[find_index(time), 'swdo']\n",
    "F_lw = lambda time: data.loc[find_index(time), 'lwdo']\n",
    "F_bolz = lambda T: -ue.sigma*(T + ue.T0)**4\n",
    "F_sh = lambda T, time: ue.rho_a*ue.c_pa*ue.C_sh*u_a(time)*(T_a(time) - T)\n",
    "F_lh = lambda T, time: ue.rho_a*ue.L_s0*ue.C_lh*u_a(time)*(q_a(time) - q_surf(T))\n",
    "F_P = lambda T, time: p(time)*ue.rho_w*ue.c_pw*max(T_a(time) - T, 0)\n",
    "F_atm = lambda T, time, i_0: ue.emissivity*(F_lw(time) + F_bolz(T)) \\\n",
    "                           + (1 - albedo(time))*(1 - i_0)*F_sw(time) \\\n",
    "                           + F_sh(T, time) + F_P(T, time) + F_lh(T, time) \n",
    "\n",
    "F_atm_ice = lambda T, time: F_atm(T, time, ue.i0_i)\n",
    "F_atm_snow = lambda T, time: F_atm(T, time, ue.i0_s)\n",
    "F_ocn = lambda T, time: data.loc[find_index(time), 'focn_pit']"
   ]
  },
  {
   "cell_type": "code",
   "execution_count": 37,
   "id": "b424a4a5",
   "metadata": {},
   "outputs": [
    {
     "name": "stdout",
     "output_type": "stream",
     "text": [
      "Time 1.0 h.: Snow-ice freezing...\n",
      "Time 2.0 h.: Snow-ice freezing...\n",
      "Time 3.0 h.: Snow-ice freezing...\n",
      "Time 4.0 h.: Snow-ice freezing...\n",
      "Time 5.0 h.: Snow-ice freezing...\n",
      "CPU times: user 12.4 s, sys: 28 ms, total: 12.5 s\n",
      "Wall time: 12.5 s\n"
     ]
    }
   ],
   "source": [
    "%%time\n",
    "sheba_proc = ue.main_process \\\n",
    "(\n",
    "    time_step=3600.0,\n",
    "    time_end=5*3600.0,\n",
    "    N_pseudoiter=50,\n",
    "    Ti_init=T_ice_init,\n",
    "    Ts_init=T_snow_init,\n",
    "    Toi_init=Toi_init,\n",
    "    Tis_init=Tis_init,\n",
    "    Tsa_init=Tsa_init,\n",
    "    dzi_init=dzi_init,\n",
    "    dzs_init=dzs_init,\n",
    "    salinity=np.linspace(4.0, 1.0, len(dzi_init)),\n",
    "    snow_thickness_threshold=0.01,\n",
    "    Ta=T_a,\n",
    "    p=p,\n",
    "    F_atm_ice=F_atm_ice,\n",
    "    F_atm_snow=F_atm_snow,\n",
    "    F_sw=F_sw,\n",
    "    F_ocn=F_ocn\n",
    ")"
   ]
  },
  {
   "cell_type": "code",
   "execution_count": 44,
   "id": "a2d7c1c4",
   "metadata": {},
   "outputs": [],
   "source": [
    "e_s = lambda T: 6.11*np.exp(ue.c1_i*T/(T + ue.T0 - ue.c2_i))\n",
    "q_surf = lambda T: 0.622*e_s(T)/(ue.P_surf - 0.378*e_s(T))\n",
    "\n",
    "albe = data['albe'].values\n",
    "tair = data['tair'].values\n",
    "uair = data['uair'].values\n",
    "qair = data['qair'].values\n",
    "prec = data['prec'].values\n",
    "swdo = data['swdo'].values\n",
    "lwdo = data['lwdo'].values\n",
    "focn_pit = data['focn_pit'].values\n",
    "\n",
    "albedo = lambda time: albe[find_index_fast(time, test)]\n",
    "T_a = lambda time: tair[find_index_fast(time, test)] - ue.T0\n",
    "u_a = lambda time: uair[find_index_fast(time, test)]\n",
    "q_a = lambda time: qair[find_index_fast(time, test)] * 1e-3\n",
    "p = lambda time: prec[find_index_fast(time, test)] * ue.p_ms\n",
    "F_sw = lambda time: swdo[find_index_fast(time, test)]\n",
    "F_lw = lambda time: lwdo[find_index_fast(time, test)]\n",
    "F_bolz = lambda T: -ue.sigma*(T + ue.T0)**4\n",
    "F_sh = lambda T, time: ue.rho_a*ue.c_pa*ue.C_sh*u_a(time)*(T_a(time) - T)\n",
    "F_lh = lambda T, time: ue.rho_a*ue.L_s0*ue.C_lh*u_a(time)*(q_a(time) - q_surf(T))\n",
    "F_P = lambda T, time: p(time)*ue.rho_w*ue.c_pw*max(T_a(time) - T, 0)\n",
    "F_atm = lambda T, time, i_0: ue.emissivity*(F_lw(time) + F_bolz(T)) \\\n",
    "                           + (1 - albedo(time))*(1 - i_0)*F_sw(time) \\\n",
    "                           + F_sh(T, time) + F_P(T, time) + F_lh(T, time) \n",
    "\n",
    "F_atm_ice = lambda T, time: F_atm(T, time, ue.i0_i)\n",
    "F_atm_snow = lambda T, time: F_atm(T, time, ue.i0_s)\n",
    "F_ocn = lambda T, time: focn_pit[find_index_fast(time, test)]"
   ]
  },
  {
   "cell_type": "code",
   "execution_count": 46,
   "id": "a74d1661",
   "metadata": {},
   "outputs": [
    {
     "name": "stdout",
     "output_type": "stream",
     "text": [
      "Time 1.0 h.: Snow-ice freezing...\n",
      "Time 2.0 h.: Snow-ice freezing...\n",
      "Time 3.0 h.: Snow-ice freezing...\n",
      "Time 4.0 h.: Snow-ice freezing...\n",
      "Time 5.0 h.: Snow-ice freezing...\n",
      "CPU times: user 460 ms, sys: 0 ns, total: 460 ms\n",
      "Wall time: 463 ms\n"
     ]
    }
   ],
   "source": [
    "%%time\n",
    "sheba_proc = ue.main_process \\\n",
    "(\n",
    "    time_step=3600.0,\n",
    "    time_end=5*3600.0,\n",
    "    N_pseudoiter=50,\n",
    "    Ti_init=T_ice_init,\n",
    "    Ts_init=T_snow_init,\n",
    "    Toi_init=Toi_init,\n",
    "    Tis_init=Tis_init,\n",
    "    Tsa_init=Tsa_init,\n",
    "    dzi_init=dzi_init,\n",
    "    dzs_init=dzs_init,\n",
    "    salinity=np.linspace(4.0, 1.0, len(dzi_init)),\n",
    "    snow_thickness_threshold=0.01, \n",
    "    Ta=T_a,\n",
    "    p=p,\n",
    "    F_atm_ice=F_atm_ice,\n",
    "    F_atm_snow=F_atm_snow,\n",
    "    F_sw=F_sw,\n",
    "    F_ocn=F_ocn\n",
    ")"
   ]
  },
  {
   "cell_type": "code",
   "execution_count": null,
   "id": "a282c796",
   "metadata": {},
   "outputs": [],
   "source": [
    "uv.animate([sheba_proc])"
   ]
  },
  {
   "cell_type": "code",
   "execution_count": null,
   "id": "f9bd57a9",
   "metadata": {},
   "outputs": [],
   "source": [
    "data_proc = ue.process_from_data(Z,\n",
    "                                 data.loc[:500, 'T_1':'T_50'].values, data.loc[:500, 'Tss'].values,\n",
    "                                 data.loc[:500, 'Tis'].values, data.loc[:500, 'hi_best'].values,\n",
    "                                 data.loc[:500, 'hf_best'].values, data.loc[:500, 'hs_best'].values,\n",
    "                                 np.ones(20)/20.0, np.ones(5)/5.0,\n",
    "                                 (data.loc[:500, 'jday'] - data.loc[0, 'jday']).values*24.0*3600.0, ue.rho_i)"
   ]
  },
  {
   "cell_type": "code",
   "execution_count": null,
   "id": "c7fe4d5b",
   "metadata": {},
   "outputs": [],
   "source": [
    "uv.animate([sheba_proc, data_proc])"
   ]
  }
 ],
 "metadata": {
  "kernelspec": {
   "display_name": "Python 3 (ipykernel)",
   "language": "python",
   "name": "python3"
  },
  "language_info": {
   "codemirror_mode": {
    "name": "ipython",
    "version": 3
   },
   "file_extension": ".py",
   "mimetype": "text/x-python",
   "name": "python",
   "nbconvert_exporter": "python",
   "pygments_lexer": "ipython3",
   "version": "3.8.10"
  }
 },
 "nbformat": 4,
 "nbformat_minor": 5
}
