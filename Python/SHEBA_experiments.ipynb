{
 "cells": [
  {
   "cell_type": "code",
   "execution_count": null,
   "id": "fa2b27da",
   "metadata": {},
   "outputs": [],
   "source": [
    "import numpy as np\n",
    "import pandas as pd\n",
    "import matplotlib.pyplot as plt\n",
    "import utils.engine as ue\n",
    "import utils.engine0d as ue0d\n",
    "import utils.visualizer as uv"
   ]
  },
  {
   "cell_type": "code",
   "execution_count": null,
   "id": "d8b56ec7",
   "metadata": {},
   "outputs": [],
   "source": [
    "%load_ext autoreload\n",
    "%load_ext line_profiler\n",
    "%autoreload 2"
   ]
  },
  {
   "cell_type": "code",
   "execution_count": null,
   "id": "945539e8",
   "metadata": {},
   "outputs": [],
   "source": [
    "data = pd.read_csv('Validation/full_data.csv')"
   ]
  },
  {
   "cell_type": "code",
   "execution_count": null,
   "id": "dd2ff1f2",
   "metadata": {},
   "outputs": [],
   "source": [
    "data.columns"
   ]
  },
  {
   "cell_type": "code",
   "execution_count": null,
   "id": "fd8ab676",
   "metadata": {},
   "outputs": [],
   "source": [
    "with open(\"Validation/SHEBA_Data/12-levels.dat\") as file:\n",
    "    Z = [float(z.replace(' ', '')[:-1]) for z in file.readlines()]"
   ]
  },
  {
   "cell_type": "markdown",
   "id": "ba63db45",
   "metadata": {},
   "source": [
    "## Вспомогательные функции"
   ]
  },
  {
   "cell_type": "code",
   "execution_count": null,
   "id": "97f98d4e",
   "metadata": {},
   "outputs": [],
   "source": [
    "def get_init_from_data(data, Z, dsigma_ice, dsigma_snow, snow_thickness_threshold=0.05, index=0):\n",
    "    \n",
    "    has_snow = (data.loc[index, 'hs_best'] - data.loc[index, 'hf_best']) >= snow_thickness_threshold\n",
    "    \n",
    "    filter_ice = (data.loc[index, 'hi_best'] < Z) & (Z < data.loc[index, 'hf_best'])\n",
    "    filter_snow = (data.loc[index, 'hf_best'] < Z) & (Z < data.loc[index, 'hs_best'])\n",
    "\n",
    "    Z_ice = np.concatenate((data.loc[index, ['hf_best']],\n",
    "                            np.array(Z)[filter_ice],\n",
    "                            data.loc[index, ['hi_best']]))\n",
    "\n",
    "    Z_snow = np.concatenate((data.loc[index, ['hs_best']],\n",
    "                            np.array(Z)[filter_snow],\n",
    "                            data.loc[index, ['hf_best']]))\n",
    "\n",
    "    T_ice = np.concatenate((data.loc[index, ['Tis_interp']],\n",
    "                            data.loc[index, 'T_1':'T_50'][filter_ice],\n",
    "                            data.loc[index, ['Tib_interp']]))\n",
    "\n",
    "    T_snow = np.concatenate((data.loc[index, ['Tss']],\n",
    "                             data.loc[index, 'T_1':'T_50'][filter_snow],\n",
    "                             data.loc[index, ['Tis_interp']]))\n",
    "\n",
    "    sigma_ice_nodes = np.concatenate(([0.0], dsigma_ice.cumsum()))\n",
    "    sigma_ice_centers = (sigma_ice_nodes[:-1] + sigma_ice_nodes[1:])/2\n",
    "    Z_ice_new = Z_ice[-1] + sigma_ice_centers*(Z_ice[0] - Z_ice[-1])\n",
    "\n",
    "    sigma_snow_nodes = np.concatenate(([0.0], dsigma_snow.cumsum()))\n",
    "    sigma_snow_centers = (sigma_snow_nodes[:-1] + sigma_snow_nodes[1:])/2\n",
    "    Z_snow_new = Z_snow[-1] + sigma_snow_centers*(Z_snow[0] - Z_snow[-1])\n",
    "\n",
    "    T_ice_new = np.interp(Z_ice_new, Z_ice[::-1], T_ice[::-1])\n",
    "    T_snow_new = np.interp(Z_snow_new, Z_snow[::-1], T_snow[::-1])\n",
    "    \n",
    "    return T_ice_new, T_snow_new, \\\n",
    "            data.loc[index, 'Tib_interp'], data.loc[index, 'Tis_interp'], \\\n",
    "            (data.loc[index, 'Tss'] if has_snow else np.nan), \\\n",
    "            dsigma_ice*(data.loc[index, 'hf_best'] - data.loc[index, 'hi_best']), \\\n",
    "            (1.0 if has_snow else np.nan)*dsigma_snow \\\n",
    "            *(data.loc[index, 'hs_best'] - data.loc[index, 'hf_best'])"
   ]
  },
  {
   "cell_type": "code",
   "execution_count": null,
   "id": "7682c84b",
   "metadata": {},
   "outputs": [],
   "source": [
    "def compare_profiles(process_data, process_simulation):\n",
    "    assert process_data.get_length() == process_simulation.get_length(), \\\n",
    "           \"Lenghts of input arrays ({}, {}) should be equal!\".format(process_data.get_length(),\n",
    "                                                                      process_simulation.get_length())\n",
    "    \n",
    "    assert process_data.get_nodes_num() == process_simulation.get_nodes_num(), \\\n",
    "           \"Numbers of nodes for snow and ice for two processes ({}, {}) should be equal!\"\\\n",
    "           .format(process_data.get_nodes_num(), process_simulation.get_nodes_num())\n",
    "    \n",
    "    plt.figure(figsize=(35, 50))\n",
    "    \n",
    "    plt.subplot(5, 2, 1)\n",
    "    plt.title(\"Min temperarure error for ice\")\n",
    "    plt.plot(process_simulation.timeline,\n",
    "             process_data.ice_temp_history.min(axis=1) - process_simulation.ice_temp_history.min(axis=1))\n",
    "    plt.grid()\n",
    "    \n",
    "    plt.subplot(5, 2, 2)\n",
    "    plt.title(\"Min temperarure error for snow\")\n",
    "    plt.plot(process_simulation.timeline,\n",
    "             process_data.snow_temp_history.min(axis=1) - process_simulation.snow_temp_history.min(axis=1))\n",
    "    plt.grid()\n",
    "    \n",
    "    plt.subplot(5, 2, 3)\n",
    "    plt.title(\"Max temperarure error for ice\")\n",
    "    plt.plot(process_simulation.timeline,\n",
    "             process_data.ice_temp_history.max(axis=1) - process_simulation.ice_temp_history.max(axis=1))\n",
    "    plt.grid()\n",
    "    \n",
    "    plt.subplot(5, 2, 4)\n",
    "    plt.title(\"Max temperarure error for snow\")\n",
    "    plt.plot(process_simulation.timeline,\n",
    "             process_data.snow_temp_history.max(axis=1) - process_simulation.snow_temp_history.max(axis=1))\n",
    "    plt.grid()\n",
    "    \n",
    "    plt.subplot(5, 2, 5)\n",
    "    plt.title(\"Max temperature difference error for ice\")\n",
    "    plt.plot(process_simulation.timeline,\n",
    "             abs(process_data.ice_temp_history - process_simulation.ice_temp_history).max(axis=1))\n",
    "    plt.grid()\n",
    "    \n",
    "    plt.subplot(5, 2, 6)\n",
    "    plt.title(\"Max temperarure difference error for snow\")\n",
    "    plt.plot(process_simulation.timeline,\n",
    "             abs(process_data.snow_temp_history - process_simulation.snow_temp_history).max(axis=1))\n",
    "    plt.grid()\n",
    "    \n",
    "    plt.subplot(5, 2, 7)\n",
    "    plt.title(\"Avg temperature difference error for ice\")\n",
    "    plt.plot(process_simulation.timeline,\n",
    "             np.sqrt(((process_data.ice_temp_history - process_simulation.ice_temp_history)**2).mean(axis=1)))\n",
    "    plt.grid()\n",
    "    \n",
    "    plt.subplot(5, 2, 8)\n",
    "    plt.title(\"Avg temperarure difference error for snow\")\n",
    "    plt.plot(process_simulation.timeline,\n",
    "             np.sqrt(((process_data.snow_temp_history - process_simulation.snow_temp_history)**2).mean(axis=1)))\n",
    "    plt.grid()\n",
    "    \n",
    "    plt.subplot(5, 2, 9)\n",
    "    plt.title(\"Thickness error for ice\")\n",
    "    plt.plot(process_simulation.timeline,\n",
    "             process_data.ice_dz_history.sum(axis=1) - process_simulation.ice_dz_history.sum(axis=1))\n",
    "    plt.grid()\n",
    "    \n",
    "    plt.subplot(5, 2, 10)\n",
    "    plt.title(\"Thickness error for snow\")\n",
    "    plt.plot(process_simulation.timeline,\n",
    "             process_data.snow_dz_history.sum(axis=1) - process_simulation.snow_dz_history.sum(axis=1))\n",
    "    plt.grid()\n",
    "    \n",
    "    plt.show()"
   ]
  },
  {
   "cell_type": "code",
   "execution_count": null,
   "id": "c000eb72",
   "metadata": {},
   "outputs": [],
   "source": [
    "def plot_thicknesses(data_proc, sim_proc):\n",
    "    plt.figure(figsize=(15, 10))\n",
    "    plt.title('Ice thickness')\n",
    "    plt.plot(sim_proc.ice_dz_history.sum(axis=1), label='simulation')\n",
    "    plt.plot(data_proc.ice_dz_history.sum(axis=1), label='data')\n",
    "    plt.legend()\n",
    "    plt.grid()\n",
    "    plt.show()\n",
    "    \n",
    "    plt.figure(figsize=(15, 10))\n",
    "    plt.title('Snow thickness')\n",
    "    plt.plot(sim_proc.snow_dz_history.sum(axis=1), label='simulation')\n",
    "    plt.plot(data_proc.snow_dz_history.sum(axis=1), label='data')\n",
    "    plt.legend()\n",
    "    plt.grid()\n",
    "    plt.show()"
   ]
  },
  {
   "cell_type": "code",
   "execution_count": null,
   "id": "c8999c69",
   "metadata": {},
   "outputs": [],
   "source": [
    "# timeline from file\n",
    "time_arr = ((data['jday'] - data.loc[0, 'jday'])*24*3600).values"
   ]
  },
  {
   "cell_type": "code",
   "execution_count": null,
   "id": "8f268a42",
   "metadata": {},
   "outputs": [],
   "source": [
    "# mesh thickening function\n",
    "def thickening(N, s):\n",
    "    if s == 0:\n",
    "        return np.full(N, 1/N)\n",
    "    else:\n",
    "        return np.array([s*(1 - s)**i/(1 - (1 - s)**N) for i in range(N)])"
   ]
  },
  {
   "cell_type": "code",
   "execution_count": null,
   "id": "076e18ee",
   "metadata": {},
   "outputs": [],
   "source": [
    "def plot_thickening(N, max_thick, step_thick):\n",
    "\n",
    "    plt.figure(figsize=(10, 6))\n",
    "    for s in np.arange(0, max_thick, step_thick):\n",
    "        plt.plot([s]*(N+1), np.insert(np.cumsum(thickening(N, s)), 0,  0.0), marker='x', color='black')\n",
    "    plt.xticks(np.arange(0, max_thick, step_thick))\n",
    "    plt.xlabel('Level of thickening', size=20)\n",
    "    plt.ylabel('Sigma-coordinate', size=20)\n",
    "    plt.xticks(fontsize=15)\n",
    "    plt.yticks(fontsize=15)\n",
    "    plt.grid()\n",
    "    plt.grid(ls='--')\n",
    "    plt.show()"
   ]
  },
  {
   "cell_type": "markdown",
   "id": "321341a7",
   "metadata": {},
   "source": [
    "## Форсинг"
   ]
  },
  {
   "cell_type": "code",
   "execution_count": null,
   "id": "bbedf85a",
   "metadata": {},
   "outputs": [],
   "source": [
    "# forcing\n",
    "e_s = lambda T: 6.11*np.exp(ue.c1_i*T/(T + ue.T0 - ue.c2_i))\n",
    "q_surf = lambda T: 0.622*e_s(T)/(ue.P_surf - 0.378*e_s(T))\n",
    "\n",
    "albe = data['albe'].values\n",
    "Tib_interp = data['Tib_interp'].values\n",
    "tair = data['tair'].values\n",
    "uair = data['uair'].values\n",
    "qair = data['qair'].values\n",
    "prec = data['prec_eff'].values\n",
    "swdo = data['swdo'].values\n",
    "lwdo = data['lwdo'].values\n",
    "focn_pit = data['focn_pit'].values\n",
    "Focn_y = data['Focn_y'].values\n",
    "\n",
    "\n",
    "find_index_fast = lambda time_sec: np.searchsorted(time_arr, time_sec, side='right') - 1\n",
    "albedo = lambda time: albe[find_index_fast(time)]\n",
    "Toi = lambda time: Tib_interp[find_index_fast(time)]\n",
    "T_a = lambda time: tair[find_index_fast(time)] - ue.T0\n",
    "u_a = lambda time: uair[find_index_fast(time)]\n",
    "q_a = lambda time: qair[find_index_fast(time)] * 1e-3\n",
    "p = lambda time: prec[find_index_fast(time)] * ue.mmd_to_ms\n",
    "F_sw = lambda time: swdo[find_index_fast(time)]\n",
    "F_lw = lambda time: lwdo[find_index_fast(time)]\n",
    "F_bolz = lambda T: -ue.sigma*(T + ue.T0)**4\n",
    "F_sh = lambda T, time: ue.rho_a*ue.c_pa*ue.C_sh*u_a(time)*(T_a(time) - T)\n",
    "F_lh = lambda T, time: ue.rho_a*ue.L_s0*ue.C_lh*u_a(time)*(q_a(time) - q_surf(T))\n",
    "F_P = lambda T, time: p(time)*ue.rho_w*ue.c_pw*max(T_a(time) - T, 0)\n",
    "F_atm = lambda T, time, i_0: ue.emissivity*(F_lw(time) + F_bolz(T)) \\\n",
    "                           + (1 - albedo(time))*(1 - i_0)*F_sw(time) \\\n",
    "                           + F_sh(T, time) + F_P(T, time) + F_lh(T, time) \n",
    "\n",
    "F_atm_ice = lambda T, time: F_atm(T, time, ue.i0_i)\n",
    "F_atm_snow = lambda T, time: F_atm(T, time, ue.i0_s)\n",
    "F_ocn = lambda T, time: Focn_y[find_index_fast(time)]"
   ]
  },
  {
   "cell_type": "markdown",
   "id": "1e5d9834",
   "metadata": {},
   "source": [
    "# Эксперименты на регулярной сетке"
   ]
  },
  {
   "cell_type": "code",
   "execution_count": null,
   "id": "b5eeac01",
   "metadata": {},
   "outputs": [],
   "source": [
    "# regular mesh\n",
    "dsigma_ice_n4s0 = thickening(4, 0.0)\n",
    "dsigma_ice_n8s0 = thickening(8, 0.0)\n",
    "dsigma_ice_n16s0 = thickening(16, 0.0)\n",
    "dsigma_ice_n32s0 = thickening(32, 0.0)\n",
    "dsigma_ice_n64s0 = thickening(64, 0.0)\n",
    "dsigma_snow_n10s0 = thickening(10, 0.0)"
   ]
  },
  {
   "cell_type": "code",
   "execution_count": null,
   "id": "8b42260e",
   "metadata": {},
   "outputs": [],
   "source": [
    "# init state from data\n",
    "T_ice_init4, T_snow_init4, Toi_init4, Tis_init4, Tsa_init4, \\\n",
    "dzi_init4, dzs_init4 = get_init_from_data(data, Z, dsigma_ice_n4s0, dsigma_snow_n10s0)\n",
    "\n",
    "T_ice_init8, T_snow_init8, Toi_init8, Tis_init8, Tsa_init8, \\\n",
    "dzi_init8, dzs_init8 = get_init_from_data(data, Z, dsigma_ice_n8s0, dsigma_snow_n10s0)\n",
    "\n",
    "T_ice_init16, T_snow_init16, Toi_init16, Tis_init16, Tsa_init16, \\\n",
    "dzi_init16, dzs_init16 = get_init_from_data(data, Z, dsigma_ice_n16s0, dsigma_snow_n10s0)\n",
    "\n",
    "T_ice_init32, T_snow_init32, Toi_init32, Tis_init32, Tsa_init32, \\\n",
    "dzi_init32, dzs_init32 = get_init_from_data(data, Z, dsigma_ice_n32s0, dsigma_snow_n10s0)\n",
    "\n",
    "T_ice_init64, T_snow_init64, Toi_init64, Tis_init64, Tsa_init64, \\\n",
    "dzi_init64, dzs_init64 = get_init_from_data(data, Z, dsigma_ice_n64s0, dsigma_snow_n10s0)"
   ]
  },
  {
   "cell_type": "code",
   "execution_count": null,
   "id": "9fe5e96f",
   "metadata": {},
   "outputs": [],
   "source": [
    "# process from data\n",
    "data_proc_ni4s0ns10s0 = ue.process_from_data(Z,\n",
    "                                 data.loc[:, 'T_1':'T_50'].values, \n",
    "                                 data['Tib_interp'].values, data['Tis_interp'].values,\n",
    "                                 data['Tss'].values,\n",
    "                                 data['hi_best'].values, data['hf_best'].values,\n",
    "                                 data['hs_best'].values,\n",
    "                                 dsigma_ice_n4s0, dsigma_snow_n10s0,\n",
    "                                 time_arr, ue.rho_i)\n",
    "\n",
    "data_proc_ni8s0ns10s0 = ue.process_from_data(Z,\n",
    "                                 data.loc[:, 'T_1':'T_50'].values, \n",
    "                                 data['Tib_interp'].values, data['Tis_interp'].values,\n",
    "                                 data['Tss'].values,\n",
    "                                 data['hi_best'].values, data['hf_best'].values,\n",
    "                                 data['hs_best'].values,\n",
    "                                 dsigma_ice_n8s0, dsigma_snow_n10s0,\n",
    "                                 time_arr, ue.rho_i)\n",
    "\n",
    "data_proc_ni16s0ns10s0 = ue.process_from_data(Z,\n",
    "                                 data.loc[:, 'T_1':'T_50'].values, \n",
    "                                 data['Tib_interp'].values, data['Tis_interp'].values,\n",
    "                                 data['Tss'].values,\n",
    "                                 data['hi_best'].values, data['hf_best'].values,\n",
    "                                 data['hs_best'].values,\n",
    "                                 dsigma_ice_n16s0, dsigma_snow_n10s0,\n",
    "                                 time_arr, ue.rho_i)\n",
    "\n",
    "data_proc_ni32s0ns10s0 = ue.process_from_data(Z,\n",
    "                                 data.loc[:, 'T_1':'T_50'].values, \n",
    "                                 data['Tib_interp'].values, data['Tis_interp'].values,\n",
    "                                 data['Tss'].values,\n",
    "                                 data['hi_best'].values, data['hf_best'].values,\n",
    "                                 data['hs_best'].values,\n",
    "                                 dsigma_ice_n32s0, dsigma_snow_n10s0,\n",
    "                                 time_arr, ue.rho_i)\n",
    "\n",
    "data_proc_ni64s0ns10s0 = ue.process_from_data(Z,\n",
    "                                 data.loc[:, 'T_1':'T_50'].values, \n",
    "                                 data['Tib_interp'].values, data['Tis_interp'].values,\n",
    "                                 data['Tss'].values,\n",
    "                                 data['hi_best'].values, data['hf_best'].values,\n",
    "                                 data['hs_best'].values,\n",
    "                                 dsigma_ice_n64s0, dsigma_snow_n10s0,\n",
    "                                 time_arr, ue.rho_i)"
   ]
  },
  {
   "cell_type": "code",
   "execution_count": null,
   "id": "fa966438",
   "metadata": {},
   "outputs": [],
   "source": []
  },
  {
   "cell_type": "code",
   "execution_count": null,
   "id": "85a334e4",
   "metadata": {
    "scrolled": true
   },
   "outputs": [],
   "source": [
    "%%time\n",
    "sim_proc_0d = ue0d.main_process_0d \\\n",
    "(\n",
    "    time_step=3600.0,\n",
    "    time_end=7774*3600.0,\n",
    "    N_pseudoiter=50,\n",
    "    Tis_init=data.loc[0, 'Tis_interp'],\n",
    "    Tsa_init=data.loc[0, 'Tss'],\n",
    "    ice_thickness_init=data.loc[0, 'hf_best'] - data.loc[0, 'hi_best'],\n",
    "    snow_thickness_init=data.loc[0, 'hs_best'] - data.loc[0, 'hf_best'],\n",
    "    snow_thickness_threshold=0.01,\n",
    "    Toi=Toi,\n",
    "    Ta=T_a,\n",
    "    p=p,\n",
    "    F_atm_ice=F_atm_ice,\n",
    "    F_atm_snow=F_atm_snow,\n",
    "    F_ocn=F_ocn\n",
    ")"
   ]
  },
  {
   "cell_type": "code",
   "execution_count": null,
   "id": "a74d1661",
   "metadata": {
    "scrolled": true
   },
   "outputs": [],
   "source": [
    "%%time\n",
    "sim_proc_ni4s0ns10s0 = ue.main_process \\\n",
    "(\n",
    "    time_step=3600.0,\n",
    "    time_end=7774*3600.0,\n",
    "    N_pseudoiter=50,\n",
    "    Ti_init=T_ice_init4,\n",
    "    Ts_init=T_snow_init4,\n",
    "    Tis_init=Tis_init4,\n",
    "    Tsa_init=Tsa_init4,\n",
    "    dzi_init=dzi_init4,\n",
    "    dzs_init=dzs_init4,\n",
    "    salinity=np.linspace(4.0, 1.0, len(dzi_init4)),\n",
    "    snow_thickness_threshold=0.01,\n",
    "    Toi=Toi,\n",
    "    Ta=T_a,\n",
    "    p=p,\n",
    "    F_atm_ice=F_atm_ice,\n",
    "    F_atm_snow=F_atm_snow,\n",
    "    F_sw=F_sw,\n",
    "    F_ocn=F_ocn\n",
    ")"
   ]
  },
  {
   "cell_type": "code",
   "execution_count": null,
   "id": "533af223",
   "metadata": {},
   "outputs": [],
   "source": [
    "%%time\n",
    "sim_proc_ni8s0ns10s0 = ue.main_process \\\n",
    "(\n",
    "    time_step=3600.0,\n",
    "    time_end=7774*3600.0,\n",
    "    N_pseudoiter=50,\n",
    "    Ti_init=T_ice_init8,\n",
    "    Ts_init=T_snow_init8,\n",
    "    Tis_init=Tis_init8,\n",
    "    Tsa_init=Tsa_init8,\n",
    "    dzi_init=dzi_init8,\n",
    "    dzs_init=dzs_init8,\n",
    "    salinity=np.linspace(4.0, 1.0, len(dzi_init8)),\n",
    "    snow_thickness_threshold=0.01,\n",
    "    Toi=Toi,\n",
    "    Ta=T_a,\n",
    "    p=p,\n",
    "    F_atm_ice=F_atm_ice,\n",
    "    F_atm_snow=F_atm_snow,\n",
    "    F_sw=F_sw,\n",
    "    F_ocn=F_ocn\n",
    ")"
   ]
  },
  {
   "cell_type": "code",
   "execution_count": null,
   "id": "e5d5327e",
   "metadata": {},
   "outputs": [],
   "source": [
    "%%time\n",
    "sim_proc_ni16s0ns10s0 = ue.main_process \\\n",
    "(\n",
    "    time_step=3600.0,\n",
    "    time_end=7774*3600.0,\n",
    "    N_pseudoiter=50,\n",
    "    Ti_init=T_ice_init16,\n",
    "    Ts_init=T_snow_init16,\n",
    "    Tis_init=Tis_init16,\n",
    "    Tsa_init=Tsa_init16,\n",
    "    dzi_init=dzi_init16,\n",
    "    dzs_init=dzs_init16,\n",
    "    salinity=np.linspace(4.0, 1.0, len(dzi_init16)),\n",
    "    snow_thickness_threshold=0.01,\n",
    "    Toi=Toi,\n",
    "    Ta=T_a,\n",
    "    p=p,\n",
    "    F_atm_ice=F_atm_ice,\n",
    "    F_atm_snow=F_atm_snow,\n",
    "    F_sw=F_sw,\n",
    "    F_ocn=F_ocn\n",
    ")"
   ]
  },
  {
   "cell_type": "code",
   "execution_count": null,
   "id": "56841e24",
   "metadata": {},
   "outputs": [],
   "source": [
    "%%time\n",
    "sim_proc_ni32s0ns10s0 = ue.main_process \\\n",
    "(\n",
    "    time_step=3600.0,\n",
    "    time_end=7774*3600.0,\n",
    "    N_pseudoiter=50,\n",
    "    Ti_init=T_ice_init32,\n",
    "    Ts_init=T_snow_init32,\n",
    "    Tis_init=Tis_init32,\n",
    "    Tsa_init=Tsa_init32,\n",
    "    dzi_init=dzi_init32,\n",
    "    dzs_init=dzs_init32,\n",
    "    salinity=np.linspace(4.0, 1.0, len(dzi_init32)),\n",
    "    snow_thickness_threshold=0.01,\n",
    "    Toi=Toi,\n",
    "    Ta=T_a,\n",
    "    p=p,\n",
    "    F_atm_ice=F_atm_ice,\n",
    "    F_atm_snow=F_atm_snow,\n",
    "    F_sw=F_sw,\n",
    "    F_ocn=F_ocn\n",
    ")"
   ]
  },
  {
   "cell_type": "code",
   "execution_count": null,
   "id": "d4ee27cf",
   "metadata": {},
   "outputs": [],
   "source": [
    "%%time\n",
    "sim_proc_ni64s0ns10s0 = ue.main_process \\\n",
    "(\n",
    "    time_step=3600.0,\n",
    "    time_end=7774*3600.0,\n",
    "    N_pseudoiter=50,\n",
    "    Ti_init=T_ice_init64,\n",
    "    Ts_init=T_snow_init64,\n",
    "    Tis_init=Tis_init64,\n",
    "    Tsa_init=Tsa_init64,\n",
    "    dzi_init=dzi_init64,\n",
    "    dzs_init=dzs_init64,\n",
    "    salinity=np.linspace(4.0, 1.0, len(dzi_init64)),\n",
    "    snow_thickness_threshold=0.01,\n",
    "    Toi=Toi,\n",
    "    Ta=T_a,\n",
    "    p=p,\n",
    "    F_atm_ice=F_atm_ice,\n",
    "    F_atm_snow=F_atm_snow,\n",
    "    F_sw=F_sw,\n",
    "    F_ocn=F_ocn\n",
    ")"
   ]
  },
  {
   "cell_type": "code",
   "execution_count": null,
   "id": "1bee5622",
   "metadata": {
    "scrolled": false
   },
   "outputs": [],
   "source": [
    "uv.timeseries_err(sim_proc_ni4s0ns10s0[1000:3000],\n",
    "                  data_proc_ni4s0ns10s0[1000:3000],\n",
    "                  tmin_err=-4., tmax_err=4.,step_err=.2, \n",
    "                  figsize=(20, 10))"
   ]
  },
  {
   "cell_type": "code",
   "execution_count": null,
   "id": "ba52aa0c",
   "metadata": {},
   "outputs": [],
   "source": [
    "uv.timeseries_err(sim_proc_ni8s0ns10s0[1000:3000],\n",
    "                  data_proc_ni8s0ns10s0[1000:3000],\n",
    "                  tmin_err=-4., tmax_err=4., step_err=.2,\n",
    "                  figsize=(20, 10))"
   ]
  },
  {
   "cell_type": "code",
   "execution_count": null,
   "id": "0f5f376d",
   "metadata": {},
   "outputs": [],
   "source": [
    "uv.timeseries_err(sim_proc_ni16s0ns10s0[1000:3000],\n",
    "                  data_proc_ni16s0ns10s0[1000:3000],\n",
    "                  tmin_err=-4., tmax_err=4., step_err=.2,\n",
    "                  figsize=(20, 10))"
   ]
  },
  {
   "cell_type": "code",
   "execution_count": null,
   "id": "666c22e1",
   "metadata": {},
   "outputs": [],
   "source": [
    "uv.timeseries_err(sim_proc_ni32s0ns10s0[1000:3000],\n",
    "                  data_proc_ni32s0ns10s0[1000:3000],\n",
    "                  tmin_err=-4., tmax_err=4., step_err=.2,\n",
    "                  figsize=(20, 10))"
   ]
  },
  {
   "cell_type": "code",
   "execution_count": null,
   "id": "4e9e4a81",
   "metadata": {},
   "outputs": [],
   "source": [
    "uv.timeseries_err(sim_proc_ni64s0ns10s0, data_proc_ni64s0ns10s0, tmin_err=-4., tmax_err=4., step_err=.5)"
   ]
  },
  {
   "cell_type": "markdown",
   "id": "a44f20d5",
   "metadata": {},
   "source": [
    "## Эксперименты на сгущенной сетке (Ni = 4)"
   ]
  },
  {
   "cell_type": "code",
   "execution_count": null,
   "id": "4f85fb00",
   "metadata": {},
   "outputs": [],
   "source": [
    "plot_thickening(N=4, max_thick=0.41, step_thick=0.05)"
   ]
  },
  {
   "cell_type": "code",
   "execution_count": null,
   "id": "c3962fc7",
   "metadata": {},
   "outputs": [],
   "source": [
    "# thickened mesh\n",
    "dsigma_ice_n4s20 = thickening(4, 0.2)\n",
    "dsigma_ice_n4s35 = thickening(4, 0.35)\n",
    "\n",
    "dsigma_snow_n10s0 = thickening(15, 0.0)"
   ]
  },
  {
   "cell_type": "code",
   "execution_count": null,
   "id": "3246334b",
   "metadata": {},
   "outputs": [],
   "source": [
    "# init state from data\n",
    "T_ice_init4_s20, T_snow_init4_s20, Toi_init4_s20, Tis_init4_s20, Tsa_init4_s20, \\\n",
    "dzi_init4_s20, dzs_init4_s20 = get_init_from_data(data, Z, dsigma_ice_n4s20, dsigma_snow_n10s0)\n",
    "\n",
    "T_ice_init4_s35, T_snow_init4_s35, Toi_init4_s35, Tis_init4_s35, Tsa_init4_s35, \\\n",
    "dzi_init4_s35, dzs_init4_s35 = get_init_from_data(data, Z, dsigma_ice_n4s35, dsigma_snow_n10s0)"
   ]
  },
  {
   "cell_type": "code",
   "execution_count": null,
   "id": "6414cdaa",
   "metadata": {},
   "outputs": [],
   "source": [
    "# process from data\n",
    "data_proc_ni4s20ns10s0 = ue.process_from_data(Z,\n",
    "                                 data.loc[:, 'T_1':'T_50'].values, \n",
    "                                 data['Tib_interp'].values, data['Tis_interp'].values,\n",
    "                                 data['Tss'].values,\n",
    "                                 data['hi_best'].values, data['hf_best'].values,\n",
    "                                 data['hs_best'].values,\n",
    "                                 dsigma_ice_n4s20, dsigma_snow_n10s0,\n",
    "                                 time_arr, ue.rho_i)\n",
    "\n",
    "data_proc_ni4s35ns10s0 = ue.process_from_data(Z,\n",
    "                                 data.loc[:, 'T_1':'T_50'].values, \n",
    "                                 data['Tib_interp'].values, data['Tis_interp'].values,\n",
    "                                 data['Tss'].values,\n",
    "                                 data['hi_best'].values, data['hf_best'].values,\n",
    "                                 data['hs_best'].values,\n",
    "                                 dsigma_ice_n4s35, dsigma_snow_n10s0,\n",
    "                                 time_arr, ue.rho_i)"
   ]
  },
  {
   "cell_type": "code",
   "execution_count": null,
   "id": "d8c1183a",
   "metadata": {},
   "outputs": [],
   "source": [
    "%%time\n",
    "sim_proc_ni4s20ns10s0 = ue.main_process \\\n",
    "(\n",
    "    time_step=3600.0,\n",
    "    time_end=7774*3600.0,\n",
    "    N_pseudoiter=50,\n",
    "    Ti_init=T_ice_init4_s20,\n",
    "    Ts_init=T_snow_init4_s20,\n",
    "    Tis_init=Tis_init4_s20,\n",
    "    Tsa_init=Tsa_init4_s20,\n",
    "    dzi_init=dzi_init4_s20,\n",
    "    dzs_init=dzs_init4_s20,\n",
    "    salinity=np.linspace(4.0, 1.0, len(dzi_init4_s20)),\n",
    "    snow_thickness_threshold=0.01,\n",
    "    Toi=Toi,\n",
    "    Ta=T_a,\n",
    "    p=p,\n",
    "    F_atm_ice=F_atm_ice,\n",
    "    F_atm_snow=F_atm_snow,\n",
    "    F_sw=F_sw,\n",
    "    F_ocn=F_ocn\n",
    ")"
   ]
  },
  {
   "cell_type": "code",
   "execution_count": null,
   "id": "2c3f0056",
   "metadata": {},
   "outputs": [],
   "source": [
    "%%time\n",
    "sim_proc_ni4s35ns10s0 = ue.main_process \\\n",
    "(\n",
    "    time_step=3600.0,\n",
    "    time_end=7774*3600.0,\n",
    "    N_pseudoiter=50,\n",
    "    Ti_init=T_ice_init4_s35,\n",
    "    Ts_init=T_snow_init4_s35,\n",
    "    Tis_init=Tis_init4_s35,\n",
    "    Tsa_init=Tsa_init4_s35,\n",
    "    dzi_init=dzi_init4_s35,\n",
    "    dzs_init=dzs_init4_s35,\n",
    "    salinity=np.linspace(4.0, 1.0, len(dzi_init4_s35)),\n",
    "    snow_thickness_threshold=0.01,\n",
    "    Toi=Toi,\n",
    "    Ta=T_a,\n",
    "    p=p,\n",
    "    F_atm_ice=F_atm_ice,\n",
    "    F_atm_snow=F_atm_snow,\n",
    "    F_sw=F_sw,\n",
    "    F_ocn=F_ocn\n",
    ")"
   ]
  },
  {
   "cell_type": "code",
   "execution_count": null,
   "id": "58996fef",
   "metadata": {},
   "outputs": [],
   "source": [
    "uv.timeseries_err(sim_proc_ni4s20ns10s0[1000:3000],\n",
    "                  data_proc_ni4s20ns10s0[1000:3000],\n",
    "                  tmin_err=-4., tmax_err=4., step_err=.2,\n",
    "                  figsize=(20, 10))"
   ]
  },
  {
   "cell_type": "code",
   "execution_count": null,
   "id": "3bd8a41a",
   "metadata": {},
   "outputs": [],
   "source": [
    "uv.timeseries_err(sim_proc_ni4s35ns10s0[1000:3000],\n",
    "                  data_proc_ni4s35ns10s0[1000:3000],\n",
    "                  tmin_err=-4., tmax_err=4., step_err=.2,\n",
    "                  figsize=(20,10))"
   ]
  },
  {
   "cell_type": "markdown",
   "id": "0ab2b734",
   "metadata": {},
   "source": [
    "## Эксперименты на сгущенной сетке (Ni = 16)"
   ]
  },
  {
   "cell_type": "code",
   "execution_count": null,
   "id": "3b9b99cf",
   "metadata": {},
   "outputs": [],
   "source": [
    "plot_thickening(N=8, max_thick=0.41, step_thick=0.05)"
   ]
  },
  {
   "cell_type": "code",
   "execution_count": null,
   "id": "39f48c51",
   "metadata": {},
   "outputs": [],
   "source": [
    "# thickened mesh\n",
    "dsigma_ice_n16t = np.concatenate((thickening(4, 0.0)/2.0, thickening(12, 0.0)/2))\n"
   ]
  },
  {
   "cell_type": "code",
   "execution_count": null,
   "id": "0f687498",
   "metadata": {},
   "outputs": [],
   "source": [
    "# init state from data\n",
    "T_ice_init_n16t, T_snow_init_n16t, Toi_init_n16t, Tis_init_n16t, Tsa_init_n16t, \\\n",
    "dzi_init_n16t, dzs_init_n16t = get_init_from_data(data, Z, dsigma_ice_n16t, dsigma_snow_n10s0)"
   ]
  },
  {
   "cell_type": "code",
   "execution_count": null,
   "id": "7cec5700",
   "metadata": {},
   "outputs": [],
   "source": [
    "# process from data\n",
    "data_proc_ni16tns10s0 = ue.process_from_data(Z,\n",
    "                                 data.loc[:, 'T_1':'T_50'].values, \n",
    "                                 data['Tib_interp'].values, data['Tis_interp'].values,\n",
    "                                 data['Tss'].values,\n",
    "                                 data['hi_best'].values, data['hf_best'].values,\n",
    "                                 data['hs_best'].values,\n",
    "                                 dsigma_ice_n16t, dsigma_snow_n10s0,\n",
    "                                 time_arr, ue.rho_i)"
   ]
  },
  {
   "cell_type": "code",
   "execution_count": null,
   "id": "b61d8b73",
   "metadata": {},
   "outputs": [],
   "source": [
    "%%time\n",
    "sim_proc_ni4s35ns10s0 = ue.main_process \\\n",
    "(\n",
    "    time_step=3600.0,\n",
    "    time_end=7774*3600.0,\n",
    "    N_pseudoiter=50,\n",
    "    Ti_init=T_ice_init_n16t,\n",
    "    Ts_init=T_snow_init_n16t,\n",
    "    Tis_init=Tis_init_n16t,\n",
    "    Tsa_init=Tsa_init_n16t,\n",
    "    dzi_init=dzi_init_n16t,\n",
    "    dzs_init=dzs_init_n16t,\n",
    "    salinity=np.linspace(4.0, 1.0, len(dzi_init_n16t)),\n",
    "    snow_thickness_threshold=0.01,\n",
    "    Toi=Toi,\n",
    "    Ta=T_a,\n",
    "    p=p,\n",
    "    F_atm_ice=F_atm_ice,\n",
    "    F_atm_snow=F_atm_snow,\n",
    "    F_sw=F_sw,\n",
    "    F_ocn=F_ocn\n",
    ")"
   ]
  },
  {
   "cell_type": "code",
   "execution_count": null,
   "id": "f50c9719",
   "metadata": {},
   "outputs": [],
   "source": [
    "uv.timeseries_err(sim_proc_ni4s35ns10s0[1000:3000],\n",
    "                  data_proc_ni16tns10s0[1000:3000],\n",
    "                  tmin_err=-4., tmax_err=4., step_err=.2,\n",
    "                  figsize=(20,10))"
   ]
  },
  {
   "cell_type": "code",
   "execution_count": null,
   "id": "400d5746",
   "metadata": {},
   "outputs": [],
   "source": [
    "uv.timeseries_err(sim_proc_0d,\n",
    "                  data_proc_ni64s0ns10s0,\n",
    "                  levels_border=[],\n",
    "                  tmin_err=-4., tmax_err=4., step_err=1,\n",
    "                  figsize=(20, 10))"
   ]
  },
  {
   "cell_type": "code",
   "execution_count": null,
   "id": "6d813e3a",
   "metadata": {
    "scrolled": true
   },
   "outputs": [],
   "source": [
    "uv.plot_characteristics([sim_proc_0d, data_proc_ni4s0ns10s0, data_proc_ni16s0ns10s0],\n",
    "                         ['simulation', 'data4', 'data16'])"
   ]
  },
  {
   "cell_type": "code",
   "execution_count": 97,
   "id": "dc59427a",
   "metadata": {},
   "outputs": [],
   "source": [
    "def plot_errors(process_data, sim_process_list, labels, savepath=None):\n",
    "    assert len(sim_process_list) == len(labels) - 1, \\\n",
    "    \"Length of labels should be more than length of simulation processes list by one!\"\n",
    "    \n",
    "    fig, (ax_ice_err, ax_snow_err, ax_Tsu_err) = plt.subplots(nrows=3, figsize=(15, 35))\n",
    "    \n",
    "    for process, label in zip(sim_process_list, labels):\n",
    "        ax_ice_err.plot(process_data.timeline, process_data.ice_dz_history.sum(axis=1) \\\n",
    "                                             - process.ice_dz_history.sum(axis=1), \n",
    "                        label=label, lw=2.5)\n",
    "        ax_snow_err.plot(process_data.timeline, process_data.snow_dz_history.sum(axis=1) \\\n",
    "                                              - process.snow_dz_history.sum(axis=1), \n",
    "                        label=label, lw=2.5)\n",
    "        ax_Tsu_err.plot(process.timeline,\n",
    "                    np.where(process_data.snow_presence_history,\n",
    "                             process_data.sa_temp_history, process_data.is_temp_history) \\\n",
    "                  - np.where(process.snow_presence_history,\n",
    "                             process.sa_temp_history, process.is_temp_history),\n",
    "                    label=label, lw=2.5)\n",
    "    \n",
    "    ax_ice_err.set_title('Ice thickness error', size=25)\n",
    "    ax_ice_err.set_ylabel('Level, m.', size=20)\n",
    "    ax_ice_err.set_xlabel('Time', size=20)\n",
    "    ax_ice_err.tick_params(axis='both', labelsize=15)\n",
    "    ax_ice_err.legend(prop={'size': 20})\n",
    "    ax_ice_err.grid()\n",
    "    \n",
    "    ax_snow_err.set_title('Snow thickness error', size=25)\n",
    "    ax_snow_err.set_ylabel('Level, m.', size=20)\n",
    "    ax_snow_err.set_xlabel('Time', size=20)\n",
    "    ax_snow_err.tick_params(axis='both', labelsize=15)\n",
    "    ax_snow_err.legend(prop={'size': 20})\n",
    "    ax_snow_err.grid()\n",
    "    \n",
    "    ax_Tsu_err.set_title('Surface temperature error', size=25)\n",
    "    ax_Tsu_err.set_ylabel(r'Temperature, $^o C.$', size=20)\n",
    "    ax_Tsu_err.set_xlabel('Time', size=20)\n",
    "    ax_Tsu_err.tick_params(axis='both', labelsize=15)\n",
    "    ax_Tsu_err.legend(prop={'size': 20})\n",
    "    ax_Tsu_err.grid()\n",
    "    \n",
    "    if savepath is not None:\n",
    "        fig.savefig(savepath, bbox_inches='tight')\n",
    "    else:\n",
    "        plt.show()\n"
   ]
  },
  {
   "cell_type": "code",
   "execution_count": 98,
   "id": "ed8f48ca",
   "metadata": {
    "scrolled": false
   },
   "outputs": [
    {
     "data": {
      "image/png": "[encoded data removed]",
      "text/plain": [
       "<Figure size 1080x2520 with 3 Axes>"
      ]
     },
     "metadata": {
      "needs_background": "light"
     },
     "output_type": "display_data"
    }
   ],
   "source": [
    "plot_errors(data_proc_ni16s0ns10s0, [data_proc_ni4s0ns10s0, data_proc_ni8s0ns10s0],\n",
    "            ['data16', 'data4', 'data8'])"
   ]
  }
 ],
 "metadata": {
  "kernelspec": {
   "display_name": "Python 3 (ipykernel)",
   "language": "python",
   "name": "python3"
  },
  "language_info": {
   "codemirror_mode": {
    "name": "ipython",
    "version": 3
   },
   "file_extension": ".py",
   "mimetype": "text/x-python",
   "name": "python",
   "nbconvert_exporter": "python",
   "pygments_lexer": "ipython3",
   "version": "3.8.10"
  }
 },
 "nbformat": 4,
 "nbformat_minor": 5
}
