{
 "cells": [
  {
   "cell_type": "code",
   "execution_count": 2,
   "id": "ef62a1f9",
   "metadata": {},
   "outputs": [],
   "source": [
    "import numpy as np\n",
    "import matplotlib.pyplot as plt\n",
    "import utils.visualizer as uv\n",
    "import utils.engine as ue\n",
    "from tqdm.notebook import tqdm"
   ]
  },
  {
   "cell_type": "code",
   "execution_count": 3,
   "id": "56bb0fe9",
   "metadata": {},
   "outputs": [],
   "source": [
    "%load_ext autoreload\n",
    "%load_ext line_profiler\n",
    "%autoreload 2"
   ]
  },
  {
   "cell_type": "code",
   "execution_count": 4,
   "id": "f727741e",
   "metadata": {},
   "outputs": [],
   "source": [
    "plt.rcParams[\"animation.html\"] = \"jshtml\""
   ]
  },
  {
   "cell_type": "markdown",
   "id": "058aae87",
   "metadata": {},
   "source": [
    "## Эээээээээксперименты"
   ]
  },
  {
   "cell_type": "markdown",
   "id": "d7d39743",
   "metadata": {},
   "source": [
    "### 0. Линейный профиль с закрепленными концами"
   ]
  },
  {
   "cell_type": "code",
   "execution_count": null,
   "id": "b79c9310",
   "metadata": {},
   "outputs": [],
   "source": [
    "Tis_init = -20.0\n",
    "ice_thickness_init = 2.0\n",
    "Ti_func_init = lambda z: (z*Tis_init + (ice_thickness_init-z)*ue.Tf_w)/ice_thickness_init - \\\n",
    "                          5*np.sin(2*np.pi/ice_thickness_init*z)\n",
    "\n",
    "\n",
    "T_atm = lambda time: -30.0 \n",
    "u_a = lambda time: 15.0\n",
    "F_ocn = lambda T, time: 0.0\n",
    "F_sw = lambda time: 100.0\n",
    "F_lw = lambda T_atm: ue.sigma*(T_atm + 273.15)**4\n",
    "F_atm = lambda T, time: (1 - ue.albedo_i)*(1 - ue.i0_i)*F_sw(time)\\\n",
    "                        + ue.rho_a*ue.c_pa*ue.C_sh*u_a(time)*(T_atm(time) - T)\\\n",
    "                        + ue.emissivity*(F_lw(T_atm(time)) - ue.sigma*(T + 273.15)**4)\n",
    "\n",
    "Ni = 20\n",
    "Ns = 10\n",
    "dzi_init = np.arange(Ni, 0, -1)/sum(np.arange(Ni, 0, -1))*ice_thickness_init\n",
    "ice_cells_init = dzi_init.cumsum() - dzi_init/2\n",
    "salinity_init = np.full(Ni, 3.0)"
   ]
  },
  {
   "cell_type": "code",
   "execution_count": null,
   "id": "ff64d443",
   "metadata": {
    "scrolled": true
   },
   "outputs": [],
   "source": [
    "process_linear = ue.main_process\\\n",
    "(\n",
    "    time_step=3600,\n",
    "    time_end=3600*250,\n",
    "    N_pseudoiter=25,\n",
    "    Ti_init=Ti_func_init(ice_cells_init),\n",
    "    Ts_init=np.array([np.nan]*10),\n",
    "    Toi_init=ue.Tf_w,\n",
    "    Tis_init=Tis_init,\n",
    "    Tsa_init=np.nan,\n",
    "    dzi_init=dzi_init,\n",
    "    dzs_init=np.ones(10)*0,\n",
    "    salinity=salinity_init,\n",
    "    snow_thickness_threshold=0.05,\n",
    "    Ta=T_atm, # lambda time: ...\n",
    "    p=lambda time: 0.0, # lambda time: ...\n",
    "    F_atm_ice=F_atm, # lambda T, time: ...\n",
    "    F_atm_snow=lambda T, time: 0.0, # lambda T, time: ...\n",
    "    F_sw=F_sw, # lambda time: ...\n",
    "    F_ocn=F_ocn, # lambda T, time: ...\n",
    "#     Ns=10\n",
    ")"
   ]
  },
  {
   "cell_type": "code",
   "execution_count": null,
   "id": "338ae31d",
   "metadata": {},
   "outputs": [],
   "source": [
    "uv.timeseries_img(process_linear, ue.rho_w, ue.rho_s)"
   ]
  },
  {
   "cell_type": "code",
   "execution_count": null,
   "id": "bc0c9f2e",
   "metadata": {},
   "outputs": [],
   "source": [
    "vis_0 = uv.animate([process_linear], ue.rho_w, ue.rho_s,\n",
    "                   clip_start=10, clip_end=85)"
   ]
  },
  {
   "cell_type": "code",
   "execution_count": null,
   "id": "8e8934b4",
   "metadata": {},
   "outputs": [],
   "source": [
    "vis_0"
   ]
  },
  {
   "cell_type": "markdown",
   "id": "ef8f6506",
   "metadata": {},
   "source": [
    "### 0. Аналитическое задание функций потока"
   ]
  },
  {
   "cell_type": "code",
   "execution_count": null,
   "id": "204ca4dd",
   "metadata": {},
   "outputs": [],
   "source": [
    "# какие-то функции для температур атмосферы и океана\n",
    "T_ocn = lambda time: ue.Tf_w\n",
    "T_atm = lambda time: -30.0\n",
    "\n",
    "# коротковолновая радиация\n",
    "F_sw = lambda time: 100.0\n",
    "\n",
    "# длинноволновая радиация\n",
    "F_lw = lambda T: ue.sigma*(T + 273.15)**4\n",
    "\n",
    "# какая-то функция для скорости ветра\n",
    "u_a = lambda time: 15.0\n",
    "\n",
    "# поток в лед\n",
    "F_atm_ice = lambda T, time:  (1 - ue.albedo_i)*(1 - ue.i0_i)*F_sw(time)\\\n",
    "                             + ue.rho_a*ue.c_pa*ue.C_sh*u_a(time)*(T_atm(time) - T)\\\n",
    "                             + ue.emissivity*(F_lw(T_atm(time)) - ue.sigma*(T + 273.15)**4)\n",
    "\n",
    "# поток в снег\n",
    "F_atm_snow = lambda T, time:  (1 - ue.albedo_s)*(1 - ue.i0_s)*F_sw(time)\\\n",
    "                             + ue.rho_a*ue.c_pa*ue.C_sh*u_a(time)*(T_atm(time) - T)\\\n",
    "                             + ue.emissivity*(F_lw(T_atm(time)) - ue.sigma*(T + 273.15)**4)\n",
    "\n",
    "# поток из океана\n",
    "F_ocn = lambda T, time: 0.0"
   ]
  },
  {
   "cell_type": "markdown",
   "id": "5c59fa41",
   "metadata": {},
   "source": [
    "### 1. Намерзание льда при постоянной погоде без осадков"
   ]
  },
  {
   "cell_type": "code",
   "execution_count": null,
   "id": "a3914769",
   "metadata": {},
   "outputs": [],
   "source": [
    "Tis_init = -15.0\n",
    "Tsa_init = -20.0\n",
    "ice_thickness_init = 2.0\n",
    "snow_thickness_init = 0.1\n",
    "Ti_func_init = lambda z: (z*Tis_init + (ice_thickness_init-z)*ue.Tf_w)/ice_thickness_init\n",
    "Ts_func_init = lambda z: (z*Tsa_init + (snow_thickness_init-z)*Tis_init)/snow_thickness_init\n",
    "\n",
    "T_atm = lambda time: -30.0\n",
    "\n",
    "Ni = 20\n",
    "Ns = 10\n",
    "dzi_init = np.arange(Ni, 0, -1)/sum(np.arange(Ni, 0, -1))*ice_thickness_init\n",
    "dzs_init = np.full(Ns, snow_thickness_init/Ns)\n",
    "ice_cells_init = dzi_init.cumsum() - dzi_init/2\n",
    "snow_cells_init = dzs_init.cumsum() - dzs_init/2\n",
    "salinity_init = np.linspace(4.0, 1.0, Ni)"
   ]
  },
  {
   "cell_type": "code",
   "execution_count": null,
   "id": "a3f1efed",
   "metadata": {
    "scrolled": true
   },
   "outputs": [],
   "source": [
    "process_freeze = ue.main_process\\\n",
    "(\n",
    "    time_step=3600,\n",
    "    time_end=3600*250,\n",
    "    N_pseudoiter=50,\n",
    "    Ti_init=Ti_func_init(ice_cells_init),\n",
    "    Ts_init=Ts_func_init(snow_cells_init),\n",
    "    Toi_init=ue.Tf_w,\n",
    "    Tis_init=Tis_init,\n",
    "    Tsa_init=Tsa_init,\n",
    "    dzi_init=dzi_init,\n",
    "    dzs_init=dzs_init,\n",
    "    salinity=salinity_init,\n",
    "    snow_thickness_threshold=0.05,\n",
    "    Ta=T_atm,\n",
    "    p=lambda time: 0.0,\n",
    "    F_atm_ice=F_atm_ice,\n",
    "    F_atm_snow=F_atm_snow,\n",
    "    F_sw=F_sw,\n",
    "    F_ocn=F_ocn,\n",
    ")"
   ]
  },
  {
   "cell_type": "code",
   "execution_count": null,
   "id": "715abda8",
   "metadata": {},
   "outputs": [],
   "source": [
    "uv.timeseries_img(process_freeze, ue.rho_w, ue.rho_s, y_points=200)"
   ]
  },
  {
   "cell_type": "code",
   "execution_count": null,
   "id": "4835f098",
   "metadata": {},
   "outputs": [],
   "source": [
    "vis_1 = uv.animate([process_freeze], ue.rho_w, ue.rho_s,\n",
    "                   clip_start=0, clip_end=250)"
   ]
  },
  {
   "cell_type": "code",
   "execution_count": null,
   "id": "e1a29aae",
   "metadata": {},
   "outputs": [],
   "source": [
    "vis_1"
   ]
  },
  {
   "cell_type": "markdown",
   "id": "4d60b60a",
   "metadata": {},
   "source": [
    "### 2. Аналогично (1), но с осадками"
   ]
  },
  {
   "cell_type": "code",
   "execution_count": null,
   "id": "26ee8f58",
   "metadata": {},
   "outputs": [],
   "source": [
    "Tis_init = -15.0\n",
    "Tsa_init = -20.0\n",
    "ice_thickness_init = 2.0\n",
    "snow_thickness_init = 0.1\n",
    "Ti_func_init = lambda z: (z*Tis_init + (ice_thickness_init-z)*ue.Tf_w)/ice_thickness_init\n",
    "Ts_func_init = lambda z: (z*Tsa_init + (snow_thickness_init-z)*Tis_init)/snow_thickness_init\n",
    "\n",
    "T_atm = lambda time: -30.0\n",
    "\n",
    "Ni = 20\n",
    "Ns = 10\n",
    "dzi_init = np.arange(Ni, 0, -1)/sum(np.arange(Ni, 0, -1))*ice_thickness_init\n",
    "dzs_init = np.full(Ns, snow_thickness_init/Ns)\n",
    "ice_cells_init = dzi_init.cumsum() - dzi_init/2\n",
    "snow_cells_init = dzs_init.cumsum() - dzs_init/2\n",
    "salinity_init = np.linspace(4.0, 1.0, Ni)"
   ]
  },
  {
   "cell_type": "code",
   "execution_count": null,
   "id": "5db2798f",
   "metadata": {},
   "outputs": [],
   "source": [
    "F_lw: lambda T: ...\n",
    "F_sw = lambda T: ...\n",
    "T = lambda t: ..."
   ]
  },
  {
   "cell_type": "code",
   "execution_count": null,
   "id": "8cab4fde",
   "metadata": {},
   "outputs": [],
   "source": [
    "# поток сверху и снизу должны быть функциями времени\n",
    "\n",
    "process_freeze_with_prec = ue.main_process\\\n",
    "(\n",
    "    time_step=3600,\n",
    "    time_end=3600*250,\n",
    "    N_pseudoiter=50,\n",
    "    Ti_init=Ti_func_init(ice_cells_init),\n",
    "    Ts_init=Ts_func_init(snow_cells_init),\n",
    "    Toi_init=ue.Tf_w,\n",
    "    Tis_init=Tis_init,\n",
    "    Tsa_init=Tsa_init,\n",
    "    dzi_init=dzi_init,\n",
    "    dzs_init=dzs_init,\n",
    "    salinity=salinity_init,\n",
    "    snow_thickness_threshold=0.05,\n",
    "    Ta=T_atm,\n",
    "    p=lambda time: 1e-7,\n",
    "    F_atm_ice=F_atm_ice,\n",
    "    F_atm_snow=F_atm_snow,\n",
    "    F_sw=F_sw,\n",
    "    F_ocn=F_ocn,\n",
    ")"
   ]
  },
  {
   "cell_type": "code",
   "execution_count": null,
   "id": "93b5f49e",
   "metadata": {},
   "outputs": [],
   "source": [
    "vis_2 = uv.animate([process_freeze_with_prec], ue.rho_w, ue.rho_s)"
   ]
  },
  {
   "cell_type": "code",
   "execution_count": null,
   "id": "66908a8b",
   "metadata": {},
   "outputs": [],
   "source": [
    "vis_2"
   ]
  },
  {
   "cell_type": "code",
   "execution_count": null,
   "id": "2629ea61",
   "metadata": {},
   "outputs": [],
   "source": [
    "vis_triple = uv.animate([process_freeze, process_freeze_with_prec, process_linear], ue.rho_w, ue.rho_s)"
   ]
  },
  {
   "cell_type": "code",
   "execution_count": null,
   "id": "7373c067",
   "metadata": {},
   "outputs": [],
   "source": [
    "vis_triple"
   ]
  },
  {
   "cell_type": "code",
   "execution_count": null,
   "id": "548d3acb",
   "metadata": {},
   "outputs": [],
   "source": [
    "vis_triple"
   ]
  },
  {
   "cell_type": "markdown",
   "id": "c2ae425d",
   "metadata": {},
   "source": [
    "### 3. Таяние льда без осадков"
   ]
  },
  {
   "cell_type": "code",
   "execution_count": null,
   "id": "13c92e14",
   "metadata": {},
   "outputs": [],
   "source": [
    "melt_time_end=3600*240\n",
    "\n",
    "Tis_init = -15.0\n",
    "Tsa_init = -20.0\n",
    "ice_thickness_init = 2.0\n",
    "snow_thickness_init = 0.1\n",
    "Ni = 20\n",
    "Ns = 10\n",
    "dzi_init = np.full(Ni, ice_thickness_init/Ni)\n",
    "dzs_init = np.full(Ns, snow_thickness_init/Ns)\n",
    "salinity_init = np.linspace(4.0, 1.0, Ni)\n",
    "\n",
    "T_atm = lambda time: (-20.0 + 40.0*time/melt_time_end) if time < melt_time_end else 20.0"
   ]
  },
  {
   "cell_type": "code",
   "execution_count": null,
   "id": "2fae8bbd",
   "metadata": {
    "scrolled": true
   },
   "outputs": [],
   "source": [
    "process_melt_without_prec = ue.main_process\\\n",
    "(\n",
    "    time_step=3600,\n",
    "    time_end=3600*250,\n",
    "    N_pseudoiter=50,\n",
    "    Ti_init=Ti_func_init(ice_cells_init),\n",
    "    Ts_init=Ts_func_init(snow_cells_init),\n",
    "    Toi_init=ue.Tf_w,\n",
    "    Tis_init=Tis_init,\n",
    "    Tsa_init=Tsa_init,\n",
    "    dzi_init=dzi_init,\n",
    "    dzs_init=dzs_init,\n",
    "    salinity=salinity_init,\n",
    "    snow_thickness_threshold=0.05,\n",
    "    Ta=T_atm,\n",
    "    p=lambda time: 0.0,\n",
    "    F_atm_ice=F_atm_ice,\n",
    "    F_atm_snow=F_atm_snow,\n",
    "    F_sw=F_sw,\n",
    "    F_ocn=F_ocn,\n",
    ")"
   ]
  },
  {
   "cell_type": "code",
   "execution_count": null,
   "id": "d6a57011",
   "metadata": {},
   "outputs": [],
   "source": [
    "vis_3 = uv.animate([process_melt_without_prec], ue.rho_w, ue.rho_s)"
   ]
  },
  {
   "cell_type": "code",
   "execution_count": null,
   "id": "b4683619",
   "metadata": {
    "scrolled": false
   },
   "outputs": [],
   "source": [
    "vis_3"
   ]
  },
  {
   "cell_type": "markdown",
   "id": "19c984b1",
   "metadata": {},
   "source": [
    "### 4. Аналогично (3), но с осадками"
   ]
  },
  {
   "cell_type": "code",
   "execution_count": null,
   "id": "6cb2ac5b",
   "metadata": {},
   "outputs": [],
   "source": [
    "melt_time_end=3600*240\n",
    "\n",
    "Tis_init = -15.0\n",
    "Tsa_init = -20.0\n",
    "ice_thickness_init = 2.0\n",
    "snow_thickness_init = 0.1\n",
    "Ni = 20\n",
    "Ns = 10\n",
    "dzi_init = np.full(Ni, ice_thickness_init/Ni)\n",
    "dzs_init = np.full(Ns, snow_thickness_init/Ns)\n",
    "salinity_init = np.linspace(4.0, 1.0, Ni)"
   ]
  },
  {
   "cell_type": "code",
   "execution_count": null,
   "id": "826ef108",
   "metadata": {},
   "outputs": [],
   "source": [
    "process_melt_with_prec = ue.main_process\\\n",
    "(\n",
    "    time_step=3600,\n",
    "    time_end=3600*250,\n",
    "    N_pseudoiter=50,\n",
    "    Ti_init=Ti_func_init(ice_cells_init),\n",
    "    Ts_init=Ts_func_init(snow_cells_init),\n",
    "    Toi_init=ue.Tf_w,\n",
    "    Tis_init=Tis_init,\n",
    "    Tsa_init=Tsa_init,\n",
    "    dzi_init=dzi_init,\n",
    "    dzs_init=dzs_init,\n",
    "    salinity=salinity_init,\n",
    "    snow_thickness_threshold=0.05,\n",
    "    Ta=T_atm,\n",
    "    p=lambda time: 1e-7,\n",
    "    F_atm_ice=F_atm_ice,\n",
    "    F_atm_snow=F_atm_snow,\n",
    "    F_sw=F_sw,\n",
    "    F_ocn=F_ocn,\n",
    ")"
   ]
  },
  {
   "cell_type": "code",
   "execution_count": null,
   "id": "996542f9",
   "metadata": {},
   "outputs": [],
   "source": [
    "vis_4 = uv.animate([process_melt_with_prec], ue.rho_w, ue.rho_s)"
   ]
  },
  {
   "cell_type": "code",
   "execution_count": null,
   "id": "6a33c443",
   "metadata": {
    "scrolled": false
   },
   "outputs": [],
   "source": [
    "vis_4"
   ]
  },
  {
   "cell_type": "markdown",
   "id": "629a5405",
   "metadata": {},
   "source": [
    "### 5. Постепенное нарастание снежного покрова"
   ]
  },
  {
   "cell_type": "code",
   "execution_count": null,
   "id": "e963c167",
   "metadata": {},
   "outputs": [],
   "source": [
    "freeze_time_end=3600*240\n",
    "\n",
    "Tis_init = -10.0\n",
    "Tsa_init = -10.0\n",
    "ice_thickness_init = 2.0\n",
    "snow_thickness_init = 0.0\n",
    "Ni = 20\n",
    "Ns = 10\n",
    "dzi_init = np.full(Ni, ice_thickness_init/Ni)\n",
    "dzs_init = np.full(Ns, snow_thickness_init/Ns)"
   ]
  },
  {
   "cell_type": "code",
   "execution_count": null,
   "id": "5805dee8",
   "metadata": {},
   "outputs": [],
   "source": [
    "X = np.linspace(0, 500, 50)\n",
    "\n",
    "plt.figure(figsize=(15, 10))\n",
    "plt.plot(X, np.array([Ta(t*3600) for t in X]))\n",
    "plt.xlabel('time')\n",
    "plt.ylabel(r'$T, ^\\circ C$')\n",
    "plt.grid()\n",
    "plt.show()"
   ]
  },
  {
   "cell_type": "code",
   "execution_count": null,
   "id": "9ca5d5dc",
   "metadata": {
    "scrolled": true
   },
   "outputs": [],
   "source": [
    "dzi_arr, dzs_arr,\\\n",
    "timeline,\\\n",
    "temp_oi_arr, temp_ice_arr, temp_is_arr, temp_snow_arr, temp_sa_arr,\\\n",
    "rho_ice_arr,\\\n",
    "snow_filter = ue.main_process\\\n",
    "(\n",
    "    time_step=3600,\n",
    "    time_end=3600*500,\n",
    "    N_pseudoiter=50,\n",
    "    Ti_init=ue.Tf_w + np.arange(0.5, Ni)/Ni * (Tis_init - ue.Tf_w),\n",
    "    Ts_init=Tis_init + np.arange(0.5, Ns)/Ns * (Tsa_init - Tis_init),\n",
    "    Toi_init=ue.Tf_w,\n",
    "    Tis_init=Tis_init,\n",
    "    Tsa_init=Tsa_init,\n",
    "    dzi_init=dzi_init,\n",
    "    dzs_init=dzs_init,\n",
    "    snow_thickness_threshold=0.05,\n",
    "    To = lambda t: ue.Tf_w,\n",
    "    Ta = lambda t: (10.0 - 30.0*t/freeze_time_end) if t < freeze_time_end else -20.0,\n",
    "    p = lambda t: 1e-7,\n",
    "    F_sw = lambda t: 100.0,\n",
    "    u_a = lambda t: 15.0\n",
    ")"
   ]
  },
  {
   "cell_type": "code",
   "execution_count": null,
   "id": "80d99a72",
   "metadata": {},
   "outputs": [],
   "source": [
    "vis_5 = uv.animate(dzi_arr, dzs_arr,\n",
    "                   temp_oi_arr, temp_ice_arr, temp_is_arr, temp_snow_arr, temp_sa_arr,\n",
    "                   timeline,\n",
    "                   rho_ice_arr, ue.rho_w, ue.rho_s,\n",
    "                   snow_filter)"
   ]
  },
  {
   "cell_type": "code",
   "execution_count": null,
   "id": "844356af",
   "metadata": {
    "scrolled": false
   },
   "outputs": [],
   "source": [
    "vis_5"
   ]
  },
  {
   "cell_type": "markdown",
   "id": "18b14a35",
   "metadata": {},
   "source": [
    "## 6. Круглогодичный эксперимент"
   ]
  },
  {
   "cell_type": "code",
   "execution_count": 5,
   "id": "f644e9bd",
   "metadata": {},
   "outputs": [],
   "source": [
    "def linear_year_exp(winter_time, spring_time, summer_time, autumn_time,\n",
    "                    lowest_temp, highest_temp,\n",
    "                    lowest_p, highest_p,\n",
    "                    t):\n",
    "    t %= (winter_time + spring_time + summer_time + autumn_time)\n",
    "    if t < winter_time: # winter\n",
    "        return lowest_temp, highest_p\n",
    "    elif t < (winter_time + spring_time): # spring\n",
    "        return lowest_temp + (t - winter_time)*(highest_temp - lowest_temp)/spring_time,\\\n",
    "               highest_p + (t - winter_time)*(lowest_p - highest_p)/spring_time\n",
    "    elif t < (winter_time + spring_time + summer_time): # summer\n",
    "        return highest_temp, lowest_p\n",
    "    else: # autumn\n",
    "        return highest_temp + (t - (winter_time + spring_time + summer_time))\\\n",
    "                             *(lowest_temp - highest_temp)/autumn_time,\\\n",
    "               lowest_p + (t - (winter_time + spring_time + summer_time))*(highest_p - lowest_p)/autumn_time"
   ]
  },
  {
   "cell_type": "code",
   "execution_count": 6,
   "id": "a760ea12",
   "metadata": {},
   "outputs": [],
   "source": [
    "winter_time = 350*3600.0\n",
    "spring_time = 200*3600.0\n",
    "summer_time = 150*3600.0\n",
    "autumn_time = 200*3600.0\n",
    "year_time = winter_time + spring_time + summer_time + autumn_time\n",
    "\n",
    "lowest_temp = -30.0\n",
    "highest_temp = 10.0\n",
    "lowest_p = 0.0\n",
    "highest_p = 1e-8\n",
    "\n",
    "Tis_init = -15.0\n",
    "Tsa_init = -20.0\n",
    "ice_thickness_init = 4.0\n",
    "snow_thickness_init = 0.1\n",
    "Ni = 30\n",
    "Ns = 5\n",
    "dzi_init = np.full(Ni, ice_thickness_init/Ni)\n",
    "dzs_init = np.full(Ns, snow_thickness_init/Ns)\n",
    "salinity_init = np.linspace(4.0, 1.0, Ni)"
   ]
  },
  {
   "cell_type": "code",
   "execution_count": 7,
   "id": "62b273b7",
   "metadata": {},
   "outputs": [
    {
     "ename": "FileNotFoundError",
     "evalue": "[Errno 2] No such file or directory: 'imgs/temp_and_prec.png'",
     "output_type": "error",
     "traceback": [
      "\u001b[0;31m---------------------------------------------------------------------------\u001b[0m",
      "\u001b[0;31mFileNotFoundError\u001b[0m                         Traceback (most recent call last)",
      "\u001b[0;32m<ipython-input-7-b6bb66da88f7>\u001b[0m in \u001b[0;36m<module>\u001b[0;34m\u001b[0m\n\u001b[1;32m     27\u001b[0m \u001b[0max2\u001b[0m\u001b[0;34m.\u001b[0m\u001b[0myaxis\u001b[0m\u001b[0;34m.\u001b[0m\u001b[0mlabel\u001b[0m\u001b[0;34m.\u001b[0m\u001b[0mset_color\u001b[0m\u001b[0;34m(\u001b[0m\u001b[0;34m'red'\u001b[0m\u001b[0;34m)\u001b[0m\u001b[0;34m\u001b[0m\u001b[0;34m\u001b[0m\u001b[0m\n\u001b[1;32m     28\u001b[0m \u001b[0max1\u001b[0m\u001b[0;34m.\u001b[0m\u001b[0mgrid\u001b[0m\u001b[0;34m(\u001b[0m\u001b[0;34m)\u001b[0m\u001b[0;34m\u001b[0m\u001b[0;34m\u001b[0m\u001b[0m\n\u001b[0;32m---> 29\u001b[0;31m \u001b[0mplt\u001b[0m\u001b[0;34m.\u001b[0m\u001b[0msavefig\u001b[0m\u001b[0;34m(\u001b[0m\u001b[0;34m'imgs/temp_and_prec.png'\u001b[0m\u001b[0;34m)\u001b[0m\u001b[0;34m\u001b[0m\u001b[0;34m\u001b[0m\u001b[0m\n\u001b[0m\u001b[1;32m     30\u001b[0m \u001b[0mplt\u001b[0m\u001b[0;34m.\u001b[0m\u001b[0mshow\u001b[0m\u001b[0;34m(\u001b[0m\u001b[0;34m)\u001b[0m\u001b[0;34m\u001b[0m\u001b[0;34m\u001b[0m\u001b[0m\n",
      "\u001b[0;32m~/anaconda3/lib/python3.8/site-packages/matplotlib/pyplot.py\u001b[0m in \u001b[0;36msavefig\u001b[0;34m(*args, **kwargs)\u001b[0m\n\u001b[1;32m    857\u001b[0m \u001b[0;32mdef\u001b[0m \u001b[0msavefig\u001b[0m\u001b[0;34m(\u001b[0m\u001b[0;34m*\u001b[0m\u001b[0margs\u001b[0m\u001b[0;34m,\u001b[0m \u001b[0;34m**\u001b[0m\u001b[0mkwargs\u001b[0m\u001b[0;34m)\u001b[0m\u001b[0;34m:\u001b[0m\u001b[0;34m\u001b[0m\u001b[0;34m\u001b[0m\u001b[0m\n\u001b[1;32m    858\u001b[0m     \u001b[0mfig\u001b[0m \u001b[0;34m=\u001b[0m \u001b[0mgcf\u001b[0m\u001b[0;34m(\u001b[0m\u001b[0;34m)\u001b[0m\u001b[0;34m\u001b[0m\u001b[0;34m\u001b[0m\u001b[0m\n\u001b[0;32m--> 859\u001b[0;31m     \u001b[0mres\u001b[0m \u001b[0;34m=\u001b[0m \u001b[0mfig\u001b[0m\u001b[0;34m.\u001b[0m\u001b[0msavefig\u001b[0m\u001b[0;34m(\u001b[0m\u001b[0;34m*\u001b[0m\u001b[0margs\u001b[0m\u001b[0;34m,\u001b[0m \u001b[0;34m**\u001b[0m\u001b[0mkwargs\u001b[0m\u001b[0;34m)\u001b[0m\u001b[0;34m\u001b[0m\u001b[0;34m\u001b[0m\u001b[0m\n\u001b[0m\u001b[1;32m    860\u001b[0m     \u001b[0mfig\u001b[0m\u001b[0;34m.\u001b[0m\u001b[0mcanvas\u001b[0m\u001b[0;34m.\u001b[0m\u001b[0mdraw_idle\u001b[0m\u001b[0;34m(\u001b[0m\u001b[0;34m)\u001b[0m   \u001b[0;31m# need this if 'transparent=True' to reset colors\u001b[0m\u001b[0;34m\u001b[0m\u001b[0;34m\u001b[0m\u001b[0m\n\u001b[1;32m    861\u001b[0m     \u001b[0;32mreturn\u001b[0m \u001b[0mres\u001b[0m\u001b[0;34m\u001b[0m\u001b[0;34m\u001b[0m\u001b[0m\n",
      "\u001b[0;32m~/anaconda3/lib/python3.8/site-packages/matplotlib/figure.py\u001b[0m in \u001b[0;36msavefig\u001b[0;34m(self, fname, transparent, **kwargs)\u001b[0m\n\u001b[1;32m   2309\u001b[0m                 \u001b[0mpatch\u001b[0m\u001b[0;34m.\u001b[0m\u001b[0mset_edgecolor\u001b[0m\u001b[0;34m(\u001b[0m\u001b[0;34m'none'\u001b[0m\u001b[0;34m)\u001b[0m\u001b[0;34m\u001b[0m\u001b[0;34m\u001b[0m\u001b[0m\n\u001b[1;32m   2310\u001b[0m \u001b[0;34m\u001b[0m\u001b[0m\n\u001b[0;32m-> 2311\u001b[0;31m         \u001b[0mself\u001b[0m\u001b[0;34m.\u001b[0m\u001b[0mcanvas\u001b[0m\u001b[0;34m.\u001b[0m\u001b[0mprint_figure\u001b[0m\u001b[0;34m(\u001b[0m\u001b[0mfname\u001b[0m\u001b[0;34m,\u001b[0m \u001b[0;34m**\u001b[0m\u001b[0mkwargs\u001b[0m\u001b[0;34m)\u001b[0m\u001b[0;34m\u001b[0m\u001b[0;34m\u001b[0m\u001b[0m\n\u001b[0m\u001b[1;32m   2312\u001b[0m \u001b[0;34m\u001b[0m\u001b[0m\n\u001b[1;32m   2313\u001b[0m         \u001b[0;32mif\u001b[0m \u001b[0mtransparent\u001b[0m\u001b[0;34m:\u001b[0m\u001b[0;34m\u001b[0m\u001b[0;34m\u001b[0m\u001b[0m\n",
      "\u001b[0;32m~/anaconda3/lib/python3.8/site-packages/matplotlib/backend_bases.py\u001b[0m in \u001b[0;36mprint_figure\u001b[0;34m(self, filename, dpi, facecolor, edgecolor, orientation, format, bbox_inches, pad_inches, bbox_extra_artists, backend, **kwargs)\u001b[0m\n\u001b[1;32m   2208\u001b[0m \u001b[0;34m\u001b[0m\u001b[0m\n\u001b[1;32m   2209\u001b[0m             \u001b[0;32mtry\u001b[0m\u001b[0;34m:\u001b[0m\u001b[0;34m\u001b[0m\u001b[0;34m\u001b[0m\u001b[0m\n\u001b[0;32m-> 2210\u001b[0;31m                 result = print_method(\n\u001b[0m\u001b[1;32m   2211\u001b[0m                     \u001b[0mfilename\u001b[0m\u001b[0;34m,\u001b[0m\u001b[0;34m\u001b[0m\u001b[0;34m\u001b[0m\u001b[0m\n\u001b[1;32m   2212\u001b[0m                     \u001b[0mdpi\u001b[0m\u001b[0;34m=\u001b[0m\u001b[0mdpi\u001b[0m\u001b[0;34m,\u001b[0m\u001b[0;34m\u001b[0m\u001b[0;34m\u001b[0m\u001b[0m\n",
      "\u001b[0;32m~/anaconda3/lib/python3.8/site-packages/matplotlib/backend_bases.py\u001b[0m in \u001b[0;36mwrapper\u001b[0;34m(*args, **kwargs)\u001b[0m\n\u001b[1;32m   1637\u001b[0m             \u001b[0mkwargs\u001b[0m\u001b[0;34m.\u001b[0m\u001b[0mpop\u001b[0m\u001b[0;34m(\u001b[0m\u001b[0marg\u001b[0m\u001b[0;34m)\u001b[0m\u001b[0;34m\u001b[0m\u001b[0;34m\u001b[0m\u001b[0m\n\u001b[1;32m   1638\u001b[0m \u001b[0;34m\u001b[0m\u001b[0m\n\u001b[0;32m-> 1639\u001b[0;31m         \u001b[0;32mreturn\u001b[0m \u001b[0mfunc\u001b[0m\u001b[0;34m(\u001b[0m\u001b[0;34m*\u001b[0m\u001b[0margs\u001b[0m\u001b[0;34m,\u001b[0m \u001b[0;34m**\u001b[0m\u001b[0mkwargs\u001b[0m\u001b[0;34m)\u001b[0m\u001b[0;34m\u001b[0m\u001b[0;34m\u001b[0m\u001b[0m\n\u001b[0m\u001b[1;32m   1640\u001b[0m \u001b[0;34m\u001b[0m\u001b[0m\n\u001b[1;32m   1641\u001b[0m     \u001b[0;32mreturn\u001b[0m \u001b[0mwrapper\u001b[0m\u001b[0;34m\u001b[0m\u001b[0;34m\u001b[0m\u001b[0m\n",
      "\u001b[0;32m~/anaconda3/lib/python3.8/site-packages/matplotlib/backends/backend_agg.py\u001b[0m in \u001b[0;36mprint_png\u001b[0;34m(self, filename_or_obj, metadata, pil_kwargs, *args)\u001b[0m\n\u001b[1;32m    508\u001b[0m         \"\"\"\n\u001b[1;32m    509\u001b[0m         \u001b[0mFigureCanvasAgg\u001b[0m\u001b[0;34m.\u001b[0m\u001b[0mdraw\u001b[0m\u001b[0;34m(\u001b[0m\u001b[0mself\u001b[0m\u001b[0;34m)\u001b[0m\u001b[0;34m\u001b[0m\u001b[0;34m\u001b[0m\u001b[0m\n\u001b[0;32m--> 510\u001b[0;31m         mpl.image.imsave(\n\u001b[0m\u001b[1;32m    511\u001b[0m             \u001b[0mfilename_or_obj\u001b[0m\u001b[0;34m,\u001b[0m \u001b[0mself\u001b[0m\u001b[0;34m.\u001b[0m\u001b[0mbuffer_rgba\u001b[0m\u001b[0;34m(\u001b[0m\u001b[0;34m)\u001b[0m\u001b[0;34m,\u001b[0m \u001b[0mformat\u001b[0m\u001b[0;34m=\u001b[0m\u001b[0;34m\"png\"\u001b[0m\u001b[0;34m,\u001b[0m \u001b[0morigin\u001b[0m\u001b[0;34m=\u001b[0m\u001b[0;34m\"upper\"\u001b[0m\u001b[0;34m,\u001b[0m\u001b[0;34m\u001b[0m\u001b[0;34m\u001b[0m\u001b[0m\n\u001b[1;32m    512\u001b[0m             dpi=self.figure.dpi, metadata=metadata, pil_kwargs=pil_kwargs)\n",
      "\u001b[0;32m~/anaconda3/lib/python3.8/site-packages/matplotlib/image.py\u001b[0m in \u001b[0;36mimsave\u001b[0;34m(fname, arr, vmin, vmax, cmap, format, origin, dpi, metadata, pil_kwargs)\u001b[0m\n\u001b[1;32m   1609\u001b[0m         \u001b[0mpil_kwargs\u001b[0m\u001b[0;34m.\u001b[0m\u001b[0msetdefault\u001b[0m\u001b[0;34m(\u001b[0m\u001b[0;34m\"format\"\u001b[0m\u001b[0;34m,\u001b[0m \u001b[0mformat\u001b[0m\u001b[0;34m)\u001b[0m\u001b[0;34m\u001b[0m\u001b[0;34m\u001b[0m\u001b[0m\n\u001b[1;32m   1610\u001b[0m         \u001b[0mpil_kwargs\u001b[0m\u001b[0;34m.\u001b[0m\u001b[0msetdefault\u001b[0m\u001b[0;34m(\u001b[0m\u001b[0;34m\"dpi\"\u001b[0m\u001b[0;34m,\u001b[0m \u001b[0;34m(\u001b[0m\u001b[0mdpi\u001b[0m\u001b[0;34m,\u001b[0m \u001b[0mdpi\u001b[0m\u001b[0;34m)\u001b[0m\u001b[0;34m)\u001b[0m\u001b[0;34m\u001b[0m\u001b[0;34m\u001b[0m\u001b[0m\n\u001b[0;32m-> 1611\u001b[0;31m         \u001b[0mimage\u001b[0m\u001b[0;34m.\u001b[0m\u001b[0msave\u001b[0m\u001b[0;34m(\u001b[0m\u001b[0mfname\u001b[0m\u001b[0;34m,\u001b[0m \u001b[0;34m**\u001b[0m\u001b[0mpil_kwargs\u001b[0m\u001b[0;34m)\u001b[0m\u001b[0;34m\u001b[0m\u001b[0;34m\u001b[0m\u001b[0m\n\u001b[0m\u001b[1;32m   1612\u001b[0m \u001b[0;34m\u001b[0m\u001b[0m\n\u001b[1;32m   1613\u001b[0m \u001b[0;34m\u001b[0m\u001b[0m\n",
      "\u001b[0;32m~/anaconda3/lib/python3.8/site-packages/PIL/Image.py\u001b[0m in \u001b[0;36msave\u001b[0;34m(self, fp, format, **params)\u001b[0m\n\u001b[1;32m   2167\u001b[0m                 \u001b[0mfp\u001b[0m \u001b[0;34m=\u001b[0m \u001b[0mbuiltins\u001b[0m\u001b[0;34m.\u001b[0m\u001b[0mopen\u001b[0m\u001b[0;34m(\u001b[0m\u001b[0mfilename\u001b[0m\u001b[0;34m,\u001b[0m \u001b[0;34m\"r+b\"\u001b[0m\u001b[0;34m)\u001b[0m\u001b[0;34m\u001b[0m\u001b[0;34m\u001b[0m\u001b[0m\n\u001b[1;32m   2168\u001b[0m             \u001b[0;32melse\u001b[0m\u001b[0;34m:\u001b[0m\u001b[0;34m\u001b[0m\u001b[0;34m\u001b[0m\u001b[0m\n\u001b[0;32m-> 2169\u001b[0;31m                 \u001b[0mfp\u001b[0m \u001b[0;34m=\u001b[0m \u001b[0mbuiltins\u001b[0m\u001b[0;34m.\u001b[0m\u001b[0mopen\u001b[0m\u001b[0;34m(\u001b[0m\u001b[0mfilename\u001b[0m\u001b[0;34m,\u001b[0m \u001b[0;34m\"w+b\"\u001b[0m\u001b[0;34m)\u001b[0m\u001b[0;34m\u001b[0m\u001b[0;34m\u001b[0m\u001b[0m\n\u001b[0m\u001b[1;32m   2170\u001b[0m \u001b[0;34m\u001b[0m\u001b[0m\n\u001b[1;32m   2171\u001b[0m         \u001b[0;32mtry\u001b[0m\u001b[0;34m:\u001b[0m\u001b[0;34m\u001b[0m\u001b[0;34m\u001b[0m\u001b[0m\n",
      "\u001b[0;31mFileNotFoundError\u001b[0m: [Errno 2] No such file or directory: 'imgs/temp_and_prec.png'"
     ]
    },
    {
     "data": {
      "image/png": "[encoded data removed]",
      "text/plain": [
       "<Figure size 1080x720 with 2 Axes>"
      ]
     },
     "metadata": {
      "needs_background": "light"
     },
     "output_type": "display_data"
    }
   ],
   "source": [
    "time_arr = np.linspace(0, 3*year_time, 100)\n",
    "\n",
    "fig, ax1 = plt.subplots(figsize=(15, 10))\n",
    "ax1.set_title('Temperature and precipitation evolution', size=25)\n",
    "ax2 = ax1.twinx()\n",
    "ax1.plot(time_arr/3600.0,\n",
    "         [linear_year_exp(winter_time, spring_time, summer_time, autumn_time,\n",
    "                          lowest_temp, highest_temp,\n",
    "                          lowest_p, highest_p, t)[0] for t in time_arr],\n",
    "         label='tempreature', color='b')\n",
    "ax2.plot(time_arr/3600.0,\n",
    "         [linear_year_exp(winter_time, spring_time, summer_time, autumn_time,\n",
    "                          lowest_temp, highest_temp,\n",
    "                          lowest_p, highest_p, t)[1] for t in time_arr],\n",
    "         label='precipitation', color='r')\n",
    "ax1.spines['bottom'].set_color('b')\n",
    "ax1.set_xlabel('Time, h', size=15)\n",
    "ax1.set_ylabel(r'Temperature, $^{\\circ}C$', size=15)\n",
    "ax2.set_ylabel(r'Precipitation, m/s', size=15)\n",
    "ax1.tick_params(axis='both', labelsize=15)\n",
    "ax2.tick_params(axis='y', labelsize=15)\n",
    "ax2.spines['left'].set_color('b')\n",
    "ax1.tick_params(axis='y', colors='b')\n",
    "ax1.yaxis.label.set_color('b')\n",
    "ax2.spines['right'].set_color('red')\n",
    "ax2.tick_params(axis='y', colors='red')\n",
    "ax2.yaxis.label.set_color('red')\n",
    "ax1.grid()\n",
    "plt.savefig('imgs/temp_and_prec.png')\n",
    "plt.show()"
   ]
  },
  {
   "cell_type": "code",
   "execution_count": null,
   "id": "9c70c16c",
   "metadata": {},
   "outputs": [],
   "source": [
    "dzi_arr, dzs_arr,\\\n",
    "timeline,\\\n",
    "temp_oi_arr, temp_ice_arr, temp_is_arr, temp_snow_arr, temp_sa_arr,\\\n",
    "rho_ice_arr,\\\n",
    "snow_filter = ue.main_process\\\n",
    "(\n",
    "    time_step=3600.0,\n",
    "    time_end=3*year_time,\n",
    "    N_pseudoiter=25,\n",
    "    Ti_init=ue.Tf_w + np.arange(0.5, Ni)/Ni * (Tis_init - ue.Tf_w),\n",
    "    Ts_init=Tis_init + np.arange(0.5, Ns)/Ns * (Tsa_init - Tis_init),\n",
    "    Toi_init=ue.Tf_w,\n",
    "    Tis_init=Tis_init,\n",
    "    Tsa_init=Tsa_init,\n",
    "    dzi_init=dzi_init,\n",
    "    dzs_init=dzs_init,\n",
    "    salinity=salinity_init,\n",
    "    snow_thickness_threshold=0.05,\n",
    "    To = lambda t: ue.Tf_w,\n",
    "    Ta = lambda t: linear_year_exp(winter_time, spring_time, summer_time, autumn_time,\n",
    "                                   lowest_temp, highest_temp,\n",
    "                                   lowest_p, highest_p, t)[0],\n",
    "    p = lambda t: linear_year_exp(winter_time, spring_time, summer_time, autumn_time,\n",
    "                                   lowest_temp, highest_temp,\n",
    "                                   lowest_p, highest_p, t)[1],\n",
    "    F_sw = lambda t: 100.0,\n",
    "    u_a = lambda t: 15.0\n",
    ")"
   ]
  },
  {
   "cell_type": "code",
   "execution_count": null,
   "id": "a4b4a14f",
   "metadata": {},
   "outputs": [],
   "source": [
    "end_proc = -1\n",
    "\n",
    "vis_year = uv.animate(dzi_arr[:end_proc], dzs_arr[:end_proc],\n",
    "                      temp_oi_arr[:end_proc], temp_ice_arr[:end_proc], temp_is_arr[:end_proc], temp_snow_arr[:end_proc], temp_sa_arr[:end_proc],\n",
    "                      timeline[:end_proc],\n",
    "                      rho_ice_arr[:end_proc], ue.rho_w,ue.rho_s,\n",
    "                      snow_filter[:end_proc])\n",
    "\n",
    "vis_year"
   ]
  },
  {
   "cell_type": "code",
   "execution_count": null,
   "id": "03332a67",
   "metadata": {},
   "outputs": [],
   "source": [
    "vis_year.save(\"3year.mp4\", dpi=200)"
   ]
  },
  {
   "cell_type": "code",
   "execution_count": null,
   "id": "fde7d194",
   "metadata": {},
   "outputs": [],
   "source": [
    "def sec_order(arr, dz):\n",
    "    first_order = np.gradient(arr, np.cumsum(dz) - dz/2, edge_order=2)\n",
    "    second_order = np.gradient(first_order, np.cumsum(dz) - dz/2, edge_order=2)\n",
    "    return second_order"
   ]
  },
  {
   "cell_type": "code",
   "execution_count": null,
   "id": "1b0276b6",
   "metadata": {},
   "outputs": [],
   "source": [
    "avg_abs_secord_winter = np.average([np.abs(sec_order(temp_ice, dzi))[1:-1]\\\n",
    "                                    for temp_ice, dzi\\\n",
    "                                    in zip(np.concatenate((temp_ice_arr[:350],\n",
    "                                                          temp_ice_arr[900:1250],\n",
    "                                                          temp_ice_arr[1800:2150])),\n",
    "                                           np.concatenate((dzi_arr[:350],\n",
    "                                                          dzi_arr[900:1250],\n",
    "                                                          dzi_arr[1800:2150])))],\n",
    "                                   axis=0)\n",
    "\n",
    "avg_abs_secord_spring = np.average([np.abs(sec_order(temp_ice, dzi))[1:-1]\\\n",
    "                                    for temp_ice, dzi\\\n",
    "                                    in zip(np.concatenate((temp_ice_arr[350:550],\n",
    "                                                          temp_ice_arr[1250:1450],\n",
    "                                                          temp_ice_arr[2150:2350])),\n",
    "                                           np.concatenate((dzi_arr[350:550],\n",
    "                                                          dzi_arr[1250:1450],\n",
    "                                                          dzi_arr[2150:2350])))],\n",
    "                                   axis=0)\n",
    "\n",
    "avg_abs_secord_summer = np.average([np.abs(sec_order(temp_ice, dzi))[1:-1]\\\n",
    "                                    for temp_ice, dzi\\\n",
    "                                    in zip(np.concatenate((temp_ice_arr[550:700],\n",
    "                                                          temp_ice_arr[1450:1600],\n",
    "                                                          temp_ice_arr[2350:2500])),\n",
    "                                           np.concatenate((dzi_arr[550:700],\n",
    "                                                          dzi_arr[1450:1600],\n",
    "                                                          dzi_arr[2350:2500])))],\n",
    "                                   axis=0)\n",
    "\n",
    "avg_abs_secord_autumn = np.average([np.abs(sec_order(temp_ice, dzi))[1:-1]\\\n",
    "                                    for temp_ice, dzi\\\n",
    "                                    in zip(np.concatenate((temp_ice_arr[700:900],\n",
    "                                                          temp_ice_arr[1600:1800],\n",
    "                                                          temp_ice_arr[2500:2700])),\n",
    "                                           np.concatenate((dzi_arr[700:900],\n",
    "                                                          dzi_arr[1600:1800],\n",
    "                                                          dzi_arr[2500:2700])))],\n",
    "                                   axis=0)\n",
    "\n",
    "avg_abs_secord_year = np.average([np.abs(sec_order(temp_ice, dzi))[1:-1]\\\n",
    "                                    for temp_ice, dzi\\\n",
    "                                    in zip(temp_ice_arr, dzi_arr)],\n",
    "                                   axis=0)"
   ]
  },
  {
   "cell_type": "code",
   "execution_count": null,
   "id": "e93257ab",
   "metadata": {},
   "outputs": [],
   "source": [
    "plt.figure(figsize=(15, 10))\n",
    "plt.title(\"Average magnitude of temperature second derivative\", size=25)\n",
    "plt.plot(avg_abs_secord_winter, np.linspace(1/Ni, 1-1/Ni, Ni-2), label='winter')\n",
    "plt.plot(avg_abs_secord_spring, np.linspace(1/Ni, 1-1/Ni, Ni-2), label='spring')\n",
    "plt.plot(avg_abs_secord_summer, np.linspace(1/Ni, 1-1/Ni, Ni-2), label='summer')\n",
    "plt.plot(avg_abs_secord_autumn, np.linspace(1/Ni, 1-1/Ni, Ni-2), label='autumn')\n",
    "plt.plot(avg_abs_secord_year, np.linspace(1/Ni, 1-1/Ni, Ni-2), label='year', lw=5, alpha=0.5)\n",
    "plt.xlabel(r'Second derivative of temperature, $^{\\circ}C/m^2$', size=20)\n",
    "plt.ylabel('Sigma-coordinate', size=20)\n",
    "plt.xticks(fontsize=15)\n",
    "plt.yticks(fontsize=15)\n",
    "plt.legend(prop={'size':20})\n",
    "plt.grid()\n",
    "plt.savefig('imgs/secord_magnitude.png')\n",
    "plt.show()"
   ]
  },
  {
   "cell_type": "markdown",
   "id": "f171cbac",
   "metadata": {},
   "source": [
    "## 7. Точное решение для круглогодичного эксперимента"
   ]
  },
  {
   "cell_type": "code",
   "execution_count": null,
   "id": "a6742b8e",
   "metadata": {
    "scrolled": true
   },
   "outputs": [],
   "source": [
    "Tis_init = -15.0\n",
    "Tsa_init = -20.0\n",
    "ice_thickness_init = 4.0\n",
    "snow_thickness_init = 0.1\n",
    "Ni = 100\n",
    "Ns = 10\n",
    "Ti_func_init = lambda z: (z*Tis_init + (ice_thickness_init-z)*ue.Tf_w)/ice_thickness_init\n",
    "Ts_func_init = lambda z: (z*Tsa_init + (snow_thickness_init-z)*Tis_init)/snow_thickness_init\n",
    "ice_cells_init = dzi_init.cumsum() - dzi_init/2\n",
    "snow_cells_init = dzs_init.cumsum() - dzs_init/2\n",
    "salinity_init = np.linspace(4.0, 1.0, Ni)\n",
    "\n",
    "dzi_arr_exact, dzs_arr_exact,\\\n",
    "timeline_exact,\\\n",
    "temp_oi_arr_exact, temp_ice_arr_exact, temp_is_arr_exact, temp_snow_arr_exact, temp_sa_arr_exact,\\\n",
    "rho_ice_arr_exact,\\\n",
    "snow_filter_exact = ue.main_process\\\n",
    "(\n",
    "    time_step=3600.0,\n",
    "    time_end=3*year_time,\n",
    "    N_pseudoiter=25,\n",
    "    Ti_init=Ti_func_init(ice_cells_init),\n",
    "    Ts_init=Ts_func_init(snow_cells_init),\n",
    "    Toi_init=ue.Tf_w,\n",
    "    Tis_init=Tis_init,\n",
    "    Tsa_init=Tsa_init,\n",
    "    dzi_init=dzi_init,\n",
    "    dzs_init=dzs_init,\n",
    "    salinity=salinity_init,\n",
    "    snow_thickness_threshold=0.05,\n",
    "    To = lambda t: ue.Tf_w,\n",
    "    Ta = lambda t: linear_year_exp(winter_time, spring_time, summer_time, autumn_time,\n",
    "                                   lowest_temp, highest_temp,\n",
    "                                   lowest_p, highest_p, t)[0],\n",
    "    p = lambda t: linear_year_exp(winter_time, spring_time, summer_time, autumn_time,\n",
    "                                   lowest_temp, highest_temp,\n",
    "                                   lowest_p, highest_p, t)[1],\n",
    "    F_sw = lambda t: 100.0,\n",
    "    u_a = lambda t: 15.0\n",
    ")"
   ]
  },
  {
   "cell_type": "code",
   "execution_count": null,
   "id": "52e5590a",
   "metadata": {},
   "outputs": [],
   "source": [
    "end_proc = -1\n",
    "\n",
    "vis_year_exact = uv.animate(dzi_arr_exact[:end_proc], dzs_arr_exact[:end_proc],\n",
    "                      temp_oi_arr_exact[:end_proc], temp_ice_arr_exact[:end_proc], temp_is_arr_exact[:end_proc], temp_snow_arr_exact[:end_proc], temp_sa_arr_exact[:end_proc],\n",
    "                      timeline_exact[:end_proc],\n",
    "                      rho_ice_arr_exact[:end_proc], ue.rho_w,ue.rho_s,\n",
    "                      snow_filter_exact[:end_proc])"
   ]
  },
  {
   "cell_type": "code",
   "execution_count": null,
   "id": "981b660b",
   "metadata": {},
   "outputs": [],
   "source": [
    "%%time\n",
    "vis_year_exact.save('year_exact.mp4', dpi=150)"
   ]
  },
  {
   "cell_type": "code",
   "execution_count": null,
   "id": "9669823b",
   "metadata": {},
   "outputs": [],
   "source": [
    "def thickening(N, s):\n",
    "    if s == 0:\n",
    "        return np.full(N, 1/N)\n",
    "    else:\n",
    "        return np.array([s*(1 - s)**i/(1 - (1 - s)**N) for i in range(N)])"
   ]
  },
  {
   "cell_type": "code",
   "execution_count": null,
   "id": "1b334142",
   "metadata": {},
   "outputs": [],
   "source": [
    "N = 15\n",
    "\n",
    "plt.figure(figsize=(10, 6))\n",
    "for s in np.arange(0, 0.16, 0.025):\n",
    "    plt.plot([s]*(N+1), np.insert(np.cumsum(thickening(N, s)), 0,  0.0), marker='x', color='black')\n",
    "plt.xticks(np.arange(0, 0.16, 0.025))\n",
    "plt.xlabel('Level of thickening', size=20)\n",
    "plt.ylabel('Sigma-coordinate', size=20)\n",
    "plt.xticks(fontsize=15)\n",
    "plt.yticks(fontsize=15)\n",
    "plt.grid()\n",
    "plt.savefig('imgs/level_of_thickening.png')\n",
    "plt.grid(ls='--')\n",
    "plt.show()"
   ]
  },
  {
   "cell_type": "code",
   "execution_count": null,
   "id": "e1a38502",
   "metadata": {
    "scrolled": true
   },
   "outputs": [],
   "source": [
    "Ni = 8\n",
    "\n",
    "dzi_arr_map = {}\n",
    "dzs_arr_map = {}\n",
    "timeline_map = {}\n",
    "temp_oi_arr_map = {}\n",
    "temp_ice_arr_map = {}\n",
    "temp_is_arr_map = {}\n",
    "temp_snow_arr_map = {}\n",
    "temp_sa_arr_map = {}\n",
    "rho_ice_arr_map = {}\n",
    "snow_filter_map = {}\n",
    "\n",
    "for s in tqdm(np.arange(0, 0.21, 0.05)):\n",
    "    dzi_init = thickening(Ni, s)*ice_thickness_init\n",
    "    ice_cells_init = dzi_init.cumsum() - dzi_init/2\n",
    "    dzi_arr, dzs_arr,\\\n",
    "    timeline,\\\n",
    "    temp_oi_arr, temp_ice_arr, temp_is_arr, temp_snow_arr, temp_sa_arr,\\\n",
    "    rho_ice_arr,\\\n",
    "    snow_filter = ue.main_process\\\n",
    "    (\n",
    "        time_step=3600.0,\n",
    "        time_end=3*year_time,\n",
    "        N_pseudoiter=25,\n",
    "        Ti_init=Ti_func_init(ice_cells_init),\n",
    "        Ts_init=Tis_init + np.arange(0.5, Ns)/Ns * (Tsa_init - Tis_init),\n",
    "        Toi_init=ue.Tf_w,\n",
    "        Tis_init=Tis_init,\n",
    "        Tsa_init=Tsa_init,\n",
    "        dzi_init=dzi_init,\n",
    "        dzs_init=dzs_init,\n",
    "        salinity=salinity_init,\n",
    "        snow_thickness_threshold=0.05,\n",
    "        To = lambda t: ue.Tf_w,\n",
    "        Ta = lambda t: linear_year_exp(winter_time, spring_time, summer_time, autumn_time,\n",
    "                                       lowest_temp, highest_temp,\n",
    "                                       lowest_p, highest_p, t)[0],\n",
    "        p = lambda t: linear_year_exp(winter_time, spring_time, summer_time, autumn_time,\n",
    "                                       lowest_temp, highest_temp,\n",
    "                                       lowest_p, highest_p, t)[1],\n",
    "        F_sw = lambda t: 100.0,\n",
    "        u_a = lambda t: 15.0\n",
    "    )\n",
    "    \n",
    "    dzi_arr_map[s] = dzi_arr\n",
    "    dzs_arr_map[s] = dzs_arr\n",
    "    timeline_map[s] = timeline\n",
    "    temp_oi_arr_map[s] = temp_oi_arr\n",
    "    temp_ice_arr_map[s] = temp_ice_arr\n",
    "    temp_is_arr_map[s] = temp_is_arr\n",
    "    temp_snow_arr_map[s] = temp_snow_arr\n",
    "    temp_sa_arr_map[s] = temp_sa_arr\n",
    "    rho_ice_arr_map[s] = rho_ice_arr\n",
    "    snow_filter_map[s] = snow_filter"
   ]
  },
  {
   "cell_type": "code",
   "execution_count": null,
   "id": "888e2649",
   "metadata": {},
   "outputs": [],
   "source": [
    "def bottomline(dzi, dzs, rho_i,ue.rho_s, ue.rho_w):\n",
    "    return (-np.dot(dzi, rho_i) -ue.rho_s*sum(dzs))/rho_w"
   ]
  },
  {
   "cell_type": "code",
   "execution_count": null,
   "id": "fb873053",
   "metadata": {},
   "outputs": [],
   "source": [
    "def h_error(exact_dz, test_dz):\n",
    "    return sum(exact_dz) - sum(test_dz)"
   ]
  },
  {
   "cell_type": "code",
   "execution_count": null,
   "id": "ccc64968",
   "metadata": {},
   "outputs": [],
   "source": [
    "def bottomline_error(exact_sol_dzi, exact_sol_dzs, exact_sol_rho_i,\n",
    "                     test_sol_dzi, test_sol_dzs, test_sol_rho_i,\n",
    "                    ue.rho_s, ue.rho_w):\n",
    "    return bottomline(exact_sol_dzi, exact_sol_dzs, exact_sol_rho_i,ue.rho_s, ue.rho_w) - \\\n",
    "           bottomline(test_sol_dzi, test_sol_dzs, test_sol_rho_i,ue.rho_s, ue.rho_w)"
   ]
  },
  {
   "cell_type": "code",
   "execution_count": null,
   "id": "fbe66dbe",
   "metadata": {},
   "outputs": [],
   "source": [
    "def T_error(exact_sol_dz, exact_sol_T, test_sol_dz, test_sol_T):\n",
    "    test_sol_dz_new = exact_sol_dz*test_sol_dz.sum()/exact_sol_dz.sum()\n",
    "    test_sol_T_new = np.interp(test_sol_dz_new.cumsum() - test_sol_dz_new/2,\n",
    "                               test_sol_dz.cumsum() - test_sol_dz/2,\n",
    "                               test_sol_T)\n",
    "    return np.sqrt(np.mean(exact_sol_T - test_sol_T_new)**2)"
   ]
  },
  {
   "cell_type": "code",
   "execution_count": null,
   "id": "4329c809",
   "metadata": {},
   "outputs": [],
   "source": [
    "def twoD_error(exact_sol_dzi, exact_sol_dzs, exact_sol_T, exact_sol_rho_i,\n",
    "               test_sol_dzi, test_sol_dzs, test_sol_T, test_sol_rho_i,\n",
    "              ue.rho_s, ue.rho_w):\n",
    "    test_sol_dzi_new = exact_sol_dzi*test_sol_dzi.sum()/exact_sol_dzi.sum()\n",
    "    test_sol_T_new = np.interp(test_sol_dzi_new.cumsum() - test_sol_dzi_new/2,\n",
    "                               test_sol_dzi.cumsum() - test_sol_dzi/2,\n",
    "                               test_sol_T)\n",
    "    exact_bottomline = bottomline(exact_sol_dzi, exact_sol_dzs, exact_sol_rho_i,ue.rho_s, ue.rho_w)\n",
    "    test_bottomline = bottomline(test_sol_dzi, test_sol_dzs, test_sol_rho_i,ue.rho_s, ue.rho_w)\n",
    "    exact_Z = np.cumsum(exact_sol_dzi) - exact_sol_dzi/2 + exact_bottomline\n",
    "    test_Z = np.cumsum(test_sol_dzi_new) - test_sol_dzi_new/2 + test_bottomline\n",
    "    return np.sqrt(np.mean([((e_Z - t_Z)/(exact_Z.max() - exact_Z.min()))**2 + \\\n",
    "                            ((e_T - t_T)/(exact_sol_T.max() - exact_sol_T.min()))**2 \\\n",
    "                            for e_Z, e_T, t_Z, t_T \\\n",
    "                            in zip(exact_Z, exact_sol_T, test_Z, test_sol_T_new)]))"
   ]
  },
  {
   "cell_type": "code",
   "execution_count": null,
   "id": "5555dd95",
   "metadata": {
    "scrolled": true
   },
   "outputs": [],
   "source": [
    "plt.figure(figsize=(40, 10))\n",
    "plt.title('Thickness error', size=25)\n",
    "for s in tqdm(dzi_arr_map.keys()):\n",
    "    plt.plot(np.array(timeline_map[s])/3600.0,\n",
    "             [h_error(dzi_exact, dzi_test) for dzi_exact, dzi_test in zip(dzi_arr_exact, dzi_arr_map[s])],\n",
    "             label=\"s = {:.2f}\".format(s))\n",
    "plt.xlabel('time, h.', size=20)\n",
    "plt.ylabel(r'$Error, m.$', size=20)\n",
    "plt.xticks(np.arange(0, timeline_map[s][-1]/3600.0, 100), fontsize=15)\n",
    "plt.yticks(fontsize=15)\n",
    "plt.legend(prop={'size':20})\n",
    "plt.grid()\n",
    "plt.savefig('imgs/errors_h.png')\n",
    "plt.plot()"
   ]
  },
  {
   "cell_type": "code",
   "execution_count": null,
   "id": "27aa5bf6",
   "metadata": {},
   "outputs": [],
   "source": [
    "plt.figure(figsize=(40, 10))\n",
    "plt.title('T error', size=25)\n",
    "for s in tqdm(dzi_arr_map.keys()):\n",
    "    plt.plot(np.array(timeline_map[s])/3600.0,\n",
    "             [T_error(dzi_exact, T_exact, dzi_test, T_test)\\\n",
    "              for dzi_exact, T_exact, dzi_test, T_test\\\n",
    "              in zip(dzi_arr_exact, temp_ice_arr_exact, dzi_arr_map[s], temp_ice_arr_map[s])],\n",
    "             label=\"s = {:.2f}\".format(s))\n",
    "plt.xlabel('time, h.', size=20)\n",
    "plt.ylabel(r'$Error, ^\\circ C$', size=20)\n",
    "plt.xticks(np.arange(0, timeline_map[s][-1]/3600.0, 100), fontsize=15)\n",
    "plt.yticks(fontsize=15)\n",
    "plt.legend(prop={'size':20})\n",
    "plt.grid()\n",
    "plt.savefig('imgs/errors_T.png')\n",
    "plt.plot()"
   ]
  },
  {
   "cell_type": "code",
   "execution_count": null,
   "id": "d124cb7e",
   "metadata": {},
   "outputs": [],
   "source": [
    "plt.figure(figsize=(15, 10))\n",
    "plt.plot(dzi_arr_exact[-1].cumsum() - dzi_arr_exact[-1]/2, temp_ice_arr_exact[-1], label='exact sol')\n",
    "plt.plot(dzi_arr_map[0.2][-1].cumsum() - dzi_arr_map[0.2][-1]/2, temp_ice_arr_map[0.2][-1], label='test sol')\n",
    "plt.legend()\n",
    "plt.grid()\n",
    "plt.show()"
   ]
  },
  {
   "cell_type": "code",
   "execution_count": null,
   "id": "718ccfed",
   "metadata": {},
   "outputs": [],
   "source": [
    "plt.figure(figsize=(40, 10))\n",
    "plt.title('2D error')\n",
    "for s in tqdm(np.arange(0, 0.16, 0.025)):\n",
    "    plt.plot(np.array(timeline_map[s])/3600.0,\n",
    "             [twoD_error(dzi_exact, dzs_exact, T_exact, rho_i_exact,\n",
    "                         dzi_test, dzs_test, T_test, rho_i_test,\n",
    "                        ue.rho_s, ue.rho_w)\\\n",
    "              for dzi_exact, dzs_exact, T_exact, rho_i_exact, dzi_test, dzs_test, T_test, rho_i_test\\\n",
    "              in zip(dzi_arr_exact, dzs_arr_exact, temp_ice_arr_exact, rho_ice_arr_exact,\n",
    "                     dzi_arr_map[s], dzs_arr_map[s], temp_ice_arr_map[s], rho_ice_arr_map[s])],\n",
    "             label=\"s = {:.2f}\".format(s))\n",
    "plt.legend()\n",
    "plt.grid()\n",
    "plt.plot()"
   ]
  },
  {
   "cell_type": "code",
   "execution_count": null,
   "id": "b9e9f640",
   "metadata": {},
   "outputs": [],
   "source": [
    "plt.figure(figsize=(40, 10))\n",
    "plt.title('Bottomline error')\n",
    "for s in tqdm(dzi_arr_map.keys()):\n",
    "    plt.plot(np.array(timeline_map[s])/3600.0, \n",
    "             [bottomline_error(dzi_exact, dzs_exact, rho_i_exact,\n",
    "                               dzi_test, dzs_test, rho_i_test,\n",
    "                              ue.rho_s, ue.rho_w)\\\n",
    "              for dzi_exact, dzs_exact, rho_i_exact, dzi_test, dzs_test, rho_i_test\\\n",
    "              in zip(dzi_arr_exact, dzs_arr_exact, rho_ice_arr_exact,\n",
    "                     dzi_arr_map[s], dzs_arr_map[s], rho_ice_arr_map[s])],\n",
    "             label=\"s = {:.2f}\".format(s))\n",
    "plt.legend()\n",
    "plt.grid()\n",
    "plt.savefig('imgs/errors_bottomline.png')\n",
    "plt.plot()"
   ]
  },
  {
   "cell_type": "code",
   "execution_count": null,
   "id": "ed19ea17",
   "metadata": {},
   "outputs": [],
   "source": [
    "end_proc = -1\n",
    "s = list(dzi_arr_map.keys())[-2]\n",
    "\n",
    "vis_year_test = uv.animate(dzi_arr_map[s][:end_proc], dzs_arr_map[s][:end_proc],\n",
    "                           temp_oi_arr_map[s][:end_proc], temp_ice_arr_map[s][:end_proc],\n",
    "                           temp_is_arr_map[s][:end_proc], temp_snow_arr_map[s][:end_proc],\n",
    "                           temp_sa_arr_map[s][:end_proc],\n",
    "                           timeline_map[s][:end_proc],\n",
    "                           rho_ice_arr_map[s][:end_proc], ue.rho_w,ue.rho_s,\n",
    "                           snow_filter_map[s][:end_proc])"
   ]
  },
  {
   "cell_type": "code",
   "execution_count": null,
   "id": "7b3dff01",
   "metadata": {},
   "outputs": [],
   "source": [
    "vis_year_test.save('imgs/thick_3year.mp4', dpi=150)"
   ]
  },
  {
   "cell_type": "code",
   "execution_count": null,
   "id": "e2876ce8",
   "metadata": {},
   "outputs": [],
   "source": [
    "ice_cells_init"
   ]
  },
  {
   "cell_type": "code",
   "execution_count": null,
   "id": "f390cfa7",
   "metadata": {},
   "outputs": [],
   "source": [
    "s = 0.15\n",
    "\n",
    "dzi_arr_map_n = {}\n",
    "dzs_arr_map_n = {}\n",
    "timeline_map_n = {}\n",
    "temp_oi_arr_map_n = {}\n",
    "temp_ice_arr_map_n = {}\n",
    "temp_is_arr_map_n = {}\n",
    "temp_snow_arr_map_n = {}\n",
    "temp_sa_arr_map_n = {}\n",
    "rho_ice_arr_map_n = {}\n",
    "snow_filter_map_n = {}\n",
    "\n",
    "for Ni in tqdm([5, 8, 10, 15, 20]):\n",
    "    dzi_init = thickening(Ni, s)*ice_thickness_init\n",
    "    ice_cells_init = dzi_init.cumsum() - dzi_init/2\n",
    "    salinity_init = np.linspace(4.0, 1.0, Ni)\n",
    "    dzi_arr, dzs_arr,\\\n",
    "    timeline,\\\n",
    "    temp_oi_arr, temp_ice_arr, temp_is_arr, temp_snow_arr, temp_sa_arr,\\\n",
    "    rho_ice_arr,\\\n",
    "    snow_filter = ue.main_process\\\n",
    "    (\n",
    "        time_step=3600.0,\n",
    "        time_end=3*year_time,\n",
    "        N_pseudoiter=25,\n",
    "        Ti_init=Ti_func_init(ice_cells_init),\n",
    "        Ts_init=Tis_init + np.arange(0.5, Ns)/Ns * (Tsa_init - Tis_init),\n",
    "        Toi_init=ue.Tf_w,\n",
    "        Tis_init=Tis_init,\n",
    "        Tsa_init=Tsa_init,\n",
    "        dzi_init=dzi_init,\n",
    "        dzs_init=dzs_init,\n",
    "        salinity=salinity_init,\n",
    "        snow_thickness_threshold=0.05,\n",
    "        To = lambda t: ue.Tf_w,\n",
    "        Ta = lambda t: linear_year_exp(winter_time, spring_time, summer_time, autumn_time,\n",
    "                                       lowest_temp, highest_temp,\n",
    "                                       lowest_p, highest_p, t)[0],\n",
    "        p = lambda t: linear_year_exp(winter_time, spring_time, summer_time, autumn_time,\n",
    "                                       lowest_temp, highest_temp,\n",
    "                                       lowest_p, highest_p, t)[1],\n",
    "        F_sw = lambda t: 100.0,\n",
    "        u_a = lambda t: 15.0\n",
    "    )\n",
    "    \n",
    "    dzi_arr_map_n[Ni] = dzi_arr\n",
    "    dzs_arr_map_n[Ni] = dzs_arr\n",
    "    timeline_map_n[Ni] = timeline\n",
    "    temp_oi_arr_map_n[Ni] = temp_oi_arr\n",
    "    temp_ice_arr_map_n[Ni] = temp_ice_arr\n",
    "    temp_is_arr_map_n[Ni] = temp_is_arr\n",
    "    temp_snow_arr_map_n[Ni] = temp_snow_arr\n",
    "    temp_sa_arr_map_n[Ni] = temp_sa_arr\n",
    "    rho_ice_arr_map_n[Ni] = rho_ice_arr\n",
    "    snow_filter_map_n[Ni] = snow_filter"
   ]
  },
  {
   "cell_type": "code",
   "execution_count": null,
   "id": "006f33b0",
   "metadata": {},
   "outputs": [],
   "source": [
    "plt.figure(figsize=(40, 10))\n",
    "plt.title('Thickness error', size=25)\n",
    "for Ni in dzi_arr_map_n.keys():\n",
    "    plt.plot(np.array(timeline_map_n[Ni])/3600.0,\n",
    "             [h_error(dzi_exact, dzi_test) for dzi_exact, dzi_test\\\n",
    "              in zip(dzi_arr_exact, dzi_arr_map_n[Ni])],\n",
    "             label=\"N = {}\".format(Ni))\n",
    "plt.xlabel('time, h.', size=20)\n",
    "plt.ylabel(r'$Error, m.$', size=20)\n",
    "plt.xticks(np.arange(0, timeline_map_n[Ni][-1]/3600.0, 100), fontsize=15)\n",
    "plt.yticks(fontsize=15)\n",
    "plt.legend(prop={'size':20})\n",
    "plt.grid()\n",
    "plt.savefig('imgs/N_errors_h.png')\n",
    "plt.plot()"
   ]
  },
  {
   "cell_type": "code",
   "execution_count": null,
   "id": "9d048e2c",
   "metadata": {},
   "outputs": [],
   "source": [
    "plt.figure(figsize=(40, 10))\n",
    "plt.title('T error', size=25)\n",
    "for Ni in dzi_arr_map_n.keys():\n",
    "    plt.plot(np.array(timeline_map_n[Ni])/3600.0,\n",
    "             [T_error(dzi_exact, T_exact, dzi_test, T_test)\\\n",
    "              for dzi_exact, T_exact, dzi_test, T_test\\\n",
    "              in zip(dzi_arr_exact, temp_ice_arr_exact, dzi_arr_map_n[Ni], temp_ice_arr_map_n[Ni])],\n",
    "             label=\"N = {}\".format(Ni))\n",
    "plt.xlabel('time, h.', size=20)\n",
    "plt.ylabel(r'$Error, ^\\circ C$', size=20)\n",
    "plt.xticks(np.arange(0, timeline_map_n[Ni][-1]/3600.0, 100), fontsize=15)\n",
    "plt.yticks(fontsize=15)\n",
    "plt.legend(prop={'size':20})\n",
    "plt.grid()\n",
    "plt.savefig('imgs/N_errors_T.png')\n",
    "plt.plot()"
   ]
  },
  {
   "cell_type": "code",
   "execution_count": null,
   "id": "ebac8433",
   "metadata": {},
   "outputs": [],
   "source": [
    "plt.figure(figsize=(40, 10))\n",
    "plt.title('Bottomline error')\n",
    "for Ni in tqdm(dzi_arr_map_n.keys()):\n",
    "    plt.plot(np.array(timeline_map_n[Ni])/3600.0, \n",
    "             [bottomline_error(dzi_exact, dzs_exact, rho_i_exact,\n",
    "                               dzi_test, dzs_test, rho_i_test,\n",
    "                              ue.rho_s, ue.rho_w)\\\n",
    "              for dzi_exact, dzs_exact, rho_i_exact, dzi_test, dzs_test, rho_i_test\\\n",
    "              in zip(dzi_arr_exact, dzs_arr_exact, rho_ice_arr_exact,\n",
    "                     dzi_arr_map_n[Ni], dzs_arr_map_n[Ni], rho_ice_arr_map_n[Ni])],\n",
    "             label=\"N = {}\".format(Ni))\n",
    "plt.legend()\n",
    "plt.grid()\n",
    "plt.savefig('imgs/N_errors_bottomline.png')\n",
    "plt.plot()"
   ]
  }
 ],
 "metadata": {
  "kernelspec": {
   "display_name": "Python 3",
   "language": "python",
   "name": "python3"
  },
  "language_info": {
   "codemirror_mode": {
    "name": "ipython",
    "version": 3
   },
   "file_extension": ".py",
   "mimetype": "text/x-python",
   "name": "python",
   "nbconvert_exporter": "python",
   "pygments_lexer": "ipython3",
   "version": "3.8.8"
  }
 },
 "nbformat": 4,
 "nbformat_minor": 5
}
